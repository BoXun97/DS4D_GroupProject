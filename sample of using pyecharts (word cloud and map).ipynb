{
 "cells": [
  {
   "cell_type": "code",
   "execution_count": null,
   "metadata": {},
   "outputs": [],
   "source": [
    " pip install pyecharts"
   ]
  },
  {
   "cell_type": "code",
   "execution_count": null,
   "metadata": {},
   "outputs": [],
   "source": [
    "from pyecharts.charts import WordCloud\n",
    "\n",
    "data = [('national', 2566),\n",
    " ('government', 1818),\n",
    " ('agreement', 1618),\n",
    " ('peace', 1314),\n",
    " ('political', 1275),\n",
    " ('rights', 1155),\n",
    " ('republic', 1132),\n",
    " ('security', 1116),\n",
    " ('parties', 1029),\n",
    " ('international', 988),\n",
    " ('president', 894),\n",
    " ('law', 889),\n",
    " ('implementation', 863),\n",
    " ('commission', 820),\n",
    " ('public', 807),\n",
    " ('social', 754),\n",
    " ('ep', 747),\n",
    " ('special measures', 712),\n",
    " ('measures', 706)]\n",
    " \n",
    "mywordcloud = WordCloud()\n",
    "mywordcloud.add('',data, shape='diamond')\n",
    "mywordcloud.render('wordcloud.html')"
   ]
  },
  {
   "cell_type": "code",
   "execution_count": null,
   "metadata": {},
   "outputs": [],
   "source": [
    "pip install echarts-countries-pypkg "
   ]
  },
  {
   "cell_type": "code",
   "execution_count": null,
   "metadata": {},
   "outputs": [],
   "source": [
    "from pyecharts import options as opts\n",
    "from pyecharts.charts import Map\n",
    "from pyecharts.faker import Faker\n",
    "import os\n",
    " \n",
    "# 基础数据\n",
    "value = [7, 1, 5, 3, 1,10,12,16,1,18,2,4,2,14,3,2,1,2,5,1,4,1,1,5,6,9,1,1,2,3,5,8,2,8,8,2,2,10,3,5,15,1,1,4,2,1,10,3,37,11,13,5,1,1,\n",
    "        1,6,5,2]\n",
    "attr = [\"Afghanistan\", \"Algeria\", \"Angola\", \"Bahrain\", \"Bangladesh\",\"Bosnia and Herzegovina\",\"Burundi\",\"Central African Republic\",\n",
    "        \"Chad\",\"Colombia\",\"Comoros\",\"Cote d'Ivoire\",\"Croatia\",\"Democratic Republic of Congo\",\"Djibouti\",\"El Salvador\",\"Gabon\",\n",
    "        \"Georgia\",\"Guatemala\",\"Guinea-Bissau\",\"India\",\"Indonesia\",\"Iraq\",\"Ireland\",\"Israel\",\"Kenya\",\"Kosovo\",\"Kurds-Kurdistan\",\n",
    "       \"Lebanon\",\"Liberia\",\"Libya\",\"Mali\",\"Mexico\",\"Myanmar\",\"Nepal\",\"Nicaragua\",\"Niger\",\"Nigeria\",\"Pakistan\",\"Papua New Guinea\",\n",
    "       \"Philippines\",\"Republic of Congo\",\"Russia\",\"Rwanda\",\"Sierra Leone\",\"Solomon Islands\",\"Somalia\",\"South Africa\",\"South Sudan\",\n",
    "       \"Sri Lanka\",\"Sudan\",\"Syria\",\"Tajikistan\",\"Togo\",\"Tunisia\",\"Uganda\",\"Yemen\",\"Zimbabwe\"]\n",
    " \n",
    "data = []\n",
    "for index in range(len(attr)):\n",
    "    city_ionfo=[attr[index],value[index]]\n",
    "    data.append(city_ionfo)\n",
    " \n",
    "c = (\n",
    "    Map()\n",
    "    .add(\"Peace Agreements Involving Children\",data, \"world\")\n",
    "    .set_series_opts(label_opts=opts.LabelOpts(is_show=False))\n",
    "    .set_global_opts(\n",
    "        title_opts=opts.TitleOpts(title=\"Number of Peace Agreements\"),\n",
    "        visualmap_opts=opts.VisualMapOpts(max_=40),\n",
    " \n",
    "    )\n",
    "    .render()\n",
    ")\n",
    " \n",
    "# open html\n",
    "os.system(\"render.html\")"
   ]
  }
 ],
 "metadata": {
  "kernelspec": {
   "display_name": "Python 3",
   "language": "python",
   "name": "python3"
  },
  "language_info": {
   "codemirror_mode": {
    "name": "ipython",
    "version": 3
   },
   "file_extension": ".py",
   "mimetype": "text/x-python",
   "name": "python",
   "nbconvert_exporter": "python",
   "pygments_lexer": "ipython3",
   "version": "3.8.3"
  }
 },
 "nbformat": 4,
 "nbformat_minor": 4
}
