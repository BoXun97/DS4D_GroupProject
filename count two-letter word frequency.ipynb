{
 "cells": [
  {
   "cell_type": "code",
   "execution_count": null,
   "metadata": {},
   "outputs": [],
   "source": [
    "bin_wordlist = []\n",
    "for i in range(len(wordlist)-1):\n",
    "    bin_wordlist.append((wordlist[i],wordlist[i+1]))\n",
    "bin_wordlist #Check the two letters words"
   ]
  },
  {
   "cell_type": "code",
   "execution_count": null,
   "metadata": {},
   "outputs": [],
   "source": [
    "bin_wordlist_set = set(bin_wordlist)\n",
    "bin_wordlist_list = list(bin_wordlist_set) #Delete the repeated words\n",
    "bin_wordlist_list "
   ]
  },
  {
   "cell_type": "code",
   "execution_count": null,
   "metadata": {},
   "outputs": [],
   "source": [
    "bin_wordcount = {}\n",
    "for i in bin_wordlist_list:\n",
    "    bin_wordcount[i] = 0\n",
    "\n",
    "for i in bin_wordlist:\n",
    "    if i in bin_wordcount:\n",
    "        bin_wordcount[i] += 1 #Calculate the frequency of two letters words\n",
    "bin_wordcount"
   ]
  }
 ],
 "metadata": {
  "kernelspec": {
   "display_name": "Python 3",
   "language": "python",
   "name": "python3"
  },
  "language_info": {
   "codemirror_mode": {
    "name": "ipython",
    "version": 3
   },
   "file_extension": ".py",
   "mimetype": "text/x-python",
   "name": "python",
   "nbconvert_exporter": "python",
   "pygments_lexer": "ipython3",
   "version": "3.8.3"
  }
 },
 "nbformat": 4,
 "nbformat_minor": 4
}
