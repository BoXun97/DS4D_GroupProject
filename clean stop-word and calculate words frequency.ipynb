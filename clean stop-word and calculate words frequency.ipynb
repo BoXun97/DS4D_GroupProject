{
 "cells": [
  {
   "cell_type": "code",
   "execution_count": null,
   "metadata": {},
   "outputs": [],
   "source": [
    "pip install nltk"
   ]
  },
  {
   "cell_type": "code",
   "execution_count": null,
   "metadata": {},
   "outputs": [],
   "source": [
    "import nltk\n",
    "nltk.download() "
   ]
  },
  {
   "cell_type": "code",
   "execution_count": null,
   "metadata": {},
   "outputs": [],
   "source": [
    "file = open('pax_corpus.txt',errors = 'ignore')\n",
    "content = file.read()\n",
    "file.close() #Open the text by the format of content"
   ]
  },
  {
   "cell_type": "code",
   "execution_count": null,
   "metadata": {},
   "outputs": [],
   "source": [
    "list_replace = ['\\n', '.', '\\'', ',', '(', ')', '-','+',':','<','>','/','\"','\"']\n",
    "for i in list_replace:\n",
    "    content = content.replace(i, ' ') #Replace special symbols in the file with spaces"
   ]
  },
  {
   "cell_type": "code",
   "execution_count": null,
   "metadata": {},
   "outputs": [],
   "source": [
    "content = content.lower() #Require all words to be lowercase\n",
    "wordlist = content.split()\n",
    "worddict = set(wordlist) #Build my own dictionary"
   ]
  },
  {
   "cell_type": "code",
   "execution_count": null,
   "metadata": {},
   "outputs": [],
   "source": [
    "open_stopwords = open('cleanup_words.txt',errors = 'ignore') #Import the stop word list \n",
    "stopwords = open_stopwords.readlines()\n",
    "open_stopwords.close()\n",
    "stopwords[:8] #Observe the stop word format"
   ]
  },
  {
   "cell_type": "code",
   "execution_count": null,
   "metadata": {},
   "outputs": [],
   "source": [
    "for i in range(len(stopwords)):\n",
    "    stopwords[i] = stopwords[i].strip() \n",
    "stopwords[:8] #Observe the stop word format"
   ]
  },
  {
   "cell_type": "code",
   "execution_count": null,
   "metadata": {},
   "outputs": [],
   "source": [
    "for i in stopwords:\n",
    "    worddict.discard(i) #Remove stop words from the dictionary"
   ]
  },
  {
   "cell_type": "code",
   "execution_count": null,
   "metadata": {},
   "outputs": [],
   "source": [
    "#Some words in the dictionary are counted, those that are not are not counted, and the statistical results are stored in wordcount.\n",
    "worddict_list = list(worddict)\n",
    "wordcount = {}\n",
    "for i in worddict_list:\n",
    "    wordcount[i] = 0 #Initially, all words appearing in worddict are assigned 0\n",
    "\n",
    "for i in wordlist:\n",
    "    if i in wordcount:\n",
    "        wordcount[i] += 1 #Statistical word frequency\n",
    "\n",
    "for i in worddict_list:\n",
    "    if wordcount[i]<700: #Delete words with less than 700 occurrences\n",
    "        wordcount.pop(i)\n",
    "\n",
    "items = list(wordcount.items())\n",
    "items1 = sorted(items,key = lambda x: x[1],reverse=True)    #Sort in descending order of word frequency\n",
    "\n",
    "items1\n"
   ]
  }
 ],
 "metadata": {
  "kernelspec": {
   "display_name": "Python 3",
   "language": "python",
   "name": "python3"
  },
  "language_info": {
   "codemirror_mode": {
    "name": "ipython",
    "version": 3
   },
   "file_extension": ".py",
   "mimetype": "text/x-python",
   "name": "python",
   "nbconvert_exporter": "python",
   "pygments_lexer": "ipython3",
   "version": "3.8.3"
  }
 },
 "nbformat": 4,
 "nbformat_minor": 4
}
