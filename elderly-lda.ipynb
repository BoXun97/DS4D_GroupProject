{
  "nbformat": 4,
  "nbformat_minor": 0,
  "metadata": {
    "colab": {
      "name": "老人lda.ipynb",
      "provenance": [],
      "collapsed_sections": []
    },
    "kernelspec": {
      "name": "python3",
      "display_name": "Python 3"
    },
    "accelerator": "GPU"
  },
  "cells": [
    {
      "cell_type": "code",
      "metadata": {
        "colab": {
          "base_uri": "https://localhost:8080/"
        },
        "id": "ZPtOudZdBpZX",
        "outputId": "92f55b81-b52a-4bb1-a475-b8b196fce96d"
      },
      "source": [
        "from google.colab import drive\n",
        "drive.mount('/content/drive')"
      ],
      "execution_count": 1,
      "outputs": [
        {
          "output_type": "stream",
          "text": [
            "Mounted at /content/drive\n"
          ],
          "name": "stdout"
        }
      ]
    },
    {
      "cell_type": "code",
      "metadata": {
        "id": "2lQmiI_QfamJ",
        "colab": {
          "base_uri": "https://localhost:8080/"
        },
        "outputId": "9645dd9e-5baa-410c-fc22-6e5b680dcdaa"
      },
      "source": [
        "import pandas as pd\n",
        "import numpy as np\n",
        "from google.colab import drive\n",
        "drive.mount('/content/drive')\n",
        "import os\n",
        "\n",
        "os.chdir(\"/content/drive/My Drive/Colab/assignment 2\")"
      ],
      "execution_count": 2,
      "outputs": [
        {
          "output_type": "stream",
          "text": [
            "Drive already mounted at /content/drive; to attempt to forcibly remount, call drive.mount(\"/content/drive\", force_remount=True).\n"
          ],
          "name": "stdout"
        }
      ]
    },
    {
      "cell_type": "code",
      "metadata": {
        "id": "yNLoePn8_YGQ",
        "colab": {
          "base_uri": "https://localhost:8080/",
          "height": 581
        },
        "outputId": "07428c97-bbda-46d0-e1c7-18ed27bc7be6"
      },
      "source": [
        "myDataFrame2 = pd.read_csv('elderly.csv')\n",
        "myDataFrame2.head()"
      ],
      "execution_count": 12,
      "outputs": [
        {
          "output_type": "execute_result",
          "data": {
            "text/html": [
              "<div>\n",
              "<style scoped>\n",
              "    .dataframe tbody tr th:only-of-type {\n",
              "        vertical-align: middle;\n",
              "    }\n",
              "\n",
              "    .dataframe tbody tr th {\n",
              "        vertical-align: top;\n",
              "    }\n",
              "\n",
              "    .dataframe thead th {\n",
              "        text-align: right;\n",
              "    }\n",
              "</style>\n",
              "<table border=\"1\" class=\"dataframe\">\n",
              "  <thead>\n",
              "    <tr style=\"text-align: right;\">\n",
              "      <th></th>\n",
              "      <th>AgreementId</th>\n",
              "      <th>Version</th>\n",
              "      <th>Name</th>\n",
              "      <th>Region</th>\n",
              "      <th>Country</th>\n",
              "      <th>Peace Process</th>\n",
              "      <th>Peace Process Name</th>\n",
              "      <th>Stage</th>\n",
              "      <th>Signed Date</th>\n",
              "      <th>Agreement/Conflict Level</th>\n",
              "      <th>Conflict Nature</th>\n",
              "      <th>Agreement Status</th>\n",
              "      <th>Agreement Text</th>\n",
              "    </tr>\n",
              "  </thead>\n",
              "  <tbody>\n",
              "    <tr>\n",
              "      <th>0</th>\n",
              "      <td>349</td>\n",
              "      <td>1</td>\n",
              "      <td>Dar-Es-Salaam Declaration on Peace, Security, ...</td>\n",
              "      <td>Africa (excl MENA)</td>\n",
              "      <td>Angola/Burundi/Central African Republic/Democr...</td>\n",
              "      <td>6</td>\n",
              "      <td>African Great Lakes: Regional Process</td>\n",
              "      <td>SubPar</td>\n",
              "      <td>2004-11-20</td>\n",
              "      <td>InterIntra</td>\n",
              "      <td>Government</td>\n",
              "      <td>Multiparty signed/agreed</td>\n",
              "      <td>I. PREAMBLE\\r\\n\\r\\n1. We, the Heads of State a...</td>\n",
              "    </tr>\n",
              "    <tr>\n",
              "      <th>1</th>\n",
              "      <td>1437</td>\n",
              "      <td>1</td>\n",
              "      <td>National Action Charter of Bahrain</td>\n",
              "      <td>Middle East and North Africa</td>\n",
              "      <td>Bahrain</td>\n",
              "      <td>10</td>\n",
              "      <td>Bahrain: Reform-based peace process</td>\n",
              "      <td>SubPar</td>\n",
              "      <td>2001-02-15</td>\n",
              "      <td>Intra</td>\n",
              "      <td>Government</td>\n",
              "      <td>Unilateral document</td>\n",
              "      <td>National Action Charter\\r\\n\\r\\nPreamble\\r\\n\\r\\...</td>\n",
              "    </tr>\n",
              "    <tr>\n",
              "      <th>2</th>\n",
              "      <td>1643</td>\n",
              "      <td>1</td>\n",
              "      <td>Agreement between General Smith and General Ml...</td>\n",
              "      <td>Europe and Eurasia</td>\n",
              "      <td>Bosnia and Herzegovina/Yugoslavia (former)</td>\n",
              "      <td>125</td>\n",
              "      <td>Bosnia peace process</td>\n",
              "      <td>Pre</td>\n",
              "      <td>1995-07-19</td>\n",
              "      <td>Intra</td>\n",
              "      <td>Government/territory</td>\n",
              "      <td>Multiparty signed/agreed</td>\n",
              "      <td>AGREEMENT BETWEEN GENERAL SMITH AND GENERAL ML...</td>\n",
              "    </tr>\n",
              "    <tr>\n",
              "      <th>3</th>\n",
              "      <td>916</td>\n",
              "      <td>1</td>\n",
              "      <td>Comprehensive Ceasefire Agreement, Pleso</td>\n",
              "      <td>Europe and Eurasia</td>\n",
              "      <td>Bosnia and Herzegovina/Yugoslavia (former)</td>\n",
              "      <td>125</td>\n",
              "      <td>Bosnia peace process</td>\n",
              "      <td>Cea</td>\n",
              "      <td>1994-12-23</td>\n",
              "      <td>Intra</td>\n",
              "      <td>Government/territory</td>\n",
              "      <td>Multiparty signed/agreed</td>\n",
              "      <td>Comprehensive Cease-fire Agreement\\r\\n\\r\\nThe ...</td>\n",
              "    </tr>\n",
              "    <tr>\n",
              "      <th>4</th>\n",
              "      <td>1504</td>\n",
              "      <td>1</td>\n",
              "      <td>Comprehensive Peace Agreement (Carter Agreement)</td>\n",
              "      <td>Europe and Eurasia</td>\n",
              "      <td>Bosnia and Herzegovina/Yugoslavia (former)</td>\n",
              "      <td>125</td>\n",
              "      <td>Bosnia peace process</td>\n",
              "      <td>Pre</td>\n",
              "      <td>1994-12-21</td>\n",
              "      <td>Intra</td>\n",
              "      <td>Government/territory</td>\n",
              "      <td>Multiparty signed/agreed</td>\n",
              "      <td>Comprehensive Peace Agreement\\r\\n\\r\\n \\r\\n\\r\\n...</td>\n",
              "    </tr>\n",
              "  </tbody>\n",
              "</table>\n",
              "</div>"
            ],
            "text/plain": [
              "   AgreementId  ...                                     Agreement Text\n",
              "0          349  ...  I. PREAMBLE\\r\\n\\r\\n1. We, the Heads of State a...\n",
              "1         1437  ...  National Action Charter\\r\\n\\r\\nPreamble\\r\\n\\r\\...\n",
              "2         1643  ...  AGREEMENT BETWEEN GENERAL SMITH AND GENERAL ML...\n",
              "3          916  ...  Comprehensive Cease-fire Agreement\\r\\n\\r\\nThe ...\n",
              "4         1504  ...  Comprehensive Peace Agreement\\r\\n\\r\\n \\r\\n\\r\\n...\n",
              "\n",
              "[5 rows x 13 columns]"
            ]
          },
          "metadata": {
            "tags": []
          },
          "execution_count": 12
        }
      ]
    },
    {
      "cell_type": "markdown",
      "metadata": {
        "id": "6CSCa0APsZH6"
      },
      "source": [
        "### Agreement Text\n",
        "*   The last one to describe is the **Agreement Text** within this data. There are many stopwords need to be removed, and keywords need to be extracted."
      ]
    },
    {
      "cell_type": "code",
      "metadata": {
        "id": "YwJMk63Wt3g0",
        "colab": {
          "base_uri": "https://localhost:8080/",
          "height": 419
        },
        "outputId": "f933cfce-cc82-4db9-cfa4-501266863595"
      },
      "source": [
        "myDataFrame5=myDataFrame2[['Agreement Text']]\n",
        "myDataFrame5"
      ],
      "execution_count": 39,
      "outputs": [
        {
          "output_type": "execute_result",
          "data": {
            "text/html": [
              "<div>\n",
              "<style scoped>\n",
              "    .dataframe tbody tr th:only-of-type {\n",
              "        vertical-align: middle;\n",
              "    }\n",
              "\n",
              "    .dataframe tbody tr th {\n",
              "        vertical-align: top;\n",
              "    }\n",
              "\n",
              "    .dataframe thead th {\n",
              "        text-align: right;\n",
              "    }\n",
              "</style>\n",
              "<table border=\"1\" class=\"dataframe\">\n",
              "  <thead>\n",
              "    <tr style=\"text-align: right;\">\n",
              "      <th></th>\n",
              "      <th>Agreement Text</th>\n",
              "    </tr>\n",
              "  </thead>\n",
              "  <tbody>\n",
              "    <tr>\n",
              "      <th>0</th>\n",
              "      <td>I. PREAMBLE\\r\\n\\r\\n1. We, the Heads of State a...</td>\n",
              "    </tr>\n",
              "    <tr>\n",
              "      <th>1</th>\n",
              "      <td>National Action Charter\\r\\n\\r\\nPreamble\\r\\n\\r\\...</td>\n",
              "    </tr>\n",
              "    <tr>\n",
              "      <th>2</th>\n",
              "      <td>AGREEMENT BETWEEN GENERAL SMITH AND GENERAL ML...</td>\n",
              "    </tr>\n",
              "    <tr>\n",
              "      <th>3</th>\n",
              "      <td>Comprehensive Cease-fire Agreement\\r\\n\\r\\nThe ...</td>\n",
              "    </tr>\n",
              "    <tr>\n",
              "      <th>4</th>\n",
              "      <td>Comprehensive Peace Agreement\\r\\n\\r\\n \\r\\n\\r\\n...</td>\n",
              "    </tr>\n",
              "    <tr>\n",
              "      <th>...</th>\n",
              "      <td>...</td>\n",
              "    </tr>\n",
              "    <tr>\n",
              "      <th>81</th>\n",
              "      <td>Declaration of the 22nd of July, 2014\\r\\nFor f...</td>\n",
              "    </tr>\n",
              "    <tr>\n",
              "      <th>82</th>\n",
              "      <td>AGREEMENT ON COMPREHENSIVE SOLUTIONS BETWEEN T...</td>\n",
              "    </tr>\n",
              "    <tr>\n",
              "      <th>83</th>\n",
              "      <td>Agreement between the Uganda Government and th...</td>\n",
              "    </tr>\n",
              "    <tr>\n",
              "      <th>84</th>\n",
              "      <td>National Dialogue Conference Outcomes Document...</td>\n",
              "    </tr>\n",
              "    <tr>\n",
              "      <th>85</th>\n",
              "      <td>\\r\\n\\r\\nPreamble \\r\\n\\r\\nWe the people of Zim...</td>\n",
              "    </tr>\n",
              "  </tbody>\n",
              "</table>\n",
              "<p>86 rows × 1 columns</p>\n",
              "</div>"
            ],
            "text/plain": [
              "                                       Agreement Text\n",
              "0   I. PREAMBLE\\r\\n\\r\\n1. We, the Heads of State a...\n",
              "1   National Action Charter\\r\\n\\r\\nPreamble\\r\\n\\r\\...\n",
              "2   AGREEMENT BETWEEN GENERAL SMITH AND GENERAL ML...\n",
              "3   Comprehensive Cease-fire Agreement\\r\\n\\r\\nThe ...\n",
              "4   Comprehensive Peace Agreement\\r\\n\\r\\n \\r\\n\\r\\n...\n",
              "..                                                ...\n",
              "81  Declaration of the 22nd of July, 2014\\r\\nFor f...\n",
              "82  AGREEMENT ON COMPREHENSIVE SOLUTIONS BETWEEN T...\n",
              "83  Agreement between the Uganda Government and th...\n",
              "84  National Dialogue Conference Outcomes Document...\n",
              "85   \\r\\n\\r\\nPreamble \\r\\n\\r\\nWe the people of Zim...\n",
              "\n",
              "[86 rows x 1 columns]"
            ]
          },
          "metadata": {
            "tags": []
          },
          "execution_count": 39
        }
      ]
    },
    {
      "cell_type": "markdown",
      "metadata": {
        "id": "dxt5oOj2mFmv"
      },
      "source": [
        "Create a new file for future use."
      ]
    },
    {
      "cell_type": "code",
      "metadata": {
        "id": "RWOMk4LVVWyH"
      },
      "source": [
        "myDataFrame5.to_csv('agreement.csv')"
      ],
      "execution_count": 40,
      "outputs": []
    },
    {
      "cell_type": "markdown",
      "metadata": {
        "id": "MZMgQfzImCOV"
      },
      "source": [
        "Delete all blank lines in the file and save as another file."
      ]
    },
    {
      "cell_type": "code",
      "metadata": {
        "id": "SP7ztDAzi2ZQ"
      },
      "source": [
        "f=open('agreement.csv')\n",
        "g=open('re_agreement.csv','w')\n",
        "try:\n",
        "    while True:\n",
        "        line=f.readline()\n",
        "        if len(line)==0:\n",
        "            break\n",
        "        if line.count('\\n')==len(line):\n",
        "            continue\n",
        "        g.write(line)\n",
        "finally:\n",
        "    f.close()\n",
        "    g.close()"
      ],
      "execution_count": 41,
      "outputs": []
    },
    {
      "cell_type": "markdown",
      "metadata": {
        "id": "cU1phZpXmMh4"
      },
      "source": [
        "Clean the text with spacy method."
      ]
    },
    {
      "cell_type": "code",
      "metadata": {
        "id": "-DHBsmNNbFBG"
      },
      "source": [
        "import spacy\n",
        "spacy.load('en')\n",
        "from spacy.lang.en import English\n",
        "parser = English()\n",
        "def tokenize(text):\n",
        "    ldatokens = []\n",
        "    tokens = parser(text)\n",
        "    for token in tokens:\n",
        "        if token.orth_.isspace():\n",
        "            continue\n",
        "        elif token.like_url:\n",
        "            ldatokens.append('URL') \n",
        "        elif token.orth_.startswith('@'):\n",
        "            ldatokens.append('SCREEN_NAME')\n",
        "        else:\n",
        "            ldatokens.append(token.lower_)\n",
        "    return ldatokens"
      ],
      "execution_count": 42,
      "outputs": []
    },
    {
      "cell_type": "markdown",
      "metadata": {
        "id": "y62MU6KKmQ_3"
      },
      "source": [
        "Lemmatization with wordnet method."
      ]
    },
    {
      "cell_type": "code",
      "metadata": {
        "id": "boMT8QcibFwi",
        "colab": {
          "base_uri": "https://localhost:8080/"
        },
        "outputId": "3606cccf-be68-48d3-f61d-43a2e0891918"
      },
      "source": [
        "import nltk\n",
        "nltk.download('wordnet')\n",
        "from nltk.corpus import wordnet as wn\n",
        "def lemma1(word):\n",
        "    lemma = wn.morphy(word)\n",
        "    if lemma is None:\n",
        "        return word\n",
        "    else:\n",
        "        return lemma\n",
        "from nltk.stem.wordnet import WordNetLemmatizer\n",
        "def lemma2(word):\n",
        "    return WordNetLemmatizer().lemmatize(word)"
      ],
      "execution_count": 43,
      "outputs": [
        {
          "output_type": "stream",
          "text": [
            "[nltk_data] Downloading package wordnet to /root/nltk_data...\n",
            "[nltk_data]   Package wordnet is already up-to-date!\n"
          ],
          "name": "stdout"
        }
      ]
    },
    {
      "cell_type": "markdown",
      "metadata": {
        "id": "GDsNSf5XmUPX"
      },
      "source": [
        "Use nltk to remove stopwords."
      ]
    },
    {
      "cell_type": "code",
      "metadata": {
        "id": "-q3DaPN_bIcd",
        "colab": {
          "base_uri": "https://localhost:8080/"
        },
        "outputId": "4361f99e-8ec7-443c-8bdb-7ab6e69322ab"
      },
      "source": [
        "nltk.download('stopwords')\n",
        "en_stop = set(nltk.corpus.stopwords.words('english'))"
      ],
      "execution_count": 44,
      "outputs": [
        {
          "output_type": "stream",
          "text": [
            "[nltk_data] Downloading package stopwords to /root/nltk_data...\n",
            "[nltk_data]   Package stopwords is already up-to-date!\n"
          ],
          "name": "stdout"
        }
      ]
    },
    {
      "cell_type": "code",
      "metadata": {
        "id": "ABeme-fUbKg_"
      },
      "source": [
        "  def prepare_text_for_lda(text):\n",
        "    tokens = tokenize(text)\n",
        "    tokens = [token for token in tokens if len(token) > 4]\n",
        "    tokens = [token for token in tokens if token not in en_stop]\n",
        "    tokens = [lemma1(token) for token in tokens]\n",
        "    return tokens"
      ],
      "execution_count": 45,
      "outputs": []
    },
    {
      "cell_type": "markdown",
      "metadata": {
        "id": "r8u_Td5nGgUN"
      },
      "source": [
        "# 修改-删shall-失败了"
      ]
    },
    {
      "cell_type": "code",
      "metadata": {
        "id": "p91znJegFZny",
        "outputId": "136698d7-2039-46c9-efac-a754e0082c61",
        "colab": {
          "base_uri": "https://localhost:8080/"
        }
      },
      "source": [
        "open_stopwords = open('cleanup_words.txt',errors = 'ignore') #Import the stop word list \n",
        "stopwords = open_stopwords.readlines()\n",
        "open_stopwords.close()\n",
        "stopwords[:8] #Observe the stop word format"
      ],
      "execution_count": 34,
      "outputs": [
        {
          "output_type": "execute_result",
          "data": {
            "text/plain": [
              "['shall\\n', 'a\\n', 'A\\n', 'b\\n', 'B\\n', 'c\\n', 'C\\n', 'd\\n']"
            ]
          },
          "metadata": {
            "tags": []
          },
          "execution_count": 34
        }
      ]
    },
    {
      "cell_type": "code",
      "metadata": {
        "id": "CxA0HWraF3_3",
        "outputId": "937c6973-b0fd-4811-a661-83e47928ee28",
        "colab": {
          "base_uri": "https://localhost:8080/"
        }
      },
      "source": [
        "for i in range(len(stopwords)):\n",
        "    stopwords[i] = stopwords[i].strip() \n",
        "stopwords[:8] #Observe the stop word format"
      ],
      "execution_count": 22,
      "outputs": [
        {
          "output_type": "execute_result",
          "data": {
            "text/plain": [
              "['shall', 'a', 'A', 'b', 'B', 'c', 'C', 'd']"
            ]
          },
          "metadata": {
            "tags": []
          },
          "execution_count": 22
        }
      ]
    },
    {
      "cell_type": "markdown",
      "metadata": {
        "id": "nYoAyGfGJzOS"
      },
      "source": [
        "# lda"
      ]
    },
    {
      "cell_type": "markdown",
      "metadata": {
        "id": "aE2pUv4mmXpm"
      },
      "source": [
        "This is the data prepared for lda model, which can also first show some high frenquency words in the text."
      ]
    },
    {
      "cell_type": "code",
      "metadata": {
        "id": "zrkoSzIDbMHo",
        "colab": {
          "base_uri": "https://localhost:8080/"
        },
        "outputId": "3b19c050-391a-4dae-f6e3-cca1dcfe2344"
      },
      "source": [
        "import random\n",
        "text_data = []\n",
        "with open('re_agreement.csv') as f:\n",
        "    for line in f:\n",
        "        tokens = prepare_text_for_lda(line)\n",
        "        if random.random() > .99:\n",
        "            print(tokens)\n",
        "            text_data.append(tokens)"
      ],
      "execution_count": 46,
      "outputs": [
        {
          "output_type": "stream",
          "text": [
            "['encourage', 'political', 'legal', 'cooperation', 'state', 'region', 'address', 'crime', 'particularly', 'genocide', 'crime', 'humanity', 'crime', 'terrorism']\n",
            "['sign', 'bertrand', 'presle']\n",
            "[]\n",
            "[]\n",
            "[]\n",
            "['convoy', 'escort', 'priority', 'military', 'activity']\n",
            "[]\n",
            "[]\n",
            "[]\n",
            "['private', 'institution', 'open', 'state', 'authorisation', 'within', 'conditions', 'prescribe', 'place', 'state', 'control']\n",
            "['article']\n",
            "['title', 'transitory', 'final', 'provisions']\n",
            "[]\n",
            "['consider', 'accord', 'final', 'agreement', 'compose', 'contribute', 'fulfilment', 'fundamental', 'right', 'political', 'social', 'economic', 'cultural', 'right', 'right', 'victim', 'conflict', 'truth', 'justice', 'reparation', 'right', 'girl']\n",
            "[]\n",
            "[]\n",
            "['large', 'scale', 'title', 'small', 'medium', 'size', 'rural', 'property', 'legalise', 'protect', 'right', 'pertain', 'small', 'medium', 'size', 'rural', 'property', 'words', 'guarantee', 'right', 'people', 'legitimate', 'owner', 'holder', 'violence', 'never', 'method', 'resolving', 'dispute', 'safeguard', 'dispossession', 'national', 'government', 'progressively', 'title', 'subject']\n",
            "['guarantee', 'charge', 'title', 'small', 'rural', 'property', 'provide', 'assistance', 'process', 'allocate', 'public', 'regularise', 'title', 'exist', 'rural', 'property']\n",
            "[]\n",
            "['place', 'comprehensive', 'security', 'system', 'exercise', 'politics', 'guarantee', 'implementation', 'functioning', 'supervision', 'thereof']\n",
            "['national', 'government', 'guarantee', 'political', 'right', 'citizen', 'political', 'player', 'organise', 'social', 'organisation', 'movement']\n",
            "['important', 'strengthen', 'organisation', 'empower', 'protagonist', 'within', 'social', 'movement', 'organisation']\n",
            "['promote', 'democratic', 'participatory', 'culture', 'national', 'government', 'implement', 'following', 'measure']\n",
            "['electoral', 'organisation', 'particular', 'attention', 'monitoring', 'electoral', 'census', 'registration', 'candidate', 'financing', 'campaign', 'guarantee', 'compliance', 'establish', 'rule', 'additional', 'control', 'supervision', 'system', 'promote', 'specialist', 'organisation', 'electoral', 'observation', 'mission', 'political', 'party', 'movement']\n",
            "['expedite', 'procedure', 'establish', 'accreditation', 'transition', 'legality', 'arm', 'member', 'person', 'accredit', 'judicial', 'status', 'define', 'grant', 'pardon', 'legal', 'instrument', 'force', 'amnesty', 'force', 'release', 'albeit', 'disposal', 'accused', 'crime', 'subject', 'amnesty', 'amnesty', 'agree', 'final', 'agreement', 'provisions', 'establish', 'agreement', 'august', 'favourable', 'apply', 'facilitate', 'implementation', 'timetable', 'process', 'laying', 'agreement']\n",
            "[]\n",
            "[]\n",
            "['shall', 'undertake', 'investigation', 'relation', 'relationship', 'criminal', 'organisation', 'include', 'within', 'mandate', 'include', 'criminal', 'organisation', 'label', 'successor', 'paramilitarism', 'state', 'official']\n",
            "[]\n",
            "['collaboration', 'departmental', 'municipal', 'authorities', 'regular', 'territorial', 'base', 'analysis', 'illicit', 'drug', 'synthetic', 'natural', 'identify', 'place', 'context', 'problem', 'risk', 'vulnerability', 'trend', 'consequence', 'dynamics']\n",
            "['accountability', 'establishment', 'responsibility', 'everyone', 'involve', 'conflict', 'directly', 'indirectly', 'combatant', 'combatant', 'shall', 'assume', 'share', 'responsibility', 'serious', 'violation', 'infringement', 'commit', 'context', 'arm', 'conflict']\n",
            "['relationship', 'conflict', 'crop', 'illicit', 'purpose', 'production', 'selling', 'illicit', 'drug', 'money', 'laundering', 'associate', 'traffic']\n",
            "['suspm', 'case', 'provide', 'relative', 'official', 'report', 'contain', 'information', 'obtain', 'person', 'person', 'deem', 'miss']\n",
            "[]\n",
            "[]\n",
            "[]\n",
            "[]\n",
            "[]\n",
            "[]\n",
            "['eligible', 'alternative', 'penalty', 'person', 'concern', 'undertake', 'contribute', 'reincorporation', 'society', 'means', 'training', 'study', 'imprisonment', 'shall', 'appropriate', 'engage', 'activity', 'ensure', 'recurrence']\n",
            "[]\n",
            "['psychosocial', 'rehabilitation']\n",
            "[]\n",
            "[]\n",
            "[]\n",
            "['framework', 'implementation', 'special', 'jurisdiction', 'peace', 'mechanism', 'create', 'liaison', 'coordination', 'special', 'indigenous', 'jurisdiction', 'accord', 'mandate', 'article', 'constitution', 'appropriate', 'afro-', 'colombian', 'ancestral', 'authorities']\n",
            "['relation', 'implementation', 'verification']\n",
            "[]\n",
            "['national', 'government', 'request', 'political', 'mission', 'unite', 'nation', 'general', 'assembly', 'mandate', 'verify', 'reincorporation', 'implementation', 'personal', 'collective', 'security', 'protection', 'measure', 'mission', 'start', 'operate', 'conclusion', 'mandate', 'mission', 'monitoring', 'verification', 'bilateral', 'definitive', 'ceasefire', 'cessation', 'hostilities', 'recognise', 'importance', 'international', 'verification', 'mechanism', 'ensure', 'implementation', 'agree', 'respect', 'reincorporation', 'security', 'guarantee', 'national', 'government', 'consider', 'verification', 'system', 'implement', 'ensure', 'operation', 'period', 'three', 'years', 'renewable', 'necessary']\n",
            "[]\n",
            "[]\n",
            "[]\n",
            "['second', 'batch', 'information', 'supply']\n",
            "['regional', 'verification', 'uthority', 'internal', 'report', 'reach', 'national', 'latter', 'analysis', 'ass', 'report', 'contain', 'sufficient', 'information', 'request', 'input', 'competent', 'body', 'details', 'regional', 'level', 'necessary', 'force', 'field', 'obtain', 'relevant', 'information', 'clarity', 'incident', 'internal', 'report', 'analyse', 'member', 'national', 'international', 'component', 'charge', 'consolidate', 'internal', 'report', 'issue', 'appropriate', 'recommendation', 'national', 'government', 'unite', 'nation', 'body', 'commit', 'bdcch', 'implementation', 'process']\n",
            "[]\n",
            "[]\n",
            "['point', 'clarify', 'international', 'observer', 'position', 'determine', 'level', 'consensus', 'party', 'regard', 'incident', 'case', 'consensus', 'within', 'local', 'difference', 'still', 'remain', 'shall', 'consider', 'relation', 'severe', 'violation', 'found', 'order', 'settle', 'difference', 'assessment', 'local', 'team', 'shall', 'refer', 'report', 'regional', 'difference', 'still', 'unresolved', 'regional', 'shall', 'refer', 'report', 'national', 'shall', 'final', 'ruling', 'matter']\n",
            "[]\n",
            "[]\n",
            "['internal', 'regulation', 'shall', 'establish', 'national', 'activity', 'commence', 'component', 'staff', 'alteration', 'necessary']\n",
            "[]\n",
            "['overland', 'within', 'jurisdiction']\n",
            "[]\n",
            "[]\n",
            "['person', 'carry', 'weapon']\n",
            "[]\n",
            "['report', 'body', 'executive', 'secretary', 'group', 'together', 'case', 'compliance', 'parameter', 'establish', 'agreement', 'special', 'jurisdiction', 'peace', 'december', 'notwithstanding', 'subsequently', 'supplement', 'base', 'criterion', 'adopt', 'panel']\n",
            "[]\n",
            "[]\n",
            "['chapter']\n",
            "[]\n",
            "['principle', 'reconciliation', 'objective', 'satisfaction', 'victim', 'right', 'reconciliation', 'colombian', 'citizen', 'order', 'transit', 'roads', 'civility', 'conviviality']\n",
            "['coordinate', 'promote', 'process', 'search', 'identify', 'locating', 'dignify', 'return', 'mortal', 'remains']\n",
            "['chamber', 'amnesty', 'pardon', 'apply', 'special', 'legal', 'treatment', 'crime', 'eligible', 'amnesty', 'pardon', 'taking', 'account', 'recommendation', 'chamber', 'acknowledgment', 'truth', 'responsibility', 'establishment', 'fact', 'however', 'prior', 'chamber', 'grant', 'amnesty', 'pardon', 'person', 'convict', 'investigate', 'crime', 'eligible', 'amnesty', 'pardon', 'initiative', 'request', 'party', 'always', 'accord', 'establish', 'amnesty', 'event', 'petition', 'pardon', 'amnesty', 'relate', 'conduct', 'eligible', 'pardon', 'amnesty', 'chamber', 'amnesty', 'pardon', 'chamber', 'acknowledgment', 'truth', 'responsibility']\n",
            "['adopt', 'resolution', 'necessary', 'define', 'legal', 'situation', 'grant', 'amnesty', 'pardon', 'object', 'resolution', 'conclusion']\n",
            "['recognize', 'direct', 'indirect', 'victim', 'serious', 'human', 'right', 'violation', 'breach', 'combatant', 'reparation', 'measure', 'member', 'victim', 'discuss', 'within', 'point', 'agenda', 'concern', 'incorporation', 'process', 'parallel', 'national', 'government', 'strengthen', 'attention', 'reparation', 'measure', 'member', 'public', 'force', 'victim', 'serious', 'human', 'right', 'violation', 'breach']\n",
            "['happen', 'conflict']\n",
            "['construction', 'stable', 'last', 'peace', 'reason', 'necessary']\n",
            "['process', 'evidentiary', 'value', 'likewise', 'judicial', 'authorities', 'demand']\n",
            "['commission', 'mandate', 'elucidate', 'promote', 'recognition']\n",
            "['transparently', 'seeking', 'ensure', 'austerity', 'expense', 'citizen', 'oversight']\n",
            "['participation', 'victim', 'general', 'community', 'territory']\n",
            "['homicide', 'torture', 'enforce', 'disappearance', 'kidnapping', 'sexual', 'violence', 'extrajudicial']\n",
            "['implementation', 'agreement', 'delegation', 'dialogue', 'table']\n",
            "['regard', 'topic', 'truth']\n",
            "[]\n",
            "['finally', 'construction', 'stable', 'last', 'peace', 'involve', 'clarify', 'relationship', 'production', 'illegal', 'drug', 'conflict', 'include', 'relationship', 'paramilitarism', 'traffic', 'involve', 'willing', 'contribute', 'clarification']\n",
            "['office', 'department', 'security', 'departamento', 'administrativo', 'seguridad', 'locate', 'municipal', 'seats', 'continue', 'perform', 'function']\n",
            "['administration', 'internal', 'affairs']\n",
            "['government', 'republic', 'prime', 'minister', 'forward', 'political', 'opposition', 'signatory', 'agreement', 'october', 'rassemblement', 'appoint', 'president', 'republic', 'accordance', 'article', 'constitution']\n",
            "['ensure', 'worker', 'allowance', 'statement', 'commitment']\n",
            "[]\n",
            "[]\n",
            "['december']\n",
            "[]\n",
            "[]\n",
            "[]\n",
            "[]\n",
            "[]\n",
            "[]\n",
            "['phase', 'three', 'disarmament']\n",
            "[]\n",
            "[]\n",
            "[]\n",
            "[]\n",
            "['hostilities', 'throughout', 'province', 'north']\n",
            "['jason', 'luneno', 'maene']\n",
            "['deeply', 'deplore', 'insecurity', 'prevail', 'province', 'south', 'causing', 'large', 'scale', 'displacement', 'population', 'terrible', 'suffering', 'amongst', 'civilian', 'extensive', 'violation', 'human', 'right']\n",
            "['mudekereza', 'namegabe']\n",
            "[]\n",
            "[]\n",
            "['request', 'recommend']\n",
            "['result', 'several', 'decade', 'governance', 'external', 'exploitation']\n",
            "['establish', 'reinforce', 'administrative', 'management']\n",
            "['supervision', 'guidance', 'prisoner']\n",
            "['centre', 'productivity', 'framework', 'social', 'dialogue']\n",
            "['insecure', 'town', 'village', 'lose', 'everything', 'house', 'source', 'income']\n",
            "['institution', 'donor', 'require', 'partnership', 'respects', 'international']\n",
            "['congolese', 'authorities', 'enable', 'panel', 'expert', 'mandate', 'ass']\n",
            "['environment']\n",
            "['consider', 'various', 'resolution', 'security', 'council', 'relate']\n",
            "['competence', 'moral', 'probity', 'draw', 'different', 'sector', 'society']\n",
            "['access', 'information', 'technology']\n",
            "['given', 'ceasefire', 'agreement', 'sign', 'lusaka']\n",
            "['relative', 'inter', 'congolese', 'political', 'negotiation', 'especially', 'principle']\n",
            "['within', 'jurisdiction', 'commission']\n",
            "['restoration', 'within', 'framework', 'political', 'dispensation']\n",
            "['accord', 'conditions', 'determine', 'voter', 'shall', 'congolese', 'sex', 'eighteen', 'enjoy', 'civil', 'political', 'right']\n",
            "['right', 'asylum', 'shall', 'recognise']\n",
            "['collaboration', 'assistance', 'means', 'subsidy', 'shall', 'stipulate', 'terms', 'conditions', 'exercising', 'right', 'article']\n",
            "['right', 'unionisation', 'shall', 'recognise', 'democratic', 'republic', 'congo']\n",
            "['guarantor', 'national', 'independence', 'integrity', 'national', 'territory', 'national', 'sovereignty']\n",
            "[]\n",
            "[]\n",
            "['standing', 'committee', 'without', 'prejudice', 'right', 'senate']\n",
            "['second', 'session', 'open', 'first', 'monday', 'month', 'october']\n",
            "['determination', 'offence', 'penalty', 'applicable']\n",
            "[]\n",
            "['means', 'recruit', 'member', 'arm', 'force', 'national', 'police', 'promotion', 'right', 'duty', 'military', 'personnel', 'police', 'personnel']\n",
            "['state', 'publish', 'government', 'gazette']\n",
            "['transition', 'period', 'twenty', 'month', 'take', 'effect', 'transitional', 'government', 'form', 'investiture', 'president', 'republic', 'elect', 'following', 'election', 'transitional', 'period', 'democratic', 'republic', 'congo']\n",
            "['signature', 'illegible']\n",
            "['state', 'government']\n",
            "[]\n",
            "['may-15', 'august']\n",
            "['foster', 'social', 'participation', 'context', 'municipal', 'autonomy', 'pursue', 'process', 'decentralization', 'authority', 'municipal', 'government', 'consequently', 'strengthening', 'technical', 'administrative', 'financial', 'resource']\n",
            "['physical', 'planning', 'policy', 'particularly', 'urban', 'planning', 'environmental', 'protection']\n",
            "[]\n",
            "['decentralization', 'redistribution']\n",
            "['independent', 'electoral', 'commission', 'acceptable', 'side']\n",
            "['formation', 'military', 'militia', 'outside', 'framework', 'arm', 'force', 'prohibit']\n",
            "['second', 'military', 'service', 'shall', 'regulate']\n",
            "['article']\n",
            "['second', 'state', 'shall', 'guarantee', 'social', 'health', 'security', 'iraqi', 'case', 'sickness', 'employment', 'disability', 'homelessness', 'orphanhood', 'unemployment', 'shall', 'protect', 'ignorance', 'poverty', 'shall', 'provide', 'housing', 'special', 'program', 'rehabilitation', 'shall', 'regulate']\n",
            "['article']\n",
            "['first', 'oversee', 'constitutionality', 'regulation', 'effect', 'second', 'interpreting', 'provisions', 'constitution']\n",
            "['shall', 'regulate', 'military', 'judiciary', 'shall', 'specify', 'jurisdiction', 'military', 'court', 'limited', 'crime', 'military', 'nature', 'commit', 'member', 'arm', 'force', 'security', 'force', 'within', 'limit', 'establish']\n",
            "['national', 'assembly', 'shall', 'power', 'ratify', 'international', 'treaty', 'agreement']\n",
            "['statute', 'establish', 'iraqi', 'special', 'tribunal', 'issue', 'december', 'confirm', 'statute', 'exclusively', 'define', 'jurisdiction', 'procedure', 'notwithstanding', 'provisions']\n",
            "['chapter', 'eight', 'region', 'governorates', 'municipality']\n",
            "['executive', 'consider', 'scope', 'change', 'waiting', 'times', 'measure', 'reflect', 'entire', 'patient', 'journey', 'referral', 'treatment', 'appropriate', 'target']\n",
            "['findings', 'recently', 'publish', 'report', 'criminal', 'justice', 'inspection', 'northern', 'ireland']\n",
            "['executive', 'invest', 'urgently', 'wastewater', 'infrastructure', 'near', 'capacity', 'place', 'across', 'northern', 'ireland', 'include', 'belfast', 'limiting', 'growth']\n",
            "['giving', 'effect', 'guide', 'principle', 'office', 'undertake', 'following', 'function']\n",
            "['ending', 'paramilitarism']\n",
            "['party', 'recognise', 'coordinate', 'strategic', 'approach', 'challenge', 'climate', 'change', 'within', 'programme', 'government', 'action', 'intervention', 'require', 'across', 'range', 'area', 'order', 'address', 'immediate', 'longer', 'impact', 'climate', 'change']\n",
            "['government', 'would', 'interest', 'jointly', 'explore', 'feasibility', 'island', 'research', 'cooperation', 'relevant', 'agency', 'stakeholder', 'north', 'south']\n",
            "['article', 'annex', 'attach', 'delineate', 'route', 'israel', 'passage', 'available']\n",
            "['propose', 'security', 'policy', 'guideline', 'forward', 'issue', 'determination']\n",
            "['incident', 'involve', 'israeli', 'palestinian', 'accident', 'rescue', 'casualty', 'person', 'mortal', 'danger', 'engagement', 'steps', 'incident', 'weapon']\n",
            "['crossing']\n",
            "['completion', 'redeployment', 'israeli', 'military', 'force', 'operate', 'throughout', 'hebron', 'include', 'require', 'abovementioned']\n",
            "['regard', 'allenby', 'bridge', 'crossing', 'terminal', 'jericho']\n",
            "['tarkumya', 'crossing', 'point']\n",
            "['subject', 'provisions', 'agreement', 'palestinian', 'police', 'israeli', 'military', 'force', 'shall', 'exercise', 'power', 'responsibility', 'pursuant', 'agreement', 'regard', 'internationally', 'accept', 'norm', 'human', 'right', 'shall', 'guide', 'protect', 'public', 'respect', 'human', 'dignity', 'avoid', 'harassment']\n",
            "['international', 'commercial', 'services', 'carry', 'accordance', 'israel', 'bilateral', 'aviation', 'agreement', 'implementation', 'phase', 'discuss', 'agree']\n",
            "['month', 'inauguration', 'council']\n",
            "['twelve', 'month', 'inauguration', 'council']\n",
            "['ramallah', 'district', '1,200', 'policeman']\n",
            "['ensure', 'decorum', 'public', 'order', 'routine', 'working', 'context']\n",
            "[\"i'mra\"]\n",
            "['publication', 'provisional', 'statement', 'person', 'nominate', 'person', 'within', 'submit', 'objection', 'provisionally', 'nominate', 'candidate', 'satisfy', 'criterion', 'paragraph']\n",
            "['accredit', 'domestic', 'observer', 'contact', 'person', 'anywhere', 'attend', 'election', 'relate', 'event']\n",
            "['following', 'category', 'detainee', 'and/or', 'prisoner', 'include', 'abovementioned', 'release']\n",
            "['prisoner', 'and/or', 'detainee', 'years']\n",
            "['provision', 'basic', 'services', 'people', 'displace', 'camp']\n",
            "[]\n",
            "['ecowas', 'interposition', 'force', 'expect', 'become', 'international', 'stabilisation', 'force']\n",
            "[]\n",
            "['military', 'movement', 'within', 'kilometre', 'contact', 'line', 'include', 'reconnaissance', 'reinforcement', 'except', 'authorise']\n",
            "[]\n",
            "[]\n",
            "[]\n",
            "['provision', 'humanitarian', 'relief']\n",
            "[]\n",
            "[]\n",
            "['inauguration', 'chairman', 'chairman', 'nomination', 'member']\n",
            "[]\n",
            "['ecowas', 'ncddrr', 'combatant']\n",
            "[]\n",
            "['commencement', 'withdrawal', 'force', 'encampment', 'location']\n",
            "[]\n",
            "[]\n",
            "[]\n",
            "[]\n",
            "[]\n",
            "['appointment', 'removal', 'general', 'intelligence', 'service', 'approval', 'house', 'representative']\n",
            "['activation', 'commitment', 'decentralization', 'state', 'within', 'framework', 'state', 'unity', 'institution', 'boards', 'commission', 'stem', 'agreement', 'shall', 'commit', 'regular', 'meeting', 'outside', 'headquarters', 'especially', 'city', 'south']\n",
            "['article']\n",
            "['government', 'national', 'accord', 'exercising', 'function', 'relate', 'economic', 'management', 'ensure', 'government', 'contract', 'comply', 'relevant', 'libyan', 'procurement', 'follow', 'international', 'practice', 'particularly', 'establish', 'principle', 'transparent', 'contract', 'procurement', 'tender', 'corruption', 'elaborate', 'world', 'international', 'organisation', 'feature', 'international', 'practice', 'contracting', 'place', 'absence', 'appropriate', 'budget', 'appropriation']\n",
            "['shall', 'prescribe', 'emblem', 'national', 'anthem', 'state']\n",
            "['article']\n",
            "['constitution', 'nepal', 'unofficial', 'english', 'translation']\n",
            "[]\n",
            "[]\n",
            "[]\n",
            "[]\n",
            "['making', 'village', 'council', 'municipal', 'council', 'pursuant', 'clause', 'shall', 'without', 'inconsistent', 'provincial', 'formulate', 'village', 'council', 'municipal', 'council', 'inconsistent', 'provincial', 'shall', 'extent', 'inconsistent']\n",
            "[]\n",
            "[]\n",
            "['address', 'president', 'president', 'address', 'either', 'house', 'joint', 'sitting', 'house', 'parliament', 'summon', 'member', 'purpose']\n",
            "[]\n",
            "['formation', 'constitutional', 'bench', 'shall', 'constitutional', 'bench', 'supreme', 'court', 'bench', 'shall', 'comprise', 'chief', 'justice', 'justice', 'appoint', 'chief', 'justice', 'recommendation', 'judicial', 'council']\n",
            "[]\n",
            "['conditions', 'service', 'staffer', 'shall', 'provide', 'federal']\n",
            "[]\n",
            "[]\n",
            "['chief', 'minister', 'submit', 'resignation', 'provincial']\n",
            "['minister', 'state', 'minister', 'assistant', 'minister', 'shall', 'deem', 'cease', 'office', 'following', 'situation']\n",
            "[]\n",
            "['local', 'legislature']\n",
            "[]\n",
            "['attain', 'forty', 'years']\n",
            "['commission', 'investigation', 'abuse', 'authority', 'find', 'investigation', 'carry', 'pursuant', 'clause', 'person', 'holding', 'public', 'office', 'commit', 'define', 'corrupt', 'lodge', 'cause', 'lodge', 'person', 'person', 'involve', 'therein', 'court', 'jurisdiction', 'accordance']\n",
            "[]\n",
            "[]\n",
            "[]\n",
            "[]\n",
            "['submit', 'write', 'resignation', 'president', 'attain', 'sixty']\n",
            "['election', 'commission', 'delegate', 'function', 'duty', 'power', 'chief', 'election', 'commissioner', 'election', 'commissioner', 'employee', 'government', 'nepal', 'exercise', 'follow', 'compliance', 'conditions', 'specify']\n",
            "['resolution', 'impeachment', 'pass', 'article']\n",
            "[]\n",
            "[]\n",
            "['provide', 'extreme', 'economic', 'breakdown', 'state', 'emergency', 'provision', 'shall', 'applicable']\n",
            "[]\n",
            "[]\n",
            "['president', 'shall', 'recommendation', 'constitutional', 'council', 'appoint', 'chairperson', 'member', 'madheshi', 'commission']\n",
            "[]\n",
            "[]\n",
            "['carry', 'research', 'monitoring', 'study', 'language']\n",
            "['provision', 'relate', 'parliamentary', 'hearing', 'prior', 'appointment', 'chief', 'justice', 'justice', 'supreme', 'court', 'member', 'judicial', 'council', 'official', 'constitutional', 'body', 'ambassador', 'appoint', 'recommendation', 'constitutional', 'council', 'shall', 'parliamentary', 'hearing', 'accordance', 'constitution']\n",
            "['provide', 'election', 'house', 'representative', 'happen', 'pursuant', 'constitution', 'transform', 'legislature', 'parliament', 'shall', 'nomination', 'file', 'election', 'house', 'representative']\n",
            "['provide', 'motion', 'confidence', 'shall', 'move', 'legislature', 'parliament', 'prime', 'minister', 'within', 'month']\n",
            "[]\n",
            "['constitution', 'nepal', 'unofficial', 'english', 'translation']\n",
            "['mustang']\n",
            "[]\n",
            "[]\n",
            "[]\n",
            "[]\n",
            "[]\n",
            "[]\n",
            "[]\n",
            "[]\n",
            "[]\n",
            "[]\n",
            "[]\n",
            "[]\n",
            "['social', 'objective', 'state', 'shall', 'establish', 'develop', 'healthy', 'social', 'foundation', 'justice', 'morality', 'eliminate']\n",
            "['executive', 'power', 'executive', 'power', 'nepal', 'shall', 'pursuant', 'constitution', 'vest', 'council', 'minister']\n",
            "['specify']\n",
            "['person', 'commit', 'contempt', 'legislature', 'parliament', 'person', 'preside', 'meeting', 'decision', 'meeting', 'effect', 'admonish', 'impose', 'sentence', 'imprisonment', 'exceed', 'three', 'month', 'exceed', 'thousand', 'rupee', 'person', 'person', 'fail', 'shall', 'recover', 'government']\n",
            "['constituency']\n",
            "['matter', 'directly', 'relate', 'subject', 'specify']\n",
            "['chief', 'justice', 'judge', 'supreme', 'court', 'shall', 'office', 'attain', 'sixty', 'years']\n",
            "['composition', 'jurisdiction', 'matter', 'constituent', 'assembly', 'court', 'refer', 'clause', 'shall', 'determine']\n",
            "[]\n",
            "[]\n",
            "['person', 'shall', 'eligible', 'appoint', 'chairperson', 'member', 'public', 'service', 'commission', 'unless', 'posse', 'following', 'qualification']\n",
            "['public', 'corporate', 'intend', 'advice', 'public', 'service', 'commission', 'force', 'relate', 'conditions', 'service', 'employee', 'service', 'general', 'principle', 'follow', 'course', 'making', 'appointment', 'promotion', 'position', 'service', 'taking', 'departmental', 'action', 'employee', 'public', 'service', 'commission', 'advise', 'matter']\n",
            "[]\n",
            "[]\n",
            "[]\n",
            "['amend', 'fifth', 'amendment', 'insert', 'fifth', 'amendment']\n",
            "['qualification']\n",
            "[]\n",
            "['twelve', 'equal', 'similar', 'triangle', 'space', 'enclose', 'circle', 'apex', 'triangle', 'touching']\n",
            "['schedule-2125']\n",
            "['5.1.6', 'nepal', 'police', 'arm', 'police', 'force', 'shall', 'continue', 'maintain', 'order', 'conduct', 'criminal', 'investigation', 'spirit', 'sentiment', 'people', 'movement', 'andolan', 'peace', 'accord', 'force']\n",
            "['mission', 'shall', 'check', 'information', 'immediately', 'monitor']\n",
            "['accordance', 'commitment', 'express', 'letter', 'unite', 'nation', 'nepal', 'shall', 'remain', 'barrack', 'favour', 'monitor', 'access', 'barrack', 'purpose', 'monitoring', 'whether', 'nepal', 'force', 'weapon', 'party', 'visiting', 'nepal', 'barrack', 'inspection', 'commander', 'notify', 'inspection', 'relate', 'matter', 'regard', 'disposition', 'force', 'weapon']\n",
            "['remain', 'commit', 'universal', 'declaration', 'human', 'right', 'international', 'humanitarian', 'fundamental', 'principle', 'values', 'side', 'express', 'agreement', 'following', 'issue']\n",
            "['45,\"preamble']\n",
            "['bulus', 'haruna']\n",
            "['bonnet']\n",
            "['ignatius', 'raymond']\n",
            "['muhammed', 'abubakar']\n",
            "['october']\n",
            "['meeting']\n",
            "['authorize', 'participant', 'negotiation', 'shall', 'thereby', 'fully', 'protect', 'pertinent', 'provisions', 'hague', 'joint', 'declaration', 'jasig', 'amado', 'hernandez', 'doctrine', 'political', 'offense']\n",
            "['proposal', 'accelerate', 'proposal', 'enhance', 'process']\n",
            "['party', 'shall', 'concrete', 'steps', 'protect', 'life', 'livelihood', 'property', 'people', 'incursion', 'mining', 'state', 'logging', 'tourism', 'similar', 'project', 'program']\n",
            "['party', 'shall', 'continue', 'assume', 'separate', 'duty', 'responsibility', 'uphold', 'protect', 'promote', 'human', 'right', 'principle', 'international', 'humanitarian', 'accordance', 'respective', 'political', 'principle', 'organization', 'circumstances', 'shall', 'reach', 'final', 'resolution', 'arm', 'conflict']\n",
            "['joint', 'committee', 'compose', 'representative', 'representative', 'representative', 'either', 'civil', 'society', 'organization', 'academic', 'institution', 'technical', 'institution', 'mutually', 'agree', 'party', 'shall', 'establish', 'chair', 'opapp', 'shall', 'perform', 'following', 'function']\n",
            "['acknowledgement']\n",
            "[]\n",
            "['operationalization', 'shall', 'guide', 'prescribe', 'operational', 'flowchart', 'found', 'annex', 'hereof']\n",
            "['assistance', 'maintenance', 'peace', 'order']\n",
            "['article', 'military', 'rank']\n",
            "['neutral', 'international', 'force', 'shall', 'responsibility', 'command', 'unite', 'nation', 'shall', 'compose', 'contingent', 'provide', 'country', 'select', 'secretary', 'general', 'unite', 'nation']\n",
            "['joint', 'commission', 'programme', 'hereby', 'shall', 'responsible', 'elaboration', 'syllabus', 'relate', 'subject', 'teach', 'separate', 'joint', 'training', 'period', 'syllabus', 'available', 'disengagement', 'force', 'party']\n",
            "['security', 'committee']\n",
            "['article', 'composition']\n",
            "['article', 'principle']\n",
            "['assistant', 'criminal', 'investigation', 'service', 'lieutenant', 'colonel', 'major', 'captain']\n",
            "['commander', 'company', 'battalion', 'commandant', 'captain', 'lieutenant']\n",
            "['criminal', 'investigation', 'service']\n",
            "['disciplinary', 'punishment', 'shall', 'aim', 'redress', 'behaviour', 'individual', 'gendarme', 'maintain', 'harmony', 'discipline', 'within', 'unit', 'services', 'shall', 'therefore', 'forbid', 'transform', 'disciplinary', 'punishment', 'means', 'harassment']\n",
            "['arrest', 'without', 'access', 'maximum']\n",
            "['arrest', 'maximum']\n",
            "['volunteer']\n",
            "['completion', 'separate', 'training', 'elements', 'demobilize', 'together', 'separate', 'assembly', 'point', 'within', 'respective', 'zone', 'command', 'council', 'national', 'gendarmerie', 'shall', 'decide', 'depend', 'circumstances', 'together', 'taking', 'especially', 'account', 'social', 'administration', 'requirement', 'elements', 'demobilize']\n",
            "['reception', 'centre', 'health', 'centre', 'educational', 'centre']\n",
            "['official', 'language', 'federal', 'republic', 'somalia', 'somali', 'maxaa', 'arabic', 'second', 'language']\n",
            "['article', 'freedom', 'expression', 'opinion']\n",
            "['allocation', 'natural', 'resource', 'federal', 'republic', 'somalia', 'shall', 'negotiate', 'agree', 'federal', 'government', 'federal', 'member', 'state', 'accordance', 'constitution']\n",
            "['shall', 'jointly', 'perform', 'share', 'duty']\n",
            "['fulfil', 'duty', 'accordance', 'clause', 'article', 'every', 'member', 'house', 'people', 'federal', 'parliament', 'special', 'responsibility', 'represent', 'constituency', 'elect', 'regardless', 'political', 'party', 'affiliation']\n",
            "['amend', 'refer', 'upper', 'house', 'federal', 'parliament', 'reason', 'amendment(s']\n",
            "['accordance', 'regulation', 'judicial', 'service', 'commission', 'shall', 'following']\n",
            "['carry', 'research']\n",
            "['national', 'security', 'commission', 'shall', 'establish', 'civilian', 'oversight', 'committee', 'comprise', 'security', 'expert', 'member', 'federal', 'parliament', 'academic', 'civil', 'society', 'representative', 'sector', 'somali', 'society', 'mandate', 'civilian', 'oversight', 'committee', 'shall']\n",
            "[]\n",
            "['provisional', 'constitution']\n",
            "['later', 'month', 'oversight', 'committee', 'select', 'chairperson', 'oversight', 'committee', 'shall', 'majority', 'adopt', 'rule', 'functioning']\n",
            "['possible', 'basis', 'accurate', 'social', 'benefit', 'calculation', 'assign', 'relative', 'priority', 'propose', 'drafting', 'project', 'seemingly', 'equal', 'priority']\n",
            "['consult', 'member', 'public', 'member', 'federal', 'parliament', 'federal', 'republic', 'somalia']\n",
            "[]\n",
            "[]\n",
            "['transitional', 'federal', 'government', 'somalia', 'alliance', 'liberation', 'somalia', 'attending', 'meeting', 'djibouti', 'faciliated', 'hereafter', 'refer', 'party']\n",
            "[]\n",
            "[]\n",
            "['right', 'establish', 'political', 'party']\n",
            "['president', 'shall', 'impeach', 'violation', 'charter', 'charge', 'prefer', 'parliament']\n",
            "[]\n",
            "['regional', 'differentiation', 'relation', 'language', 'policy', 'practice', 'shall', 'permissible']\n",
            "['person', 'shall', 'unfairly', 'discriminate', 'directly', 'indirectly', 'without', 'derogate', 'generality', 'provision', 'following', 'grounds', 'particular', 'gender', 'ethnic', 'social', 'origin', 'color', 'sexual', 'orientation', 'disability', 'religion', 'conscience', 'belief', 'culture', 'language']\n",
            "['speaker', 'deputy', 'speaker', 'member', 'ofthe', 'national', 'assembly', 'designate', 'purpose', 'terms', 'rule', 'order', 'shall', 'preside', 'sitting', 'national', 'assembly']\n",
            "['whenever', 'necessary', 'national', 'assembly', 'senate', 'shall', 'convene', 'joint', 'sitting', 'shall', 'preside', 'speaker', 'president', 'senate', 'member', 'national', 'assembly', 'senate', 'determine', 'rule', 'order']\n",
            "['minister', 'concern', 'fail', 'comply', 'requirement', 'president', 'subsection', 'president', 'consultation', 'minister', 'minister', 'member', 'president', 'party', 'leader', 'participate', 'party', 'consultation', 'leader', 'minister', 'party', 'remove', 'minister', 'office']\n",
            "['minister', 'portfolio', 'shall', 'construe', 'reference', 'deputy', 'minister', 'deputy', 'ministerial', 'respectively']\n",
            "['rule', 'constitutional', 'court', 'provision', 'direct', 'access', 'court', 'interest', 'justice', 'respect', 'matter', 'jurisdiction']\n",
            "['shall', 'commission', 'gender', 'equality', 'shall', 'consist', 'chairperson', 'number', 'member', 'determine', 'parliament']\n",
            "['member', 'commission', 'remove', 'office', 'president', 'grounds', 'misbehavior', 'incapacity', 'incompetence', 'establish', 'judge', 'supreme', 'court', 'enquiry']\n",
            "['council', 'local', 'government', 'shall', 'elect', 'accord', 'system', 'proportional', 'representation', 'prescribe', 'among', 'member', 'executive', 'committee', 'exercise', 'power', 'perform', 'function', 'determine', 'council', 'provide']\n",
            "['section', 'recognition', 'traditional', 'authorities', 'indigenous']\n",
            "['decision', 'tender', 'board', 'shall', 'record']\n",
            "['auditor', 'general', 'subject', 'investigation', 'joint', 'committee', 'terms', 'subsection', 'suspend', 'president', 'pending', 'decision', 'investigation']\n",
            "['commission', 'shall', 'designate', 'member', 'committee', 'chairperson', 'thereof', 'chairperson', 'absent', 'meeting', 'committee', 'member', 'present', 'shall', 'elect', 'among', 'number', 'chairperson']\n",
            "['detract', 'right', 'citizen', 'parliament']\n",
            "['reception', 'processing', 'complaint', 'charge', 'provision', 'protective', 'services', 'gathering']\n",
            "['executive', 'authority', 'power', 'function', 'shall', 'exercise', 'perform', 'transitional', 'executive', 'council', 'disapprove', 'thereof']\n",
            "['decision', 'court', 'claim', 'dispute', 'shall', 'final', 'binding']\n",
            "['section', 'rationalization', 'court', 'structure']\n",
            "['adoption', 'constitution', 'secure', 'foundation', 'people', 'south', 'africa', 'transcend', 'division', 'strife', 'generate', 'gross', 'violation', 'human', 'right', 'transgression', 'humanitarian', 'principle', 'violent', 'conflict', 'legacy', 'hatred', 'guilt', 'revenge']\n",
            "['joint', 'monitoring', 'evaluation', 'commission']\n",
            "['obstruction', 'interference', 'movement', 'ctsamm']\n",
            "['peter', 'gadet']\n",
            "['manyok']\n",
            "['republic', 'sudan']\n",
            "['ceasefire', 'transitional', 'security', 'arrangement', 'monitoring']\n",
            "[]\n",
            "[]\n",
            "[]\n",
            "['commissioning', 'appointment', 'promotion', 'retirement', 'dismissal', 'officer', 'ndfss', 'organize', 'force', 'approval', 'national', 'defence', 'council', 'national', 'security', 'council', 'appropriate']\n",
            "['political', 'party', 'shall', 'nominate', 'fourth', 'tgonu', 'ministerial', 'portfolio', 'ministerial', 'sectoral', 'cluster', 'describe', 'chapter', 'article', 'article', '10.2.1', '10.2.2', '10.2.3', 'agreement']\n",
            "['13.1.2', 'drafting', 'amendment', 'relevant', 'national', 'security', 'legislation', 'relate', 'agreement', 'include', 'limited', 'national', 'security', 'police', 'service', 'prison', 'service', 'wildlife', 'service', 'order', 'conform', 'relevant', 'national', 'legislation', 'provisions', 'agreement', 'shall', 'complete', 'drafting', 'amendment', 'within', 'forty', 'signature', 'agreement']\n",
            "[]\n",
            "['1.8.3', 'withdrawal', 'route']\n",
            "['...................................................']\n",
            "['arusha', 'tanzania']\n",
            "['january']\n",
            "['reunify']\n",
            "[]\n",
            "[]\n",
            "['south', 'sudan', 'since', 'december', 'result', 'great', 'human']\n",
            "['representative', 'draw', 'member', 'state', 'party', 'partner']\n",
            "['conference', 'express', 'concern', 'alarm', 'worsening', 'conflict', 'insecurity', 'amongst', 'community', 'jonglei', 'state', 'affirmed', 'desire', 'commitment', 'peace', 'reconciliation', 'tolerance', 'peaceful', 'coexistence']\n",
            "[]\n",
            "['meeting', 'cattle', 'youth']\n",
            "['insecurity', 'cause', 'conflict', 'community']\n",
            "['68,\"the', 'interim', 'national', 'constitution', 'republic', 'sudan']\n",
            "['republic', 'sudan', 'independent', 'sovereign', 'state', 'democratic', 'decentralize', 'multi', 'cultural', 'multilingual', 'multi', 'racial', 'multi', 'ethnic', 'multi', 'religious', 'country', 'diversity', 'exist']\n",
            "['respect', 'status', 'institution', 'level', 'government']\n",
            "['1)the', 'right', 'peaceful', 'assembly', 'shall', 'guarantee', 'every', 'person', 'shall', 'right', 'freedom', 'association', 'others', 'include', 'right', 'political', 'party', 'association', 'trade', 'professional', 'union', 'protection', 'interest']\n",
            "['function', 'assign', 'thereto', 'president', 'republic']\n",
            "['function', 'national', 'legislature']\n",
            "['decide', 'objection', 'state', 'refer', 'national', 'petroleum', 'commission', 'accord', 'provisions', 'article', 'constitution']\n",
            "['within', 'competence', 'chamber', 'subject']\n",
            "['third', 'reading', 'deliberation', 'detail', 'introduction']\n",
            "['national', 'judicial', 'organs']\n",
            "['determine']\n",
            "['national', 'judicial', 'service', 'commission']\n",
            "['4)the', 'human', 'right', 'commission', 'express', 'opinion']\n",
            "['national', 'arm', 'force']\n",
            "['responsibility', 'defence', 'country', 'external']\n",
            "['coordination', 'arm', 'force']\n",
            "['social', 'diversity', 'sudan']\n",
            "['southern', 'sudan', 'shall', 'years', 'commence']\n",
            "['power', 'southern', 'sudan', 'assembly']\n",
            "['supreme', 'court', 'southern', 'sudan']\n",
            "['agreement', 'resolution', 'conflict', 'southern', 'kordofan', 'state', 'shall', 'subject', 'popular', 'consultation', 'people', 'state', 'respective', 'democratically', 'elect', 'legislature', 'accordance', 'provisions', 'state', 'therein']\n",
            "['abyei', 'ghazal']\n",
            "['service', 'charge', 'government', 'southern', 'sudan']\n",
            "['revenue', 'expenditure', 'government', 'shall', 'budget', 'operations', 'public']\n",
            "['governor', 'central', 'sudan', 'chairperson']\n",
            "['signing', 'international', 'treaty', 'behalf', 'republic', 'sudan']\n",
            "['rumbek', 'sudan']\n",
            "['delegation', 'power', 'subsidiary', 'legislation']\n",
            "['national', 'security', 'council']\n",
            "['southern', 'sudan', 'council', 'minister']\n",
            "['shall', 'prohibit', 'discrimination', 'guarantee', 'person', 'equal', 'effective', 'protection', 'discrimination', 'ground', 'colour', 'language', 'religion', 'political', 'opinion', 'national', 'social', 'origin', 'property', 'birth', 'status']\n",
            "['2.9.1.2', 'achieve', 'latter', 'enhancement', 'south', 'south', 'international', 'cooperation']\n",
            "['development', 'conservation', 'management', 'state', 'natural', 'resource', 'state', 'forestry', 'resource']\n",
            "['economic', 'social', 'development', 'southern', 'sudan']\n",
            "['agreement', 'wealth', 'sharing', 'matter', 'matter', 'regard', 'government', 'southern', 'sudan', 'accord', 'concurrent', 'authority']\n",
            "['know', 'practice', 'sustainable', 'utilization', 'control', 'natural', 'resource', 'shall', 'follow']\n",
            "['service', 'charge', 'state', 'services']\n",
            "['scope', 'ceasefire', 'shall']\n",
            "['8.6.6', 'party', 'shall', 'establish', 'mining', 'authorities', 'northern', 'southern', 'shall', 'together', 'coordinate', 'mining', 'activity', 'jointly', 'close', 'cooperation', 'action', 'office']\n",
            "['party', 'shall', 'provide', 'detail', 'inventory', 'stocks', 'include', 'different', 'weapon', 'munition', 'lubricant', 'exact', 'location', 'ceasefire', 'inventory', 'shall', 'verify', 'immediately', 'declaration', 'ceasefire', 'party', 'shall', 'agree', 'means', 'monitoring', 'stocks', 'and/or', 'store', 'longer', 'accessible', 'party']\n",
            "['ceasefire', 'political', 'commission']\n",
            "['14.6.5.8', 'coordination', 'monitoring', 'permit', 'military', 'movement', 'itinerary', 'thereof']\n",
            "['14.6.6', 'decision', 'reach', 'shall', 'communicate', 'individual', 'chains', 'command', 'report']\n",
            "['party', 'agree', 'request', 'provide', 'cultural', 'orientation', 'member', 'create', 'conducive', 'atmosphere', 'respect', 'better', 'understanding', 'social', 'values', 'culture', 'ensure', 'effective', 'implementation', 'agreement']\n",
            "['arm', 'force']\n",
            "['shall', 'technical', 'committee', 'form', 'senior', 'officer', 'side']\n",
            "['sindiro']\n",
            "[]\n",
            "['party', 'monitoring']\n",
            "['party', 'monitoring', 'mission']\n",
            "[]\n",
            "['public']\n",
            "['legislature']\n",
            "['presentation', 'proof', 'eligibility', 'registration']\n",
            "['establishment']\n",
            "['improvement']\n",
            "['determine']\n",
            "['safeguard']\n",
            "['assembly']\n",
            "['electoral']\n",
            "['funding', 'source']\n",
            "['joint', 'constitutional']\n",
            "['bill']\n",
            "['location']\n",
            "['executing']\n",
            "[]\n",
            "['composition']\n",
            "['enactment']\n",
            "['within', 'week', 'receipt']\n",
            "[]\n",
            "['southern', 'kordofan']\n",
            "['ministry', 'health']\n",
            "['ministry', 'animal', 'resource', 'fishery']\n",
            "['state']\n",
            "['chair']\n",
            "['fiscal', 'financial', 'allocation', 'monitoring', 'commission']\n",
            "['state']\n",
            "[]\n",
            "['sharing', 'revenue', 'produce', 'abyei']\n",
            "['wealth', 'sharing']\n",
            "['component', 'shall', 'representative', 'council', 'state', 'however', 'arrangement', 'shall', 'subject', 'agree', 'future', 'change']\n",
            "['section', '3.5.4', 'read']\n",
            "['14.7.2', 'shall', 'establish', 'kassala', 'hamashkoreb', 'eastern', 'sudan', 'monitor', 'verify', 'redeployment', 'force', 'provide', 'section', 'c)(v)(a', 'agreement', 'security', 'arrangement']\n",
            "['note', 'tamil', 'people', 'mandate', 'elect', 'representative', 'establish', 'independent', 'sovereign', 'secular', 'state', 'tamil', 'people', 'election', 'subsequent', 'vaddukoddai', 'resolution']\n",
            "['rely', 'international', 'precedent', 'establish', 'interim', 'governing', 'arrangement', 'country', 'force', 'base', 'solely', 'pact', 'agreement', 'war', 'party', 'recognize', 'international', 'community']\n",
            "['2.3.a', 'absolute', 'majority', 'appointee']\n",
            "['recommendation', 'party', 'basis', 'conclusion', 'reach', 'respect', 'case', 'situation']\n",
            "['language', 'administration']\n",
            "['secretary', 'ministry', 'shall', 'subject', 'direction', 'control', 'minister', 'exercise', 'supervision', 'department', 'government', 'institution', 'charge', 'minister', 'cabinet', 'minister']\n",
            "['member', 'holding', 'office', 'respectively', 'speaker', 'deputy', 'speaker', 'deputy', 'chairman', 'committee', 'immediately', 'prior', 'dissolution', 'parliament', 'shall', 'unless', 'vacate', 'office', 'earlier', 'notwithstanding', 'dissolution', 'continue', 'office', 'conclusion', 'general', 'election']\n",
            "['speaker', 'unable', 'discharge', 'function', 'speaker', 'office', 'power', 'duty', 'function', 'confer', 'assign', 'speaker', 'provision', 'constitution', 'exercise', 'perform', 'discharge', 'deputy', 'speaker']\n",
            "['member', 'assume', 'office', 'president', 'president']\n",
            "['certificate', 'provide', 'paragraph', 'shall', 'endorse', 'president']\n",
            "['african', 'union']\n",
            "['internally', 'displace', 'person']\n",
            "['national', 'human', 'right', 'commission', 'human', 'right', 'committee', 'shall', 'monitor', 'situation', 'human', 'right', 'protect', 'promote', 'human', 'right', 'darfur', 'fight', 'form', 'discrimination', 'protection', 'economic', 'social', 'cultural', 'right', 'shall', 'given', 'attention', 'commission', 'committee', 'shall', 'regularly', 'report', 'progress', 'towards', 'effective', 'implementation', 'principle', 'equality', 'state', 'citizen', 'sudan', 'party', 'shall', 'cooperate', 'human', 'right', 'committee', 'darfur', 'implementation', 'mandate', 'committee', 'shall', 'access', 'relevant', 'document', 'information', 'pertain', 'human', 'right', 'include', 'physical', 'access', 'detainee', 'throughout', 'darfur']\n",
            "[]\n",
            "[]\n",
            "[]\n",
            "[]\n",
            "[]\n",
            "[]\n",
            "['retention', 'status', 'state', 'system', 'either', 'character', 'darfur', 'define']\n",
            "['special', 'focus', 'shall', 'concern', 'darfur', 'woman', 'involve', 'area', 'activity', 'constitute', 'labour', 'force', 'especially', 'agricultural', 'animal', 'resource', 'sector', 'addition', 'head', 'household', 'particularly', 'among', 'refugee', 'internally', 'displace', 'person', 'migrant', 'woman', 'situation', 'area', 'worsen', 'conflict', 'particularly', 'deleterious', 'impact', 'child', 'mainly', 'means', 'livelihood', 'concrete', 'measure', 'shall', 'take', 'address', 'concern', 'ensure', 'equal', 'effective', 'participation', 'commission', 'committee', 'body', 'establish', 'pursuant', 'agreement']\n",
            "[]\n",
            "[]\n",
            "[]\n",
            "[]\n",
            "['state', 'share', 'revenue', 'natural', 'resource', 'produce', 'darfur']\n",
            "['ffamc']\n",
            "[]\n",
            "['chapter', 'compensation', 'return', 'internally', 'displace', 'person', 'refugee']\n",
            "[]\n",
            "[]\n",
            "[]\n",
            "['article', 'general', 'principle', 'permanent', 'ceasefire', 'final', 'security', 'arrangement']\n",
            "['importance', 'facilitate', 'mandate', 'unamid', 'include', 'protection', 'civilian', 'outline', 'unscr', 'unscr', 'respectively', 'communiqué', 'meeting']\n",
            "[]\n",
            "[]\n",
            "[]\n",
            "['representative', 'state', 'qatar']\n",
            "[]\n",
            "['phase', 'disengagement']\n",
            "['reintegration', 'programme', 'shall', 'encourage', 'participation', 'community', 'civil', 'society', 'organization', 'include', 'woman', 'group', 'strengthening', 'capacity', 'improve', 'sustain', 'social', 'economic', 'reintegration', 'former', 'combatant']\n",
            "[]\n",
            "[]\n",
            "[]\n",
            "['demilitarise', 'means', 'define', 'accordance', 'agreement', 'within', 'party', 'undertake', 'military', 'operations', 'remove', 'military', 'assets']\n",
            "['family', 'basis', 'society', 'shall', 'protect', 'woman', 'shall', 'enjoy', 'right', 'marry', 'found', 'family', 'accordance', 'respective', 'family']\n",
            "['every', 'person', 'shall', 'equal', 'right', 'trade', 'within', 'regulation', 'prescribe']\n",
            "['programme', 'contradict', 'provisions', 'constitution', 'agreement', 'shall', 'incorporate']\n",
            "['wealth', 'sudan', 'shall', 'define', 'broadly', 'include', 'natural', 'resource', 'human', 'resource', 'historical', 'cultural', 'assets', 'financial', 'assets', 'include', 'credit', 'public', 'borrowing', 'international', 'assistance', 'grant']\n",
            "[]\n",
            "['darfur', 'state', 'shall', 'access', 'borrowing', 'national', 'international', 'capital', 'market', 'borrowing', 'consistent', 'macro', 'economic', 'policy', 'framework', 'state', 'government', 'deem', 'creditworthy', 'without', 'prejudice', 'independence', 'central', 'sudan', 'extent', 'central', 'sudan', 'issuing', 'sovereign', 'guarantee', 'loan', 'state', 'potential', 'loan', 'darfur', 'affect', 'least', 'develop', 'area', 'shall', 'given', 'priority', 'receive', 'guarantee']\n",
            "['competition', 'pasture', 'water', 'nomadic', 'herder', 'settle', 'agricultural', 'producer', 'important', 'problem', 'problem', 'shall', 'address', 'comprehensive', 'developing', 'policy', 'reverse', 'environmental', 'degradation', 'decline', 'agricultural', 'yield', 'gradually', 'shifting', 'emphasis', 'herder', 'quantity', 'quality', 'developing', 'framework', 'equitable', 'access', 'various', 'user', 'water', 'resource', 'developing', 'research', 'capacity', 'area']\n",
            "['national', 'government', 'relevant', 'authorities', 'darfur', 'pledge', 'protect', 'integrity', 'family', 'community', 'right', 'family', 'special', 'effort', 'shall', 'reunify', 'unaccompanied', 'minors', 'family', 'community', 'origin', 'shall', 'facilitate', 'inquiry', 'family', 'member', 'operate', 'humanitarian', 'organisation', 'engage', 'assist', 'family', 'reunification']\n",
            "['need', 'vulnerable', 'group', 'woman', 'child']\n",
            "['general', 'principle']\n",
            "['consultation', 'party', 'chairperson', 'ceasefire', 'commission', 'shall', 'establish', 'demilitarise', 'zone', 'along', 'select', 'humanitarian', 'supply', 'route', 'darfur', 'humanitarian', 'supply', 'route', 'shall', 'select', 'demilitarise', 'status', 'base', 'criterion', 'adjacent', 'area', 'control', 'redeployment', 'zone', 'different', 'party', 'security', 'humanitarian', 'supply', 'route', 'falls', 'exclusively', 'within', 'control', 'redeployment', 'party', 'shall', 'responsibility', 'party']\n",
            "['disengagement', 'redeployment', 'limited', 'control']\n",
            "['party', 'shall', 'bound', 'master', 'determine', 'first', 'instance', 'african', 'union', 'mediation', 'agree', 'party', 'modify', 'thereafter', 'chairperson', 'ceasefire', 'commission', 'consultation', 'party']\n",
            "['party', 'shall', 'submit', 'ceasefire', 'commission', 'arm', 'group', 'militia', 'align', 'subject', 'influence', 'shall', 'indicate', 'location', 'group', 'measure', 'take', 'control', 'and/or', 'neutralise', 'undisciplined', 'militia']\n",
            "['brigade', 'commander', 'shall', 'former', 'combatant']\n",
            "['reintegration', 'shall', 'address']\n",
            "['mandate']\n",
            "['mandate', 'derive', 'declaration', 'principle', 'conformity', 'spirit', 'january']\n",
            "['wrath', 'almighty', 'revenge', 'subject', 'people', 'persecution', 'connection', 'conflict', 'damned', 'nation', 'person', 'bring', 'court']\n",
            "['working', 'group', 'right', 'freedom']\n",
            "['provide', 'guidance', 'monitor', 'government', 'capacity', 'building', 'programme']\n",
            "['criminalization', 'terrorism', 'achieve', 'political', 'gain']\n",
            "['recovery', 'public', 'private', 'property', 'loot', 'country', 'outside', 'country', 'abuse', 'power', 'assets', 'recovery']\n",
            "['constitution', 'shall', 'provide', 'prevent', 'judicial', 'state', 'institution', 'object', 'final', 'court', 'judgement']\n",
            "['shall', 'furnish', 'financial', 'disclosure', 'report', 'child', 'wife', 'shall', 'declare', 'moveable', 'movable', 'assets', 'inside', 'country', 'abroad', 'shall', 'transfer', 'amount', 'country', 'nomination']\n",
            "['shall', 'provide', 'cancellation', 'illusory', 'numbers', 'obtain', 'trade', 'investment', 'firm', 'waste', 'public', 'adoption', 'fix', 'port', 'customs', 'rates', 'assessment', 'large', 'taxpayer', 'would', 'base', 'import', 'abroad']\n",
            "['special', 'funds', 'ministry', 'government', 'facility', 'shall', 'subject', 'shall', 'regulate', 'control', 'disbursement', 'funds', 'personal', 'gain', 'illegally', 'shall', 'criminalize', 'anyone', 'violate', 'shall', 'subject', 'legal', 'judicial', 'accountability', 'without', 'exception']\n",
            "['force', 'infantry', 'mechanize', 'troops', 'armour', 'force', 'artillery', 'battalion', 'platoon', 'combat', 'security', 'engineer', 'communications', 'ratio', 'distribution', 'force', 'follow', 'following:-']\n",
            "['\\u200e\\u200e\\u200e\\u200e\\u200e\\u200e\\u200e\\u200e\\u200e1.1', 'general', 'provisions', 'constitutional', 'principles\\u200e\\u200e\\u200e\\u200e\\u200e\\u200e\\u200e\\u200e\\u200e\\u200e']\n",
            "['\\u200e\\u200ethe', 'election', 'commission', 'shall', 'given', 'right', 'select', 'staff', 'basis', 'qualification', 'integrity', 'independence', 'partisanship', 'advertise', 'vacant', 'post', 'select', 'staff', 'basis', 'vet', 'process', 'oversight', 'public', 'service', 'organization']\n",
            "['\\u200e\\u200e\\u200e\\u200e\\u200e\\u200e\\u200e\\u200e\\u200e9.1', 'party', 'affairs', 'civil', 'society', 'organization', 'commission-', 'constitutional', 'guideline\\u200e\\u200e\\u200e\\u200e\\u200e\\u200e\\u200e\\u200e\\u200e\\u200e']\n",
            "['\\u200eclosure', 'market', 'workshop', 'factory', 'produce', 'modify', 'weapon', 'explosion', 'mines.\\u200e']\n",
            "['decision', 'working', 'group', 'present', 'final', 'plenary']\n",
            "['state', 'shall', 'commit', 'price', 'fixing', 'monitoring', 'price', 'marketplace', 'activate', 'control', 'soundness', 'measure', 'standard', 'weight', 'principle', 'social', 'justice']\n",
            "['state', 'business', 'owner', 'shall', 'commit', 'provide', 'professional', 'technical', 'training', 'literacy', 'program', 'employee']\n",
            "['child', 'shall', 'involve', 'arm', 'conflict']\n",
            "['government', 'adhere', 'fixing', 'financial', 'system', 'create', 'bracket', 'move', 'public', 'system', 'criminalize', 'evasion']\n",
            "['giving', 'priority', 'improve', 'current', 'spending', 'purify', 'salary', 'wages', 'record', 'civil', 'military', 'duplicate', 'identity', 'spending', 'furniture', 'transportation', 'necessary', 'stop', 'operational', 'expense', 'necessary', 'spend', 'expense', 'evident', 'military', 'institution', 'stop']\n",
            "['waive', 'tax', 'vaccination', 'customs', 'ensure', 'store', 'accord', 'international', 'standard']\n",
            "['second', 'government']\n",
            "['beginning']\n",
            "[]\n",
            "['state', 'institution', 'agency', 'government', 'every', 'level', 'endeavour', 'facilitate', 'measure', 'empower', 'appropriate', 'transparent', 'affirmative', 'action', 'marginalise', 'person', 'group', 'community', 'zimbabwe']\n",
            "['state', 'institution', 'agency', 'government', 'every', 'level', 'within', 'limit', 'resource', 'available', 'assist', 'person', 'physical', 'mental', 'disability', 'achieve', 'potential', 'minimise', 'disadvantage', 'suffer']\n",
            "['treat', 'humanely', 'respect', 'inherent', 'dignity']\n",
            "['chosen', 'medical', 'practitioner']\n",
            "['equality', 'discrimination']\n",
            "['section--']\n",
            "['adequate', 'compensation', 'acquisition', 'acquiring', 'property', 'within', 'reasonable', 'acquisition']\n",
            "['section--']\n",
            "['continue', 'vest', 'state', 'compensation', 'payable', 'respect', 'acquisition', 'except', 'improvement', 'effect', 'acquisition']\n",
            "['imprison', 'detain', 'restrict', 'political', 'reason', 'liberation', 'struggle']\n",
            "['person', 'acting', 'member', 'interest', 'group', 'class', 'person']\n",
            "['court', 'observe', 'rule', 'natural', 'justice', 'unreasonably', 'restrict', 'procedural', 'technicality']\n",
            "['challenge', 'presidential', 'election']\n",
            "['commence', 'duty', 'deputy', 'president', 'senate', 'chief', 'justice', 'senior', 'judge', 'available', 'oath', 'loyalty', 'office', 'form', 'third', 'schedule']\n",
            "['deputy', 'speaker', 'resign', 'announce', 'resignation', 'person', 'national', 'assembly', 'national', 'assembly', 'sitting', 'giving', 'write', 'notice', 'speaker', 'absence', 'speaker', 'clerk', 'parliament']\n",
            "['conduct', 'secret', 'ballot']\n",
            "['person', 'appoint', 'subsection', 'continue', 'judges', 'appointment', 'expire', 'purpose', 'dealing', 'proceedings', 'commence', 'acting']\n",
            "['commissioner', 'general', 'prison', 'correctional', 'service', 'exercise', 'command', 'accordance', 'general', 'write', 'policy', 'directive', 'given', 'minister', 'responsible', 'prison', 'correctional', 'service', 'acting', 'authority', 'president']\n",
            "['function', 'zimbabwe', 'electoral', 'commission']\n",
            "['conditions', 'service', 'prosecutor', 'general', 'include', 'remuneration', 'provide', 'parliament', 'remuneration', 'reduce', 'prosecutor', 'general', 'tenure', 'office']\n",
            "['parliament', 'provide', 'appropriate', 'mechanism', 'procedure', 'facilitate', 'ordination', 'central', 'government', 'provincial', 'metropolitan', 'council', 'local', 'authorities']\n",
            "['consultation', 'zimbabwe', 'electoral', 'commission', 'people', 'province', 'district', 'concern']\n",
            "['zimbabwe', 'commission', 'exercise', 'function', 'accordance', 'general', 'write', 'policy', 'directive', 'minister', 'responsible']\n",
            "['money', 'consolidate', 'revenue', 'invest']\n",
            "['auditor', 'general', 'remove', 'office', 'for--']\n",
            "['institute', 'association', 'establish', 'represent', 'public', 'auditor', 'zimbabwe']\n",
            "['local', 'authority', 'means', 'council', 'refer', 'chapter', 'member', 'relation']\n",
            "['omit', 'affirmation', 'affirmation', 'take', 'person', 'specify', 'appropriate', 'legislation']\n",
            "['repeal', 'former', 'constitution']\n",
            "['prison', 'service', 'commission', 'construe', 'reference', 'prison', 'correctional', 'service', 'commission']\n"
          ],
          "name": "stdout"
        }
      ]
    },
    {
      "cell_type": "markdown",
      "metadata": {
        "id": "mnQ34tuqfihV"
      },
      "source": [
        "Use for building matrix."
      ]
    },
    {
      "cell_type": "code",
      "metadata": {
        "id": "QPN7AGwDbOks"
      },
      "source": [
        "from gensim import corpora\n",
        "dictionary = corpora.Dictionary(text_data)\n",
        "corpus = [dictionary.doc2bow(text) for text in text_data]\n",
        "\n",
        "import pickle\n",
        "pickle.dump(corpus, open('corpus.pkl', 'wb'))\n",
        "dictionary.save('dictionary.gensim')"
      ],
      "execution_count": 47,
      "outputs": []
    },
    {
      "cell_type": "markdown",
      "metadata": {
        "id": "NKZDL0Akhq1S"
      },
      "source": [
        "5 topics for lda model."
      ]
    },
    {
      "cell_type": "code",
      "metadata": {
        "id": "tQpC7MmlbQkQ",
        "colab": {
          "base_uri": "https://localhost:8080/"
        },
        "outputId": "bc48f348-1a92-4260-cc86-cbfaba75228d"
      },
      "source": [
        "import gensim\n",
        "NUM_TOPICS = 5\n",
        "ldamodel = gensim.models.ldamodel.LdaModel(corpus, num_topics = NUM_TOPICS, id2word=dictionary, passes=15)\n",
        "ldamodel.save('model5.gensim')\n",
        "topics = ldamodel.print_topics(num_words=4)\n",
        "for topic in topics:\n",
        "    print(topic)"
      ],
      "execution_count": 48,
      "outputs": [
        {
          "output_type": "stream",
          "text": [
            "(0, '0.035*\"shall\" + 0.009*\"party\" + 0.008*\"state\" + 0.007*\"group\"')\n",
            "(1, '0.036*\"shall\" + 0.013*\"commission\" + 0.011*\"right\" + 0.011*\"member\"')\n",
            "(2, '0.022*\"shall\" + 0.012*\"right\" + 0.010*\"national\" + 0.010*\"service\"')\n",
            "(3, '0.014*\"shall\" + 0.011*\"amnesty\" + 0.009*\"national\" + 0.008*\"right\"')\n",
            "(4, '0.013*\"person\" + 0.012*\"state\" + 0.011*\"government\" + 0.009*\"speaker\"')\n"
          ],
          "name": "stdout"
        }
      ]
    },
    {
      "cell_type": "markdown",
      "metadata": {
        "id": "ANVz4RGVhxzp"
      },
      "source": [
        "3 topics for lda model."
      ]
    },
    {
      "cell_type": "code",
      "metadata": {
        "id": "gZkAsXP5euyb",
        "colab": {
          "base_uri": "https://localhost:8080/"
        },
        "outputId": "ec5adf2c-5ceb-4e69-e71c-2fe13198bf90"
      },
      "source": [
        "ldamodel = gensim.models.ldamodel.LdaModel(corpus, num_topics = 3, id2word=dictionary, passes=15)\n",
        "ldamodel.save('model3.gensim')\n",
        "topics = ldamodel.print_topics(num_words=4)\n",
        "for topic in topics:\n",
        "    print(topic)"
      ],
      "execution_count": 49,
      "outputs": [
        {
          "output_type": "stream",
          "text": [
            "(0, '0.035*\"shall\" + 0.011*\"state\" + 0.009*\"party\" + 0.009*\"sudan\"')\n",
            "(1, '0.012*\"national\" + 0.007*\"member\" + 0.007*\"government\" + 0.007*\"political\"')\n",
            "(2, '0.028*\"shall\" + 0.013*\"person\" + 0.011*\"commission\" + 0.010*\"service\"')\n"
          ],
          "name": "stdout"
        }
      ]
    },
    {
      "cell_type": "markdown",
      "metadata": {
        "id": "EmsL8jeghz8I"
      },
      "source": [
        "10 topics for lda model."
      ]
    },
    {
      "cell_type": "code",
      "metadata": {
        "id": "zPaMfkYney5I",
        "colab": {
          "base_uri": "https://localhost:8080/"
        },
        "outputId": "2ddb5ea2-657d-4890-a50c-9af8dba9a23a"
      },
      "source": [
        "ldamodel = gensim.models.ldamodel.LdaModel(corpus, num_topics = 10, id2word=dictionary, passes=15)\n",
        "ldamodel.save('model10.gensim')\n",
        "topics = ldamodel.print_topics(num_words=4)\n",
        "for topic in topics:\n",
        "    print(topic)"
      ],
      "execution_count": 50,
      "outputs": [
        {
          "output_type": "stream",
          "text": [
            "(0, '0.022*\"office\" + 0.015*\"shall\" + 0.014*\"southern\" + 0.013*\"sudan\"')\n",
            "(1, '0.013*\"person\" + 0.013*\"meeting\" + 0.009*\"establish\" + 0.009*\"jurisdiction\"')\n",
            "(2, '0.033*\"service\" + 0.020*\"party\" + 0.015*\"amnesty\" + 0.013*\"minister\"')\n",
            "(3, '0.017*\"shall\" + 0.012*\"public\" + 0.011*\"property\" + 0.010*\"humanitarian\"')\n",
            "(4, '0.024*\"national\" + 0.013*\"person\" + 0.013*\"political\" + 0.011*\"force\"')\n",
            "(5, '0.022*\"force\" + 0.016*\"member\" + 0.015*\"national\" + 0.013*\"shall\"')\n",
            "(6, '0.029*\"right\" + 0.015*\"article\" + 0.014*\"human\" + 0.014*\"government\"')\n",
            "(7, '0.048*\"shall\" + 0.018*\"state\" + 0.014*\"council\" + 0.014*\"commission\"')\n",
            "(8, '0.062*\"shall\" + 0.008*\"ceasefire\" + 0.008*\"force\" + 0.008*\"person\"')\n",
            "(9, '0.014*\"government\" + 0.011*\"council\" + 0.011*\"person\" + 0.011*\"multi\"')\n"
          ],
          "name": "stdout"
        }
      ]
    },
    {
      "cell_type": "markdown",
      "metadata": {
        "id": "cNpTNX9NMhMe"
      },
      "source": [
        "## Explore"
      ]
    },
    {
      "cell_type": "markdown",
      "metadata": {
        "id": "L0m8wrV7iRgW"
      },
      "source": [
        "### Use pyldavis to visualize different frequent words under different topics."
      ]
    },
    {
      "cell_type": "code",
      "metadata": {
        "id": "LKMhUJB2KW_u",
        "colab": {
          "base_uri": "https://localhost:8080/"
        },
        "outputId": "82e2c039-fb35-4eb8-db1e-0390b6699dcf"
      },
      "source": [
        "!pip install pyldavis"
      ],
      "execution_count": 51,
      "outputs": [
        {
          "output_type": "stream",
          "text": [
            "Collecting pyldavis\n",
            "\u001b[?25l  Downloading https://files.pythonhosted.org/packages/a5/3a/af82e070a8a96e13217c8f362f9a73e82d61ac8fff3a2561946a97f96266/pyLDAvis-2.1.2.tar.gz (1.6MB)\n",
            "\u001b[K     |████████████████████████████████| 1.6MB 6.5MB/s \n",
            "\u001b[?25hRequirement already satisfied: wheel>=0.23.0 in /usr/local/lib/python3.6/dist-packages (from pyldavis) (0.35.1)\n",
            "Requirement already satisfied: numpy>=1.9.2 in /usr/local/lib/python3.6/dist-packages (from pyldavis) (1.18.5)\n",
            "Requirement already satisfied: scipy>=0.18.0 in /usr/local/lib/python3.6/dist-packages (from pyldavis) (1.4.1)\n",
            "Requirement already satisfied: pandas>=0.17.0 in /usr/local/lib/python3.6/dist-packages (from pyldavis) (1.1.4)\n",
            "Requirement already satisfied: joblib>=0.8.4 in /usr/local/lib/python3.6/dist-packages (from pyldavis) (0.17.0)\n",
            "Requirement already satisfied: jinja2>=2.7.2 in /usr/local/lib/python3.6/dist-packages (from pyldavis) (2.11.2)\n",
            "Requirement already satisfied: numexpr in /usr/local/lib/python3.6/dist-packages (from pyldavis) (2.7.1)\n",
            "Requirement already satisfied: pytest in /usr/local/lib/python3.6/dist-packages (from pyldavis) (3.6.4)\n",
            "Requirement already satisfied: future in /usr/local/lib/python3.6/dist-packages (from pyldavis) (0.16.0)\n",
            "Collecting funcy\n",
            "  Downloading https://files.pythonhosted.org/packages/66/89/479de0afbbfb98d1c4b887936808764627300208bb771fcd823403645a36/funcy-1.15-py2.py3-none-any.whl\n",
            "Requirement already satisfied: pytz>=2017.2 in /usr/local/lib/python3.6/dist-packages (from pandas>=0.17.0->pyldavis) (2018.9)\n",
            "Requirement already satisfied: python-dateutil>=2.7.3 in /usr/local/lib/python3.6/dist-packages (from pandas>=0.17.0->pyldavis) (2.8.1)\n",
            "Requirement already satisfied: MarkupSafe>=0.23 in /usr/local/lib/python3.6/dist-packages (from jinja2>=2.7.2->pyldavis) (1.1.1)\n",
            "Requirement already satisfied: py>=1.5.0 in /usr/local/lib/python3.6/dist-packages (from pytest->pyldavis) (1.9.0)\n",
            "Requirement already satisfied: more-itertools>=4.0.0 in /usr/local/lib/python3.6/dist-packages (from pytest->pyldavis) (8.6.0)\n",
            "Requirement already satisfied: atomicwrites>=1.0 in /usr/local/lib/python3.6/dist-packages (from pytest->pyldavis) (1.4.0)\n",
            "Requirement already satisfied: attrs>=17.4.0 in /usr/local/lib/python3.6/dist-packages (from pytest->pyldavis) (20.3.0)\n",
            "Requirement already satisfied: setuptools in /usr/local/lib/python3.6/dist-packages (from pytest->pyldavis) (50.3.2)\n",
            "Requirement already satisfied: pluggy<0.8,>=0.5 in /usr/local/lib/python3.6/dist-packages (from pytest->pyldavis) (0.7.1)\n",
            "Requirement already satisfied: six>=1.10.0 in /usr/local/lib/python3.6/dist-packages (from pytest->pyldavis) (1.15.0)\n",
            "Building wheels for collected packages: pyldavis\n",
            "  Building wheel for pyldavis (setup.py) ... \u001b[?25l\u001b[?25hdone\n",
            "  Created wheel for pyldavis: filename=pyLDAvis-2.1.2-py2.py3-none-any.whl size=97712 sha256=907b12df3d432d5dbaf9f3ac0dbad64d0d0855b8bfe874838c503fc66cab9e95\n",
            "  Stored in directory: /root/.cache/pip/wheels/98/71/24/513a99e58bb6b8465bae4d2d5e9dba8f0bef8179e3051ac414\n",
            "Successfully built pyldavis\n",
            "Installing collected packages: funcy, pyldavis\n",
            "Successfully installed funcy-1.15 pyldavis-2.1.2\n"
          ],
          "name": "stdout"
        }
      ]
    },
    {
      "cell_type": "markdown",
      "metadata": {
        "id": "0o5b04GDiyhL"
      },
      "source": [
        "老人 5 主题"
      ]
    },
    {
      "cell_type": "code",
      "metadata": {
        "id": "8fbmf0bbKiQc",
        "colab": {
          "base_uri": "https://localhost:8080/",
          "height": 881
        },
        "outputId": "d5467c6b-effd-42be-dd96-7481e1cc4220"
      },
      "source": [
        "dictionary = gensim.corpora.Dictionary.load('dictionary.gensim')\n",
        "corpus = pickle.load(open('corpus.pkl', 'rb'))\n",
        "lda = gensim.models.ldamodel.LdaModel.load('model5.gensim')\n",
        "\n",
        "import pyLDAvis.gensim\n",
        "lda_display = pyLDAvis.gensim.prepare(lda, corpus, dictionary, sort_topics=False)\n",
        "pyLDAvis.display(lda_display)"
      ],
      "execution_count": 52,
      "outputs": [
        {
          "output_type": "execute_result",
          "data": {
            "text/html": [
              "\n",
              "<link rel=\"stylesheet\" type=\"text/css\" href=\"https://cdn.rawgit.com/bmabey/pyLDAvis/files/ldavis.v1.0.0.css\">\n",
              "\n",
              "\n",
              "<div id=\"ldavis_el561400088410553521019242411\"></div>\n",
              "<script type=\"text/javascript\">\n",
              "\n",
              "var ldavis_el561400088410553521019242411_data = {\"mdsDat\": {\"x\": [0.05386200931034416, -0.02341499082686719, -0.1335808594980951, 0.07377381503927606, 0.029360025975342065], \"y\": [-0.0831759405518821, 0.04394550249494122, 0.0011170082970851677, 0.10220263928171927, -0.06408920952186344], \"topics\": [1, 2, 3, 4, 5], \"cluster\": [1, 1, 1, 1, 1], \"Freq\": [18.963940394466874, 26.205505541302927, 20.079826434084385, 19.479273005211553, 15.271454624934261]}, \"tinfo\": {\"Term\": [\"amnesty\", \"service\", \"right\", \"speaker\", \"pardon\", \"group\", \"shall\", \"appropriate\", \"human\", \"minister\", \"person\", \"commission\", \"investigation\", \"darfur\", \"function\", \"chamber\", \"mission\", \"provision\", \"public\", \"implementation\", \"guarantee\", \"general\", \"article\", \"security\", \"southern\", \"chairperson\", \"council\", \"month\", \"constitution\", \"include\", \"command\", \"location\", \"together\", \"group\", \"bench\", \"ministerial\", \"expense\", \"reintegration\", \"secretary\", \"judge\", \"zone\", \"administration\", \"outside\", \"militia\", \"priority\", \"inventory\", \"stocks\", \"officer\", \"stable\", \"construction\", \"last\", \"spirit\", \"sixty\", \"fifth\", \"portfolio\", \"detail\", \"encourage\", \"recovery\", \"elements\", \"improve\", \"supreme\", \"chief\", \"involve\", \"control\", \"woman\", \"combatant\", \"shall\", \"responsibility\", \"submit\", \"supply\", \"arm\", \"peace\", \"justice\", \"minister\", \"party\", \"social\", \"state\", \"establish\", \"court\", \"national\", \"force\", \"necessary\", \"country\", \"conflict\", \"within\", \"ceasefire\", \"commission\", \"council\", \"sudan\", \"municipal\", \"prison\", \"illicit\", \"barrack\", \"inconsistent\", \"found\", \"qualification\", \"difference\", \"commissioner\", \"consultation\", \"chairperson\", \"syllabus\", \"statute\", \"personnel\", \"number\", \"funds\", \"allocation\", \"planning\", \"gain\", \"determination\", \"penalty\", \"leader\", \"expert\", \"customs\", \"iraqi\", \"revenge\", \"adoption\", \"study\", \"panel\", \"assessment\", \"power\", \"federal\", \"base\", \"authority\", \"security\", \"executive\", \"accordance\", \"council\", \"commission\", \"duty\", \"shall\", \"member\", \"subject\", \"service\", \"agreement\", \"nepal\", \"political\", \"exercise\", \"right\", \"president\", \"republic\", \"party\", \"minister\", \"provisions\", \"within\", \"monitoring\", \"public\", \"conflict\", \"state\", \"parliament\", \"national\", \"government\", \"force\", \"relation\", \"senate\", \"crossing\", \"investigation\", \"reconciliation\", \"detainee\", \"developing\", \"internally\", \"agricultural\", \"carry\", \"criminal\", \"prosecutor\", \"remuneration\", \"triangle\", \"abovementioned\", \"happen\", \"source\", \"israel\", \"section--\", \"cause\", \"strengthen\", \"discuss\", \"direct\", \"important\", \"lodge\", \"breach\", \"unscr\", \"water\", \"herder\", \"assist\", \"victim\", \"chapter\", \"house\", \"refer\", \"darfur\", \"human\", \"include\", \"service\", \"southern\", \"public\", \"family\", \"assembly\", \"rule\", \"local\", \"sitting\", \"general\", \"community\", \"point\", \"resource\", \"organisation\", \"right\", \"article\", \"shall\", \"national\", \"sudan\", \"committee\", \"government\", \"person\", \"president\", \"commission\", \"state\", \"member\", \"court\", \"amnesty\", \"pardon\", \"chamber\", \"mission\", \"verification\", \"title\", \"centre\", \"rural\", \"multi\", \"request\", \"small\", \"culture\", \"provision\", \"parliamentary\", \"hearing\", \"functioning\", \"invest\", \"translation\", \"unofficial\", \"english\", \"implement\", \"safeguard\", \"size\", \"provisional\", \"august\", \"candidate\", \"medium\", \"exist\", \"reception\", \"diversity\", \"guarantee\", \"property\", \"implementation\", \"constitution\", \"grant\", \"incident\", \"electoral\", \"system\", \"second\", \"institution\", \"international\", \"information\", \"national\", \"government\", \"right\", \"place\", \"internal\", \"political\", \"force\", \"shall\", \"person\", \"provide\", \"party\", \"state\", \"agreement\", \"establish\", \"social\", \"sudan\", \"following\", \"monitoring\", \"dissolution\", \"price\", \"tamil\", \"affirmation\", \"district\", \"proposal\", \"arrest\", \"maximum\", \"challenge\", \"transparent\", \"tender\", \"absence\", \"procurement\", \"contract\", \"climate\", \"exceed\", \"improvement\", \"impact\", \"appropriate\", \"effect\", \"speaker\", \"situation\", \"zimbabwe\", \"month\", \"change\", \"take\", \"earlier\", \"vacate\", \"nature\", \"judiciary\", \"giving\", \"relative\", \"inauguration\", \"deem\", \"specify\", \"principle\", \"function\", \"person\", \"deputy\", \"election\", \"government\", \"military\", \"state\", \"commit\", \"office\", \"force\", \"measure\", \"article\", \"international\", \"particularly\", \"general\", \"establish\", \"parliament\", \"shall\", \"jurisdiction\", \"respect\", \"party\", \"minister\", \"national\", \"member\"], \"Freq\": [9.0, 18.0, 30.0, 9.0, 7.0, 7.0, 105.0, 7.0, 13.0, 15.0, 24.0, 26.0, 6.0, 8.0, 10.0, 5.0, 5.0, 6.0, 14.0, 9.0, 8.0, 12.0, 14.0, 15.0, 8.0, 8.0, 18.0, 5.0, 13.0, 12.0, 3.0734060991018586, 3.072853323626833, 3.065433170629665, 5.9576307008555, 2.342524650513221, 2.342359580319645, 2.3416348726106633, 2.34096792040821, 2.336634923132942, 2.3339072620820414, 2.333637926997141, 2.329132044426753, 2.233578513364937, 2.2332979321583033, 3.3521063442224763, 1.6104858044472206, 1.6104848513860566, 1.6104757019988838, 1.6104745583254871, 1.6104743677132545, 1.6104741771010218, 1.6104737958765563, 1.6104728428153923, 1.6104701742441336, 1.6103899264941386, 1.6102831836437888, 1.6102334338510365, 1.6101914991598276, 1.6099276918296777, 1.6097559502079544, 3.0720350253115627, 3.7899575106432777, 3.6827427044052192, 4.494998993121272, 2.7683859262684893, 3.076874860513759, 28.35284377276368, 4.173082761363171, 2.3215723632751994, 2.3111472084284537, 4.284124680010732, 3.0733208954338114, 4.266109155442957, 5.48191022092634, 7.736485434179534, 4.547360935911399, 6.740993224879745, 4.908801376582746, 4.135428458453374, 5.855526589802401, 5.116090273594931, 3.074892493292978, 3.000620627407406, 3.498648266325098, 3.6021693887165904, 3.003205710508197, 3.7449962784025765, 3.079010098745219, 3.0069784984313617, 4.836713045899525, 3.7812867905380583, 2.496631966850708, 2.496476034424623, 2.4957854012807132, 2.494713629250748, 2.49456796940003, 2.4522468026832356, 2.405374885078824, 4.0522393992126045, 6.399226019502414, 1.7165869854441578, 1.7165835612523688, 1.716583034453632, 1.7165815857571058, 1.7165778981659483, 1.7165718399804755, 1.7165696010858442, 1.7165689425874233, 1.7165568262164774, 1.7165464219414261, 1.716502697646274, 1.7163046213212472, 1.7162421956709395, 1.7160139601182325, 1.7158532865035165, 1.7155378657598737, 1.7150486014330952, 1.7137551788346324, 1.713312799595427, 6.576411613823719, 6.4027271239070105, 3.2596867670985277, 3.7401264248377437, 10.064425596609512, 4.67095266258136, 7.2983687374209, 10.765812809931903, 14.832824435921738, 3.8801874585811555, 40.33104962815648, 11.9272249129467, 6.289901058056046, 9.426244749322665, 9.824965016419279, 4.060798298288962, 7.797796065429008, 4.36721842211488, 12.630561281595153, 7.40379644181262, 5.563595737685537, 11.253496740499859, 7.012193752448551, 4.842456732526564, 7.16552063198139, 4.776725946944403, 5.625437694992837, 4.84731961166572, 6.97001403119258, 4.76132709306978, 5.998674599996776, 5.161329061492964, 4.840679313588691, 3.815953429769558, 3.79912054281852, 2.3507997920054775, 5.2875855553186, 2.3503030924684576, 2.3500992458482264, 2.348804315238914, 2.32920860018456, 2.318902437990994, 3.484361178347383, 3.8196412371407167, 1.6162360740611903, 1.6162343585203272, 1.616231734751948, 1.6162206341934204, 1.6161979285055232, 1.6161951029088073, 1.6161920754837542, 1.6160754187050475, 1.6157738871697744, 1.6157505759968667, 1.6156354329306866, 1.615568224094511, 1.6154671080977427, 1.615180612773566, 1.6151236971825707, 1.6150637541665223, 1.6146691797679553, 1.6146249793621825, 1.6002178671918994, 3.747280934495289, 3.084452658665502, 4.552658344539624, 3.942681442485761, 5.0535365354455815, 7.489054377334264, 6.76244168672069, 8.959528008229713, 4.560943801424518, 6.759488130839038, 3.8201946504403947, 5.20961603953508, 3.0851348384440986, 3.0574833471522, 2.3477259464350557, 5.8112816506769285, 3.6143793966111244, 2.343851649680636, 4.724653223960781, 3.8203670118400757, 10.400879424742543, 6.003245022090625, 19.05311168039831, 9.008058842798414, 4.957337480619932, 4.64572704186053, 6.026361632481552, 5.707423614124006, 4.660166648393048, 5.509888165986199, 5.4995105565613835, 4.865740919188103, 4.187147226480946, 8.974783162269604, 6.7673576429577285, 4.556955302156024, 4.5023438241981495, 3.820819692559321, 3.819227120473143, 3.093549740281802, 3.0932270750742754, 3.091303027140802, 3.596139763611531, 2.356536590964144, 2.3514289651942732, 5.075544076761617, 1.62044141241438, 1.62044141241438, 1.6204346575905573, 1.6204229100708658, 1.6204178194789995, 1.6204166447270303, 1.6204155678710586, 1.6203324541692412, 1.6202262370120306, 1.6201417527662492, 1.6199886434262698, 1.6199264794679022, 1.6199324511237456, 1.6198880063409127, 1.6198793914931389, 1.619886048420964, 1.6198017599671775, 5.30429961187438, 3.8304322963388895, 5.050314711888153, 6.556622411467743, 2.3445002780802238, 2.356211967836669, 3.0964603840773672, 3.093063001382584, 3.095106678224916, 3.8357347351436446, 5.253744160881992, 2.896193758968471, 7.631514589480525, 6.392696346940525, 6.779079318105911, 2.358111541770785, 2.3439542142065637, 4.573280047103328, 5.373097003027725, 11.56627817453562, 5.30911178752401, 3.9769798634024753, 4.770943813432576, 4.56892015096182, 4.042839983048955, 3.8336076509115027, 3.500131592596755, 3.3919749198850044, 3.09799069430918, 3.097003706863099, 1.508964560171058, 1.508961950705828, 1.508961950705828, 1.5089541223101381, 1.508949056877633, 1.5089447589349012, 1.5089197387682847, 1.5089192782744205, 1.5085516506729062, 1.5085100527271817, 1.5085009963478542, 1.5084201029257256, 1.508225467519162, 1.5079531621475184, 1.5079195460954384, 1.5077850818871184, 1.507633272409917, 1.5058130936630463, 4.933594646890931, 2.882671327596287, 6.2354571571111865, 2.8300918311963397, 2.8518397284146, 3.5691792641618423, 2.1986264192119, 2.135069670079307, 0.8230701549304517, 0.8230700781814743, 0.8230690804447687, 0.8230690804447687, 1.509566579149404, 1.5092818404434294, 1.5090339412465839, 1.5089548897999117, 2.1851895152530902, 4.973231809742122, 4.209525453813591, 8.362391742587132, 2.875642042258608, 3.5692053588141417, 7.075179384159662, 4.398186719980214, 7.661377635310306, 3.0339503158663086, 4.122892129166827, 4.962725488734507, 2.763370875225495, 3.5843531509760735, 3.631380319358496, 2.026828284851017, 3.080170085006993, 3.3725047907678927, 2.885413108063196, 6.1337156427748045, 2.428103712521835, 2.1965391540238457, 3.568897441917007, 2.821317274113685, 3.217303008767476, 2.4631294898178324], \"Total\": [9.0, 18.0, 30.0, 9.0, 7.0, 7.0, 105.0, 7.0, 13.0, 15.0, 24.0, 26.0, 6.0, 8.0, 10.0, 5.0, 5.0, 6.0, 14.0, 9.0, 8.0, 12.0, 14.0, 15.0, 8.0, 8.0, 18.0, 5.0, 13.0, 12.0, 3.6621278711954077, 3.662039469188236, 3.6625264479007673, 7.274335885669089, 2.930010512552545, 2.9300113387126676, 2.9299545834895273, 2.9300871733702563, 2.9303628436664044, 2.9300650437488716, 2.930581362890773, 2.9301665107047676, 2.9232235548911834, 2.92312545843349, 4.423964001482102, 2.1979690635670575, 2.197969077397857, 2.19796905957205, 2.1979692533617214, 2.1979691024598718, 2.197969084905374, 2.197969095029574, 2.1979691140541884, 2.1979691565558412, 2.1979695404481663, 2.1979814085129883, 2.197968718946298, 2.1979707933723533, 2.1980057232317476, 2.1979231680520424, 4.398711427037784, 5.90994113219634, 5.865783278584127, 8.06846630434775, 4.424816313114259, 5.131377705943009, 105.4369988986289, 8.18193502588522, 3.665226994993801, 3.668855065703468, 9.5755835896112, 5.817545795729895, 10.270362055226826, 15.61794615185922, 29.04050386335513, 14.059350464423389, 31.440815598905832, 16.922091823636695, 11.736990550492392, 31.71107763084559, 22.700194236249683, 6.604567421854381, 6.549085667111414, 11.281000971325158, 18.62425608351588, 8.900053159400368, 26.412415148996953, 18.099711117414078, 15.659454750586999, 5.415420097458948, 4.618174052804487, 3.0746860598880237, 3.074676921378421, 3.074586527170655, 3.0745715936413966, 3.0745152141371057, 3.072084118520978, 3.0690531890834105, 5.320923843809946, 8.449224435095825, 2.294428039893052, 2.294427673687617, 2.2944276501660044, 2.2944277359155096, 2.2944274696842824, 2.2944268231024574, 2.2944267448888804, 2.294426843733082, 2.294425761570209, 2.2944251223969014, 2.294417731418607, 2.2944122040926476, 2.2944086467059854, 2.2943925393520304, 2.294382805985663, 2.29436491014276, 2.2943376001776854, 2.294252804288528, 2.294235290220688, 9.190587709493371, 9.182150443340516, 4.539819318064863, 5.351163267407037, 15.862233395774567, 6.828712787863601, 11.363545870856417, 18.099711117414078, 26.412415148996953, 6.088210273381302, 105.4369988986289, 24.03001628731034, 11.37828551311588, 18.907228123913598, 20.277159146188474, 6.840608926616197, 15.828755485363246, 7.557696949626307, 30.130782442893196, 15.060741926222487, 10.503699678797535, 29.04050386335513, 15.61794615185922, 9.09359382817713, 18.62425608351588, 9.775907461578766, 14.276717043221986, 11.281000971325158, 31.440815598905832, 11.824722743020068, 31.71107763084559, 26.257250328449423, 22.700194236249683, 4.407334022418726, 4.405877350661254, 2.9378579049077733, 6.6086113749274045, 2.937819399437538, 2.9378820460862998, 2.9379573628883406, 2.9368884954891934, 2.936786373659212, 4.427988467137175, 5.139301456031147, 2.203201211785743, 2.203201164552139, 2.2032010278960827, 2.2032011422720212, 2.2032012774292893, 2.203200865394014, 2.2032013096327567, 2.203200593478129, 2.203199575967259, 2.2031866164453215, 2.203189087321457, 2.2031862013636156, 2.2032354736975543, 2.2031975303332767, 2.2031685263648573, 2.203204154867715, 2.2032712398032306, 2.2032842561450288, 2.2041761788940177, 5.1824965465664885, 4.404591707039121, 6.699862150203087, 5.959747954696892, 8.072314063856604, 13.455224451964543, 12.575478917498687, 18.907228123913598, 8.260406744925875, 14.276717043221986, 6.747986761843617, 10.185096970526235, 5.145647510679342, 5.098437663655518, 3.623772454846194, 12.273476030049583, 6.4973441206261455, 3.670261049745754, 9.757654936816397, 7.3028384918982665, 30.130782442893196, 14.445549118842006, 105.4369988986289, 31.71107763084559, 15.659454750586999, 14.128781397181989, 26.257250328449423, 24.609275035835978, 15.060741926222487, 26.412415148996953, 31.440815598905832, 24.03001628731034, 11.736990550492392, 9.572412682611615, 7.3627104627358095, 5.153846409359762, 5.152765763505883, 4.416583139161608, 4.415987398476402, 3.6801549824163633, 3.6801527657523896, 3.680142043803082, 4.430420280020527, 2.943585028420936, 2.9438667804364087, 6.6380379212802465, 2.2070206154634757, 2.2070207319116886, 2.2070206886394277, 2.207020689324984, 2.207020564827867, 2.2070204384601397, 2.2070205862998895, 2.207013495141779, 2.207019341181665, 2.2070188950429417, 2.207019401361551, 2.206987605528089, 2.2070221811807675, 2.207017453787746, 2.2070177968382216, 2.207052680346235, 2.207016882190081, 8.86628394399273, 6.612807869184982, 9.513328022539321, 13.407078689478276, 3.6774435991111565, 3.720412849900237, 5.783970809759751, 5.884182540449734, 5.926416674859406, 8.769019445250095, 15.303304408252167, 5.778966968709526, 31.71107763084559, 26.257250328449423, 30.130782442893196, 4.4097096374989775, 4.406761069293797, 15.828755485363246, 22.700194236249683, 105.4369988986289, 24.609275035835978, 14.721821735386754, 29.04050386335513, 31.440815598905832, 20.277159146188474, 16.922091823636695, 14.059350464423389, 15.659454750586999, 8.032610159424383, 9.775907461578766, 2.1056775964923817, 2.1056779365440406, 2.105677948470219, 2.105678532817684, 2.1056789134621727, 2.1056792853981183, 2.1056812715839826, 2.105681574756832, 2.105707302007484, 2.1057111978319156, 2.1057120430064202, 2.1057180698337534, 2.1057321684445003, 2.1057523089360943, 2.1057520197578024, 2.105764890921846, 2.1057735191625615, 2.1058980640632345, 7.047651882486284, 4.213894070749975, 9.11795211789798, 4.215807943341342, 4.261631439709906, 5.631803251004273, 3.5712738292517887, 3.5276416786880285, 1.4197822094633583, 1.4197822452912834, 1.4197823276950927, 1.4197823486446377, 2.837678641458879, 2.837698224823581, 2.8377237745267614, 2.83778155186494, 4.348049893385184, 11.54439522962786, 10.239073341157575, 24.609275035835978, 6.409763301221409, 8.75342877698006, 26.257250328449423, 12.403709701340286, 31.440815598905832, 7.138078513967461, 12.342553799469965, 22.700194236249683, 7.160171613577565, 14.445549118842006, 15.303304408252167, 4.315001477381877, 12.273476030049583, 16.922091823636695, 11.824722743020068, 105.4369988986289, 8.099574168328271, 6.537315619419118, 29.04050386335513, 15.61794615185922, 31.71107763084559, 24.03001628731034], \"Category\": [\"Default\", \"Default\", \"Default\", \"Default\", \"Default\", \"Default\", \"Default\", \"Default\", \"Default\", \"Default\", \"Default\", \"Default\", \"Default\", \"Default\", \"Default\", \"Default\", \"Default\", \"Default\", \"Default\", \"Default\", \"Default\", \"Default\", \"Default\", \"Default\", \"Default\", \"Default\", \"Default\", \"Default\", \"Default\", \"Default\", \"Topic1\", \"Topic1\", \"Topic1\", \"Topic1\", \"Topic1\", \"Topic1\", \"Topic1\", \"Topic1\", \"Topic1\", \"Topic1\", \"Topic1\", \"Topic1\", \"Topic1\", \"Topic1\", \"Topic1\", \"Topic1\", \"Topic1\", \"Topic1\", \"Topic1\", \"Topic1\", \"Topic1\", \"Topic1\", \"Topic1\", \"Topic1\", \"Topic1\", \"Topic1\", \"Topic1\", \"Topic1\", \"Topic1\", \"Topic1\", \"Topic1\", \"Topic1\", \"Topic1\", \"Topic1\", \"Topic1\", \"Topic1\", \"Topic1\", \"Topic1\", \"Topic1\", \"Topic1\", \"Topic1\", \"Topic1\", \"Topic1\", \"Topic1\", \"Topic1\", \"Topic1\", \"Topic1\", \"Topic1\", \"Topic1\", \"Topic1\", \"Topic1\", \"Topic1\", \"Topic1\", \"Topic1\", \"Topic1\", \"Topic1\", \"Topic1\", \"Topic1\", \"Topic1\", \"Topic2\", \"Topic2\", \"Topic2\", \"Topic2\", \"Topic2\", \"Topic2\", \"Topic2\", \"Topic2\", \"Topic2\", \"Topic2\", \"Topic2\", \"Topic2\", \"Topic2\", \"Topic2\", \"Topic2\", \"Topic2\", \"Topic2\", \"Topic2\", \"Topic2\", \"Topic2\", \"Topic2\", \"Topic2\", \"Topic2\", \"Topic2\", \"Topic2\", \"Topic2\", \"Topic2\", \"Topic2\", \"Topic2\", \"Topic2\", \"Topic2\", \"Topic2\", \"Topic2\", \"Topic2\", \"Topic2\", \"Topic2\", \"Topic2\", \"Topic2\", \"Topic2\", \"Topic2\", \"Topic2\", \"Topic2\", \"Topic2\", \"Topic2\", \"Topic2\", \"Topic2\", \"Topic2\", \"Topic2\", \"Topic2\", \"Topic2\", \"Topic2\", \"Topic2\", \"Topic2\", \"Topic2\", \"Topic2\", \"Topic2\", \"Topic2\", \"Topic2\", \"Topic2\", \"Topic2\", \"Topic2\", \"Topic2\", \"Topic2\", \"Topic3\", \"Topic3\", \"Topic3\", \"Topic3\", \"Topic3\", \"Topic3\", \"Topic3\", \"Topic3\", \"Topic3\", \"Topic3\", \"Topic3\", \"Topic3\", \"Topic3\", \"Topic3\", \"Topic3\", \"Topic3\", \"Topic3\", \"Topic3\", \"Topic3\", \"Topic3\", \"Topic3\", \"Topic3\", \"Topic3\", \"Topic3\", \"Topic3\", \"Topic3\", \"Topic3\", \"Topic3\", \"Topic3\", \"Topic3\", \"Topic3\", \"Topic3\", \"Topic3\", \"Topic3\", \"Topic3\", \"Topic3\", \"Topic3\", \"Topic3\", \"Topic3\", \"Topic3\", \"Topic3\", \"Topic3\", \"Topic3\", \"Topic3\", \"Topic3\", \"Topic3\", \"Topic3\", \"Topic3\", \"Topic3\", \"Topic3\", \"Topic3\", \"Topic3\", \"Topic3\", \"Topic3\", \"Topic3\", \"Topic3\", \"Topic3\", \"Topic3\", \"Topic3\", \"Topic3\", \"Topic3\", \"Topic3\", \"Topic3\", \"Topic4\", \"Topic4\", \"Topic4\", \"Topic4\", \"Topic4\", \"Topic4\", \"Topic4\", \"Topic4\", \"Topic4\", \"Topic4\", \"Topic4\", \"Topic4\", \"Topic4\", \"Topic4\", \"Topic4\", \"Topic4\", \"Topic4\", \"Topic4\", \"Topic4\", \"Topic4\", \"Topic4\", \"Topic4\", \"Topic4\", \"Topic4\", \"Topic4\", \"Topic4\", \"Topic4\", \"Topic4\", \"Topic4\", \"Topic4\", \"Topic4\", \"Topic4\", \"Topic4\", \"Topic4\", \"Topic4\", \"Topic4\", \"Topic4\", \"Topic4\", \"Topic4\", \"Topic4\", \"Topic4\", \"Topic4\", \"Topic4\", \"Topic4\", \"Topic4\", \"Topic4\", \"Topic4\", \"Topic4\", \"Topic4\", \"Topic4\", \"Topic4\", \"Topic4\", \"Topic4\", \"Topic4\", \"Topic4\", \"Topic4\", \"Topic4\", \"Topic4\", \"Topic4\", \"Topic4\", \"Topic5\", \"Topic5\", \"Topic5\", \"Topic5\", \"Topic5\", \"Topic5\", \"Topic5\", \"Topic5\", \"Topic5\", \"Topic5\", \"Topic5\", \"Topic5\", \"Topic5\", \"Topic5\", \"Topic5\", \"Topic5\", \"Topic5\", \"Topic5\", \"Topic5\", \"Topic5\", \"Topic5\", \"Topic5\", \"Topic5\", \"Topic5\", \"Topic5\", \"Topic5\", \"Topic5\", \"Topic5\", \"Topic5\", \"Topic5\", \"Topic5\", \"Topic5\", \"Topic5\", \"Topic5\", \"Topic5\", \"Topic5\", \"Topic5\", \"Topic5\", \"Topic5\", \"Topic5\", \"Topic5\", \"Topic5\", \"Topic5\", \"Topic5\", \"Topic5\", \"Topic5\", \"Topic5\", \"Topic5\", \"Topic5\", \"Topic5\", \"Topic5\", \"Topic5\", \"Topic5\", \"Topic5\", \"Topic5\", \"Topic5\", \"Topic5\", \"Topic5\", \"Topic5\", \"Topic5\"], \"logprob\": [30.0, 29.0, 28.0, 27.0, 26.0, 25.0, 24.0, 23.0, 22.0, 21.0, 20.0, 19.0, 18.0, 17.0, 16.0, 15.0, 14.0, 13.0, 12.0, 11.0, 10.0, 9.0, 8.0, 7.0, 6.0, 5.0, 4.0, 3.0, 2.0, 1.0, -5.58489990234375, -5.585100173950195, -5.587500095367432, -4.922999858856201, -5.856500148773193, -5.856500148773193, -5.856800079345703, -5.857100009918213, -5.859000205993652, -5.860099792480469, -5.860300064086914, -5.862199783325195, -5.904099941253662, -5.904200077056885, -5.4980998039245605, -6.231100082397461, -6.231100082397461, -6.231200218200684, -6.231200218200684, -6.231200218200684, -6.231200218200684, -6.231200218200684, -6.231200218200684, -6.231200218200684, -6.231200218200684, -6.231299877166748, -6.231299877166748, -6.231299877166748, -6.231500148773193, -6.231599807739258, -5.585299968719482, -5.37529993057251, -5.4039998054504395, -5.204699993133545, -5.6894001960754395, -5.583799839019775, -3.36299991607666, -5.2789998054504395, -5.8653998374938965, -5.869900226593018, -5.252799987792969, -5.58489990234375, -5.256999969482422, -5.006199836730957, -4.6616997718811035, -5.1930999755859375, -4.799499988555908, -5.116700172424316, -5.288099765777588, -4.940299987792969, -5.075300216674805, -5.584400177001953, -5.60890007019043, -5.4552998542785645, -5.42609977722168, -5.607999801635742, -5.38730001449585, -5.583099842071533, -5.6066999435424805, -5.454899787902832, -5.701099872589111, -6.116199970245361, -6.116199970245361, -6.116499900817871, -6.1168999671936035, -6.117000102996826, -6.134099960327148, -6.15339994430542, -5.631800174713135, -5.174900054931641, -6.490799903869629, -6.490799903869629, -6.490799903869629, -6.490799903869629, -6.490799903869629, -6.490799903869629, -6.490799903869629, -6.490799903869629, -6.490799903869629, -6.490799903869629, -6.490799903869629, -6.490900039672852, -6.491000175476074, -6.491099834442139, -6.491199970245361, -6.491399765014648, -6.491700172424316, -6.492400169372559, -6.492700099945068, -5.147600173950195, -5.1743998527526855, -5.8495001792907715, -5.711999893188477, -4.722099781036377, -5.489799976348877, -5.043499946594238, -4.654699802398682, -4.3343000411987305, -5.67519998550415, -3.3340001106262207, -4.552299976348877, -5.192200183868408, -4.787600040435791, -4.746200084686279, -5.629700183868408, -4.97730016708374, -5.557000160217285, -4.494999885559082, -5.029099941253662, -5.314899921417236, -4.610400199890137, -5.083499908447266, -5.453700065612793, -5.061800003051758, -5.467400074005127, -5.303800106048584, -5.452700138092041, -5.0894999504089355, -5.470600128173828, -5.23960018157959, -5.389900207519531, -5.454100131988525, -5.4257001876831055, -5.430099964141846, -5.910099983215332, -5.0995001792907715, -5.910299777984619, -5.910399913787842, -5.910999774932861, -5.919300079345703, -5.923799991607666, -5.516600131988525, -5.424699783325195, -6.284800052642822, -6.284800052642822, -6.284800052642822, -6.284800052642822, -6.284800052642822, -6.284800052642822, -6.284800052642822, -6.284900188446045, -6.284999847412109, -6.285099983215332, -6.285099983215332, -6.285200119018555, -6.285200119018555, -6.285399913787842, -6.285399913787842, -6.2855000495910645, -6.285699844360352, -6.285799980163574, -6.2947001457214355, -5.44379997253418, -5.638500213623047, -5.249199867248535, -5.39300012588501, -5.144800186157227, -4.751399993896484, -4.853499889373779, -4.5721001625061035, -5.247300148010254, -4.853899955749512, -5.424600124359131, -5.1143999099731445, -5.638299942016602, -5.647299766540527, -5.911399841308594, -5.005099773406982, -5.479899883270264, -5.913099765777588, -5.212100028991699, -5.424499988555908, -4.422999858856201, -4.972599983215332, -3.8176000118255615, -4.566699981689453, -5.164000034332275, -5.228899955749512, -4.968699932098389, -5.023099899291992, -5.225800037384033, -5.058300018310547, -5.060200214385986, -5.182600021362305, -5.332799911499023, -4.54010009765625, -4.822400093078613, -5.217800140380859, -5.229899883270264, -5.394000053405762, -5.394400119781494, -5.605199813842773, -5.605299949645996, -5.605899810791016, -5.454599857330322, -5.877299785614014, -5.879499912261963, -5.110099792480469, -6.251800060272217, -6.251800060272217, -6.251800060272217, -6.251800060272217, -6.251800060272217, -6.251800060272217, -6.251800060272217, -6.2519001960754395, -6.2519001960754395, -6.251999855041504, -6.252099990844727, -6.252099990844727, -6.252099990844727, -6.252099990844727, -6.252099990844727, -6.252099990844727, -6.252200126647949, -5.065999984741211, -5.391499996185303, -5.114999771118164, -4.854000091552734, -5.882400035858154, -5.877399921417236, -5.6041998863220215, -5.605299949645996, -5.604700088500977, -5.390100002288818, -5.0756001472473145, -5.67110013961792, -4.702199935913086, -4.879300117492676, -4.820700168609619, -5.8765997886657715, -5.882699966430664, -5.214300155639648, -5.053100109100342, -4.286399841308594, -5.065100193023682, -5.354000091552734, -5.171999931335449, -5.215199947357178, -5.337500095367432, -5.390699863433838, -5.4816999435424805, -5.5131001472473145, -5.603700160980225, -5.604100227355957, -6.079699993133545, -6.079699993133545, -6.079699993133545, -6.079699993133545, -6.079699993133545, -6.079699993133545, -6.079699993133545, -6.079699993133545, -6.079999923706055, -6.079999923706055, -6.079999923706055, -6.080100059509277, -6.0802001953125, -6.080399990081787, -6.080399990081787, -6.08050012588501, -6.080599784851074, -6.0817999839782715, -4.895100116729736, -5.432400226593018, -4.660900115966797, -5.450799942016602, -5.44320011138916, -5.218800067901611, -5.7032999992370605, -5.732600212097168, -6.685800075531006, -6.685800075531006, -6.685800075531006, -6.685800075531006, -6.0792999267578125, -6.079500198364258, -6.079699993133545, -6.079699993133545, -5.709400177001953, -4.8871002197265625, -5.053800106048584, -4.367400169372559, -5.434899806976318, -5.218800067901611, -4.5345001220703125, -5.009900093078613, -4.454899787902832, -5.38129997253418, -5.0746002197265625, -4.889200210571289, -5.474699974060059, -5.214600086212158, -5.201499938964844, -5.7846999168396, -5.366099834442139, -5.2754998207092285, -5.43149995803833, -4.677299976348877, -5.604000091552734, -5.70419979095459, -5.218900203704834, -5.45389986038208, -5.3225998878479, -5.589700222015381], \"loglift\": [30.0, 29.0, 28.0, 27.0, 26.0, 25.0, 24.0, 23.0, 22.0, 21.0, 20.0, 19.0, 18.0, 17.0, 16.0, 15.0, 14.0, 13.0, 12.0, 11.0, 10.0, 9.0, 8.0, 7.0, 6.0, 5.0, 4.0, 3.0, 2.0, 1.0, 1.4874, 1.4872, 1.4847, 1.463, 1.4389, 1.4388, 1.4385, 1.4382, 1.4362, 1.4352, 1.4349, 1.4331, 1.3935, 1.3935, 1.3852, 1.3516, 1.3516, 1.3516, 1.3516, 1.3516, 1.3516, 1.3516, 1.3516, 1.3516, 1.3516, 1.3515, 1.3515, 1.3514, 1.3513, 1.3512, 1.3037, 1.2183, 1.1972, 1.0776, 1.1937, 1.1512, 0.3492, 0.9894, 1.206, 1.2005, 0.8583, 1.0245, 0.7841, 0.6157, 0.3399, 0.5339, 0.1227, 0.425, 0.6195, -0.0266, 0.1726, 0.8981, 0.8821, 0.4919, 0.0197, 0.5763, -0.2908, -0.1087, 0.0125, 1.2262, 1.1393, 1.1309, 1.1309, 1.1306, 1.1302, 1.1302, 1.1138, 1.0955, 1.0668, 1.0613, 1.0491, 1.0491, 1.0491, 1.0491, 1.0491, 1.049, 1.049, 1.049, 1.049, 1.049, 1.049, 1.0489, 1.0489, 1.0487, 1.0486, 1.0485, 1.0482, 1.0475, 1.0472, 1.0045, 0.9787, 1.0079, 0.981, 0.8843, 0.9594, 0.8964, 0.8197, 0.7622, 0.8887, 0.3782, 0.6387, 0.7464, 0.6432, 0.6146, 0.8177, 0.6312, 0.7908, 0.4698, 0.6291, 0.7037, 0.3912, 0.5384, 0.7091, 0.384, 0.623, 0.4079, 0.4945, -0.1673, 0.4295, -0.3259, -0.2875, -0.2061, 1.4614, 1.4573, 1.3825, 1.3824, 1.3823, 1.3822, 1.3816, 1.3736, 1.3692, 1.3658, 1.3087, 1.2956, 1.2956, 1.2956, 1.2956, 1.2956, 1.2956, 1.2956, 1.2955, 1.2954, 1.2953, 1.2953, 1.2952, 1.2952, 1.295, 1.295, 1.2949, 1.2946, 1.2946, 1.2852, 1.2812, 1.2492, 1.2191, 1.1923, 1.1371, 1.0195, 0.9851, 0.8586, 1.0115, 0.8578, 1.0365, 0.935, 1.0939, 1.0941, 1.1714, 0.8578, 1.019, 1.157, 0.8802, 0.9575, 0.5418, 0.7274, -0.1054, 0.3469, 0.4552, 0.4932, 0.1337, 0.1441, 0.4324, 0.0382, -0.138, 0.0084, 0.5747, 1.5714, 1.5515, 1.5127, 1.5009, 1.4909, 1.4906, 1.4622, 1.4621, 1.4615, 1.4272, 1.4134, 1.4111, 1.3674, 1.3269, 1.3269, 1.3269, 1.3269, 1.3269, 1.3269, 1.3269, 1.3268, 1.3267, 1.3267, 1.3266, 1.3266, 1.3266, 1.3265, 1.3265, 1.3265, 1.3265, 1.1221, 1.0898, 1.0026, 0.9205, 1.1857, 1.179, 1.011, 0.9927, 0.9862, 0.809, 0.5667, 0.945, 0.2114, 0.223, 0.1441, 1.0099, 1.0045, 0.3942, 0.1949, -0.5742, 0.1021, 0.327, -0.1703, -0.293, 0.0233, 0.151, 0.2453, 0.1062, 0.6831, 0.4863, 1.546, 1.546, 1.546, 1.546, 1.546, 1.546, 1.5459, 1.5459, 1.5457, 1.5457, 1.5456, 1.5456, 1.5455, 1.5453, 1.5452, 1.5451, 1.545, 1.5438, 1.5226, 1.4995, 1.4992, 1.4807, 1.4775, 1.4231, 1.3941, 1.3771, 1.334, 1.334, 1.334, 1.334, 1.248, 1.2478, 1.2477, 1.2476, 1.1912, 1.0371, 0.9903, 0.7998, 1.0776, 0.9821, 0.5678, 0.8424, 0.4673, 1.0236, 0.7827, 0.3588, 0.9271, 0.4854, 0.4407, 1.1236, 0.4967, 0.2662, 0.4687, -0.9651, 0.6745, 0.7885, -0.2173, 0.168, -0.4089, -0.3987]}, \"token.table\": {\"Topic\": [3, 5, 2, 3, 4, 5, 1, 2, 5, 1, 2, 3, 4, 5, 3, 2, 4, 1, 2, 5, 1, 2, 4, 5, 5, 1, 3, 4, 5, 1, 3, 4, 5, 2, 3, 4, 2, 3, 2, 2, 5, 1, 3, 4, 2, 3, 3, 1, 2, 3, 4, 5, 4, 2, 4, 5, 4, 2, 5, 1, 3, 1, 2, 4, 5, 1, 3, 1, 1, 2, 3, 5, 2, 1, 3, 4, 5, 1, 2, 3, 4, 5, 1, 3, 5, 1, 2, 3, 2, 3, 4, 5, 1, 2, 5, 5, 1, 2, 4, 5, 1, 2, 4, 5, 1, 3, 4, 5, 1, 2, 3, 4, 5, 1, 3, 3, 4, 2, 1, 3, 1, 5, 1, 3, 5, 1, 3, 2, 3, 2, 3, 3, 5, 5, 4, 1, 2, 5, 4, 5, 2, 3, 5, 1, 4, 5, 1, 1, 4, 1, 2, 4, 5, 5, 2, 4, 5, 1, 2, 4, 5, 4, 1, 2, 2, 3, 2, 3, 4, 1, 2, 3, 4, 5, 1, 2, 3, 4, 5, 2, 2, 4, 5, 4, 2, 2, 1, 3, 4, 5, 1, 5, 1, 2, 3, 4, 5, 3, 4, 1, 5, 1, 2, 4, 3, 4, 3, 2, 3, 2, 3, 4, 2, 5, 4, 3, 4, 5, 3, 1, 5, 1, 5, 2, 4, 1, 2, 3, 4, 2, 3, 4, 5, 1, 3, 4, 5, 1, 4, 3, 1, 2, 3, 4, 5, 1, 4, 1, 3, 1, 3, 4, 2, 3, 1, 5, 2, 3, 5, 1, 2, 3, 4, 5, 1, 2, 3, 4, 5, 1, 3, 5, 1, 3, 4, 5, 4, 1, 2, 3, 4, 5, 1, 2, 3, 4, 5, 1, 1, 2, 5, 1, 4, 1, 2, 4, 5, 1, 4, 5, 4, 2, 1, 2, 3, 4, 5, 5, 1, 3, 4, 1, 2, 4, 2, 1, 2, 3, 5, 1, 3, 4, 5, 1, 2, 4, 1, 2, 3, 5, 4, 1, 2, 5, 1, 2, 3, 4, 5, 1, 3, 5, 2, 1, 2, 3, 4, 5, 2, 2, 4, 5, 2, 1, 3, 1, 2, 4, 5, 1, 1, 2, 4, 1, 2, 3, 5, 5, 1, 2, 3, 4, 5, 1, 2, 2, 5, 1, 4, 5, 3, 1, 2, 3, 4, 5, 3, 4, 4, 2, 3, 4, 1, 2, 3, 4, 2, 4, 3, 1, 2, 3, 1, 3, 1, 5, 3, 1, 2, 4, 5, 4, 1, 2, 3, 2, 3, 4, 5, 1, 2, 4, 2, 2, 3, 4, 3, 4, 4, 4, 2, 4, 5, 1, 3, 1, 2, 4, 5, 3, 2, 3, 1, 2, 3, 4, 5, 3, 5, 3, 5, 1, 4, 4, 1, 2, 3, 4, 5, 3, 2, 3, 3, 5, 2, 5, 1, 1, 1, 2, 3, 4, 5, 2, 1, 3, 2, 1, 2, 3, 4, 1, 4, 1, 2, 3, 4, 1, 4, 1, 4, 2, 3, 4, 1, 5, 5, 5, 4, 1, 4, 5, 3, 4, 3, 5, 4, 2, 3, 3, 1, 2, 3, 4, 5, 1, 2, 2, 5, 1], \"Freq\": [0.9077700449708043, 0.949794765335276, 0.6160049054716794, 0.176001401563337, 0.0880007007816685, 0.0880007007816685, 0.6825550673292479, 0.8717009186980443, 0.9498125990408082, 0.09863314607243406, 0.49316573036217026, 0.1479497191086511, 0.19726629214486813, 0.09863314607243406, 0.6810165076828575, 0.8716773966648708, 0.9402018381790613, 0.14189123082044428, 0.14189123082044428, 0.7094561541022214, 0.4177291088910449, 0.20886455444552246, 0.20886455444552246, 0.10443227722276123, 0.9498113636616596, 0.13845095008477776, 0.4153528502543333, 0.13845095008477776, 0.2769019001695555, 0.09818266854933369, 0.4909133427466684, 0.19636533709866738, 0.19636533709866738, 0.871750168138864, 0.9073684849473028, 0.90621261079599, 0.7475010198928658, 0.18687525497321644, 0.6504748469973788, 0.6608192506830373, 0.2202730835610124, 0.682591407584287, 0.9077834836810793, 0.9061984138872543, 0.22583617988655905, 0.6775085396596772, 0.9077706903252061, 0.3370766383379806, 0.3370766383379806, 0.2247177588919871, 0.11235887944599356, 0.11235887944599356, 0.815183060043363, 0.710124348819236, 0.23670811627307867, 0.9497996222425085, 0.9701492056339969, 0.2800121323123263, 0.5600242646246526, 0.22703579957294734, 0.6811073987188421, 0.6768256925959364, 0.1692064231489841, 0.1692064231489841, 0.949779452297538, 0.5846383119538228, 0.3897588746358818, 0.8191958624920235, 0.1514439318568679, 0.5679147444632546, 0.22716589778530186, 0.07572196592843396, 0.6516667769441008, 0.28018744765646564, 0.14009372382823282, 0.14009372382823282, 0.42028117148469846, 0.07077751236206767, 0.35388756181033837, 0.35388756181033837, 0.21233253708620303, 0.07077751236206767, 0.1539090405917473, 0.6156361623669891, 0.3078180811834946, 0.26593384821308064, 0.4432230803551344, 0.26593384821308064, 0.2983498562695209, 0.14917492813476044, 0.5221122484716616, 0.07458746406738022, 0.9099308983741795, 0.7517491543603594, 0.18793728859008985, 0.9497793218664334, 0.495757167362101, 0.12393929184052525, 0.2478785836810505, 0.12393929184052525, 0.165748501759989, 0.607744506453293, 0.110499001173326, 0.110499001173326, 0.4580792117387588, 0.30538614115917256, 0.15269307057958628, 0.15269307057958628, 0.3408028644814911, 0.08520071612037278, 0.3408028644814911, 0.17040143224074555, 0.08520071612037278, 0.19457897314555575, 0.778315892582223, 0.6807681190635342, 0.6793785687895542, 0.8716843021278449, 0.37164064433919325, 0.6194010738986554, 0.35238794168029514, 0.7047758833605903, 0.31202400244934025, 0.15601200122467013, 0.4680360036740104, 0.9099258038552156, 0.680762525052461, 0.8716777999525613, 0.6807450731802916, 0.6510238401163567, 0.9077762010138508, 0.9077750119176173, 0.9498130213911101, 0.9498124273427734, 0.9062005896463046, 0.32850376550631677, 0.6570075310126335, 0.7043333782707241, 0.2373101893902196, 0.7119305681706589, 0.3427228434061701, 0.2284818956041134, 0.4569637912082268, 0.17289160559258374, 0.5186748167777512, 0.34578321118516747, 0.9099157380988899, 0.909931057143887, 0.9061990687422797, 0.2954717449893532, 0.2954717449893532, 0.23637739599148255, 0.17728304699361191, 0.9497736469167055, 0.7322024157885657, 0.14644048315771313, 0.14644048315771313, 0.13231544036036605, 0.5292617614414642, 0.13231544036036605, 0.13231544036036605, 0.9062002140921583, 0.6826044373759654, 0.871682950619121, 0.2963846952559196, 0.5927693905118392, 0.6534417005061798, 0.21781390016872662, 0.10890695008436331, 0.9099308759791453, 0.2489850696480607, 0.12449253482403035, 0.37347760447209105, 0.2489850696480607, 0.2202624324692146, 0.2202624324692146, 0.08810497298768584, 0.2202624324692146, 0.2202624324692146, 0.650497130766528, 0.39066035242870734, 0.09766508810717683, 0.39066035242870734, 0.9061990267218335, 0.8716771510215592, 0.8716773888270749, 0.162953021222621, 0.488859063667863, 0.0814765106113105, 0.2444295318339315, 0.3524007212761379, 0.7048014425522758, 0.07616943796407438, 0.19042359491018596, 0.22850831389222315, 0.22850831389222315, 0.26659303287426034, 0.2719280318103863, 0.5438560636207725, 0.824817563321538, 0.137469593886923, 0.22557364648298703, 0.11278682324149351, 0.5639341162074676, 0.9077699892828739, 0.9061990089543154, 0.9077358014164252, 0.29851360448354536, 0.7462840112088633, 0.2972822946417647, 0.5202440156230882, 0.14864114732088235, 0.6504729136713351, 0.9497135849686338, 0.9062019803696395, 0.3153470576114154, 0.525578429352359, 0.1051156858704718, 0.9077558998464759, 0.9099499150248022, 0.9497697552941846, 0.3523951164580023, 0.7047902329160046, 0.26878737396760016, 0.5375747479352003, 0.15903966863774982, 0.15903966863774982, 0.5566388402321244, 0.15903966863774982, 0.650493971246427, 0.17304130745417728, 0.5191239223625318, 0.34608261490835457, 0.2280756716856567, 0.2280756716856567, 0.4561513433713134, 0.11403783584282835, 0.4538480685816962, 0.4538480685816962, 0.6809928272972661, 0.13069072839729426, 0.13069072839729426, 0.13069072839729426, 0.3267268209932357, 0.2613814567945885, 0.9099309144753039, 0.9061990264403451, 0.1513177191495823, 0.7565885957479116, 0.6819208637666397, 0.17048021594165993, 0.17048021594165993, 0.8716904216245529, 0.9077699760142991, 0.6825787039324902, 0.7043333092249152, 0.37038984243528345, 0.24692656162352228, 0.24692656162352228, 0.3894702035323387, 0.09736755088308467, 0.292102652649254, 0.19473510176616934, 0.09736755088308467, 0.9099309056415156, 0.8716808507069144, 0.5884155496076099, 0.19613851653586997, 0.19613851653586997, 0.8192156379638939, 0.9077715331759022, 0.9498112269092556, 0.13966145701085397, 0.27932291402170795, 0.27932291402170795, 0.4189843710325619, 0.9062003549485045, 0.08322924030043836, 0.4993754418026302, 0.20807310075109592, 0.12484386045065755, 0.08322924030043836, 0.16124208387301175, 0.3224841677460235, 0.08062104193650588, 0.08062104193650588, 0.3224841677460235, 0.6841991657353649, 0.32014452805657684, 0.44820233927920755, 0.1920867168339461, 0.682591215117523, 0.9703526667973468, 0.10229229398193428, 0.5114614699096713, 0.3068768819458028, 0.10229229398193428, 0.17756302119071335, 0.17756302119071335, 0.7102520847628534, 0.8151859260572946, 0.9232894050724018, 0.18920832870604679, 0.18920832870604679, 0.2838124930590702, 0.25227777160806236, 0.09460416435302339, 0.704333319617679, 0.45423111134774097, 0.151410370449247, 0.302820740898494, 0.14618581631075117, 0.5847432652430047, 0.29237163262150234, 0.8716770498775248, 0.16204101942710492, 0.24306152914065737, 0.24306152914065737, 0.32408203885420983, 0.9099309161291856, 0.54773222828871, 0.273866114144355, 0.1369330570721775, 0.6841762056321586, 0.8717435132961388, 0.9507368292462998, 0.08456857904683499, 0.4228428952341749, 0.2537057371405049, 0.2537057371405049, 0.9061990567677587, 0.23174963096576948, 0.23174963096576948, 0.46349926193153895, 0.2754773139489095, 0.3787813066797505, 0.06886932848722738, 0.17217332121806841, 0.13773865697445475, 0.5156813724099969, 0.3437875816066646, 0.1718937908033323, 0.8716780427816593, 0.08127017139219274, 0.16254034278438548, 0.2438105141765782, 0.20317542848048184, 0.32508068556877096, 0.8716770824546582, 0.22677230071936497, 0.45354460143872993, 0.22677230071936497, 0.8716774263790498, 0.2724601837434075, 0.544920367486815, 0.12635232137165728, 0.5054092854866291, 0.3158808034291432, 0.06317616068582864, 0.909930717052703, 0.10880696987060523, 0.7616487890942366, 0.10880696987060523, 0.1327955827008608, 0.46478453945301285, 0.331988956752152, 0.0663977913504304, 0.9498128680032212, 0.08662212096079074, 0.17324424192158147, 0.17324424192158147, 0.08662212096079074, 0.4331106048039537, 0.6781248669733636, 0.22604162232445454, 0.8661431886853448, 0.9497884061283043, 0.30244338555786543, 0.6048867711157309, 0.9498122595729778, 0.9077700163295371, 0.13585275218980625, 0.20377912828470937, 0.20377912828470937, 0.2717055043796125, 0.13585275218980625, 0.15064692486829523, 0.7532346243414761, 0.9061995552762985, 0.5498376213491253, 0.21993504853965012, 0.21993504853965012, 0.07004411427168826, 0.42026468563012953, 0.49030879990181775, 0.07004411427168826, 0.6505090593807065, 0.9061858911705936, 0.6807770417687729, 0.9099301983587297, 0.33558466149961846, 0.6711693229992369, 0.6825735487246791, 0.9075781367269316, 0.35239828930793715, 0.7047965786158743, 0.9077700357908783, 0.09520454988051222, 0.5712272992830733, 0.19040909976102444, 0.19040909976102444, 0.9028488827659185, 0.10248364043156738, 0.4099345617262695, 0.512418202157837, 0.15296798536535341, 0.30593597073070683, 0.15296798536535341, 0.30593597073070683, 0.48888190719495866, 0.24444095359747933, 0.24444095359747933, 0.8716941195611878, 0.4314524531395383, 0.3318865024150295, 0.23232055169052063, 0.5830170049102201, 0.3886780032734801, 0.8151835510520348, 0.9061995799860891, 0.33747205262907815, 0.5062080789436173, 0.16873602631453907, 0.6825093364539269, 0.9077702710866911, 0.0630428247428501, 0.630428247428501, 0.1260856494857002, 0.1260856494857002, 0.907878200331578, 0.4760084313266907, 0.4760084313266907, 0.2655614280801017, 0.3793734686858596, 0.1802023976257833, 0.11381204060575786, 0.05690602030287893, 0.5519110333004855, 0.27595551665024276, 0.23720245643055207, 0.7116073692916562, 0.9099308935742817, 0.9061997631701681, 0.6794435970728133, 0.3556352060966327, 0.2133811236579796, 0.14225408243865306, 0.2845081648773061, 0.07112704121932653, 0.9077701590509887, 0.3631782420209285, 0.6052970700348809, 0.21934749976084245, 0.6580424992825273, 0.4599763224986582, 0.4599763224986582, 0.909930901450227, 0.9099308359027616, 0.22264053481626622, 0.22264053481626622, 0.15902895344019016, 0.15902895344019016, 0.25444632550430424, 0.8716770735185515, 0.9099309087495309, 0.9077760299882595, 0.8717112947306053, 0.1757734060807823, 0.5273202182423469, 0.08788670304039115, 0.1757734060807823, 0.5456687956112205, 0.27283439780561025, 0.19157755156753106, 0.25543673542337475, 0.3192959192792184, 0.19157755156753106, 0.5451291926726789, 0.27256459633633945, 0.6820179158741232, 0.2273393052913744, 0.8716769343932984, 0.33989428204365973, 0.5098414230654896, 0.28347550320697873, 0.5669510064139575, 0.9498128626236533, 0.9497974837739492, 0.9057996862445926, 0.8191067129957507, 0.9061990775586573, 0.9497978649965113, 0.90777009209635, 0.9061991294450449, 0.9077688037131013, 0.7043333604970101, 0.9056775054299812, 0.192957195632387, 0.771828782529548, 0.9077411640786522, 0.21477367912377207, 0.37585393846660115, 0.16108025934282907, 0.16108025934282907, 0.10738683956188604, 0.677994246022961, 0.22599808200765367, 0.23465192007971272, 0.7039557602391382, 0.6824584450462646], \"Term\": [\"abovementioned\", \"absence\", \"accordance\", \"accordance\", \"accordance\", \"accordance\", \"administration\", \"adoption\", \"affirmation\", \"agreement\", \"agreement\", \"agreement\", \"agreement\", \"agreement\", \"agricultural\", \"allocation\", \"amnesty\", \"appropriate\", \"appropriate\", \"appropriate\", \"arm\", \"arm\", \"arm\", \"arm\", \"arrest\", \"article\", \"article\", \"article\", \"article\", \"assembly\", \"assembly\", \"assembly\", \"assembly\", \"assessment\", \"assist\", \"august\", \"authority\", \"authority\", \"barrack\", \"base\", \"base\", \"bench\", \"breach\", \"candidate\", \"carry\", \"carry\", \"cause\", \"ceasefire\", \"ceasefire\", \"ceasefire\", \"ceasefire\", \"ceasefire\", \"centre\", \"chairperson\", \"chairperson\", \"challenge\", \"chamber\", \"change\", \"change\", \"chapter\", \"chapter\", \"chief\", \"chief\", \"chief\", \"climate\", \"combatant\", \"combatant\", \"command\", \"commission\", \"commission\", \"commission\", \"commission\", \"commissioner\", \"commit\", \"commit\", \"commit\", \"commit\", \"committee\", \"committee\", \"committee\", \"committee\", \"committee\", \"community\", \"community\", \"community\", \"conflict\", \"conflict\", \"conflict\", \"constitution\", \"constitution\", \"constitution\", \"constitution\", \"construction\", \"consultation\", \"consultation\", \"contract\", \"control\", \"control\", \"control\", \"control\", \"council\", \"council\", \"council\", \"council\", \"country\", \"country\", \"country\", \"country\", \"court\", \"court\", \"court\", \"court\", \"court\", \"criminal\", \"criminal\", \"crossing\", \"culture\", \"customs\", \"darfur\", \"darfur\", \"deem\", \"deem\", \"deputy\", \"deputy\", \"deputy\", \"detail\", \"detainee\", \"determination\", \"developing\", \"difference\", \"direct\", \"discuss\", \"dissolution\", \"district\", \"diversity\", \"duty\", \"duty\", \"earlier\", \"effect\", \"effect\", \"election\", \"election\", \"election\", \"electoral\", \"electoral\", \"electoral\", \"elements\", \"encourage\", \"english\", \"establish\", \"establish\", \"establish\", \"establish\", \"exceed\", \"executive\", \"executive\", \"executive\", \"exercise\", \"exercise\", \"exercise\", \"exercise\", \"exist\", \"expense\", \"expert\", \"family\", \"family\", \"federal\", \"federal\", \"federal\", \"fifth\", \"following\", \"following\", \"following\", \"following\", \"force\", \"force\", \"force\", \"force\", \"force\", \"found\", \"function\", \"function\", \"function\", \"functioning\", \"funds\", \"gain\", \"general\", \"general\", \"general\", \"general\", \"giving\", \"giving\", \"government\", \"government\", \"government\", \"government\", \"government\", \"grant\", \"grant\", \"group\", \"group\", \"guarantee\", \"guarantee\", \"guarantee\", \"happen\", \"hearing\", \"herder\", \"house\", \"house\", \"human\", \"human\", \"human\", \"illicit\", \"impact\", \"implement\", \"implementation\", \"implementation\", \"implementation\", \"important\", \"improve\", \"improvement\", \"inauguration\", \"inauguration\", \"incident\", \"incident\", \"include\", \"include\", \"include\", \"include\", \"inconsistent\", \"information\", \"information\", \"information\", \"institution\", \"institution\", \"institution\", \"institution\", \"internal\", \"internal\", \"internally\", \"international\", \"international\", \"international\", \"international\", \"international\", \"inventory\", \"invest\", \"investigation\", \"investigation\", \"involve\", \"involve\", \"involve\", \"iraqi\", \"israel\", \"judge\", \"judiciary\", \"jurisdiction\", \"jurisdiction\", \"jurisdiction\", \"justice\", \"justice\", \"justice\", \"justice\", \"justice\", \"last\", \"leader\", \"local\", \"local\", \"local\", \"location\", \"lodge\", \"maximum\", \"measure\", \"measure\", \"measure\", \"measure\", \"medium\", \"member\", \"member\", \"member\", \"member\", \"member\", \"military\", \"military\", \"military\", \"military\", \"military\", \"militia\", \"minister\", \"minister\", \"minister\", \"ministerial\", \"mission\", \"monitoring\", \"monitoring\", \"monitoring\", \"monitoring\", \"month\", \"month\", \"month\", \"multi\", \"municipal\", \"national\", \"national\", \"national\", \"national\", \"national\", \"nature\", \"necessary\", \"necessary\", \"necessary\", \"nepal\", \"nepal\", \"nepal\", \"number\", \"office\", \"office\", \"office\", \"office\", \"officer\", \"organisation\", \"organisation\", \"organisation\", \"outside\", \"panel\", \"pardon\", \"parliament\", \"parliament\", \"parliament\", \"parliament\", \"parliamentary\", \"particularly\", \"particularly\", \"particularly\", \"party\", \"party\", \"party\", \"party\", \"party\", \"peace\", \"peace\", \"peace\", \"penalty\", \"person\", \"person\", \"person\", \"person\", \"person\", \"personnel\", \"place\", \"place\", \"place\", \"planning\", \"point\", \"point\", \"political\", \"political\", \"political\", \"political\", \"portfolio\", \"power\", \"power\", \"power\", \"president\", \"president\", \"president\", \"president\", \"price\", \"principle\", \"principle\", \"principle\", \"principle\", \"principle\", \"priority\", \"priority\", \"prison\", \"procurement\", \"property\", \"property\", \"proposal\", \"prosecutor\", \"provide\", \"provide\", \"provide\", \"provide\", \"provide\", \"provision\", \"provision\", \"provisional\", \"provisions\", \"provisions\", \"provisions\", \"public\", \"public\", \"public\", \"public\", \"qualification\", \"reception\", \"reconciliation\", \"recovery\", \"refer\", \"refer\", \"reintegration\", \"relation\", \"relative\", \"relative\", \"remuneration\", \"republic\", \"republic\", \"republic\", \"republic\", \"request\", \"resource\", \"resource\", \"resource\", \"respect\", \"respect\", \"respect\", \"respect\", \"responsibility\", \"responsibility\", \"responsibility\", \"revenge\", \"right\", \"right\", \"right\", \"rule\", \"rule\", \"rural\", \"safeguard\", \"second\", \"second\", \"second\", \"secretary\", \"section--\", \"security\", \"security\", \"security\", \"security\", \"senate\", \"service\", \"service\", \"shall\", \"shall\", \"shall\", \"shall\", \"shall\", \"sitting\", \"sitting\", \"situation\", \"situation\", \"sixty\", \"size\", \"small\", \"social\", \"social\", \"social\", \"social\", \"social\", \"source\", \"southern\", \"southern\", \"speaker\", \"speaker\", \"specify\", \"specify\", \"spirit\", \"stable\", \"state\", \"state\", \"state\", \"state\", \"state\", \"statute\", \"stocks\", \"strengthen\", \"study\", \"subject\", \"subject\", \"subject\", \"subject\", \"submit\", \"submit\", \"sudan\", \"sudan\", \"sudan\", \"sudan\", \"supply\", \"supply\", \"supreme\", \"supreme\", \"syllabus\", \"system\", \"system\", \"take\", \"take\", \"tamil\", \"tender\", \"title\", \"together\", \"translation\", \"transparent\", \"triangle\", \"unofficial\", \"unscr\", \"vacate\", \"verification\", \"victim\", \"victim\", \"water\", \"within\", \"within\", \"within\", \"within\", \"within\", \"woman\", \"woman\", \"zimbabwe\", \"zimbabwe\", \"zone\"]}, \"R\": 30, \"lambda.step\": 0.01, \"plot.opts\": {\"xlab\": \"PC1\", \"ylab\": \"PC2\"}, \"topic.order\": [1, 2, 3, 4, 5]};\n",
              "\n",
              "function LDAvis_load_lib(url, callback){\n",
              "  var s = document.createElement('script');\n",
              "  s.src = url;\n",
              "  s.async = true;\n",
              "  s.onreadystatechange = s.onload = callback;\n",
              "  s.onerror = function(){console.warn(\"failed to load library \" + url);};\n",
              "  document.getElementsByTagName(\"head\")[0].appendChild(s);\n",
              "}\n",
              "\n",
              "if(typeof(LDAvis) !== \"undefined\"){\n",
              "   // already loaded: just create the visualization\n",
              "   !function(LDAvis){\n",
              "       new LDAvis(\"#\" + \"ldavis_el561400088410553521019242411\", ldavis_el561400088410553521019242411_data);\n",
              "   }(LDAvis);\n",
              "}else if(typeof define === \"function\" && define.amd){\n",
              "   // require.js is available: use it to load d3/LDAvis\n",
              "   require.config({paths: {d3: \"https://cdnjs.cloudflare.com/ajax/libs/d3/3.5.5/d3.min\"}});\n",
              "   require([\"d3\"], function(d3){\n",
              "      window.d3 = d3;\n",
              "      LDAvis_load_lib(\"https://cdn.rawgit.com/bmabey/pyLDAvis/files/ldavis.v1.0.0.js\", function(){\n",
              "        new LDAvis(\"#\" + \"ldavis_el561400088410553521019242411\", ldavis_el561400088410553521019242411_data);\n",
              "      });\n",
              "    });\n",
              "}else{\n",
              "    // require.js not available: dynamically load d3 & LDAvis\n",
              "    LDAvis_load_lib(\"https://cdnjs.cloudflare.com/ajax/libs/d3/3.5.5/d3.min.js\", function(){\n",
              "         LDAvis_load_lib(\"https://cdn.rawgit.com/bmabey/pyLDAvis/files/ldavis.v1.0.0.js\", function(){\n",
              "                 new LDAvis(\"#\" + \"ldavis_el561400088410553521019242411\", ldavis_el561400088410553521019242411_data);\n",
              "            })\n",
              "         });\n",
              "}\n",
              "</script>"
            ],
            "text/plain": [
              "<IPython.core.display.HTML object>"
            ]
          },
          "metadata": {
            "tags": []
          },
          "execution_count": 52
        }
      ]
    },
    {
      "cell_type": "markdown",
      "metadata": {
        "id": "20pIyT3woTLU"
      },
      "source": [
        "老人 3 主题"
      ]
    },
    {
      "cell_type": "code",
      "metadata": {
        "id": "RI9Bbl72KscQ",
        "colab": {
          "base_uri": "https://localhost:8080/",
          "height": 983
        },
        "outputId": "13d43c4d-c4ca-41c6-93e5-7feba438e684"
      },
      "source": [
        "lda3 = gensim.models.ldamodel.LdaModel.load('model3.gensim')\n",
        "lda_display3 = pyLDAvis.gensim.prepare(lda3, corpus, dictionary, sort_topics=False)\n",
        "pyLDAvis.display(lda_display3)"
      ],
      "execution_count": 53,
      "outputs": [
        {
          "output_type": "stream",
          "text": [
            "/usr/local/lib/python3.6/dist-packages/smart_open/smart_open_lib.py:418: DeprecationWarning: This function is deprecated.  See https://github.com/RaRe-Technologies/smart_open/blob/develop/MIGRATING_FROM_OLDER_VERSIONS.rst for more information\n",
            "  warnings.warn(message, category=DeprecationWarning)\n",
            "/usr/local/lib/python3.6/dist-packages/smart_open/smart_open_lib.py:418: DeprecationWarning: This function is deprecated.  See https://github.com/RaRe-Technologies/smart_open/blob/develop/MIGRATING_FROM_OLDER_VERSIONS.rst for more information\n",
            "  warnings.warn(message, category=DeprecationWarning)\n",
            "/usr/local/lib/python3.6/dist-packages/smart_open/smart_open_lib.py:418: DeprecationWarning: This function is deprecated.  See https://github.com/RaRe-Technologies/smart_open/blob/develop/MIGRATING_FROM_OLDER_VERSIONS.rst for more information\n",
            "  warnings.warn(message, category=DeprecationWarning)\n"
          ],
          "name": "stderr"
        },
        {
          "output_type": "execute_result",
          "data": {
            "text/html": [
              "\n",
              "<link rel=\"stylesheet\" type=\"text/css\" href=\"https://cdn.rawgit.com/bmabey/pyLDAvis/files/ldavis.v1.0.0.css\">\n",
              "\n",
              "\n",
              "<div id=\"ldavis_el56140008804424224389906255\"></div>\n",
              "<script type=\"text/javascript\">\n",
              "\n",
              "var ldavis_el56140008804424224389906255_data = {\"mdsDat\": {\"x\": [0.017669832360122508, -0.10122564588919973, 0.08355581352907726], \"y\": [-0.09747410356313649, 0.03475552672892417, 0.06271857683421227], \"topics\": [1, 2, 3], \"cluster\": [1, 1, 1], \"Freq\": [39.81816764073456, 26.83730975974542, 33.34452259952002]}, \"tinfo\": {\"Term\": [\"shall\", \"sudan\", \"commission\", \"service\", \"person\", \"speaker\", \"report\", \"organisation\", \"amnesty\", \"pardon\", \"international\", \"darfur\", \"investigation\", \"nepal\", \"subject\", \"minister\", \"assembly\", \"establish\", \"chamber\", \"military\", \"mandate\", \"second\", \"national\", \"policy\", \"federal\", \"monitoring\", \"necessary\", \"mission\", \"oversight\", \"people\", \"report\", \"sudan\", \"darfur\", \"local\", \"status\", \"internal\", \"assets\", \"redeployment\", \"together\", \"reach\", \"discrimination\", \"central\", \"effective\", \"base\", \"country\", \"chapter\", \"chairman\", \"secretary\", \"ministerial\", \"bench\", \"culture\", \"nomination\", \"opinion\", \"equality\", \"administration\", \"zone\", \"difference\", \"share\", \"borrowing\", \"judge\", \"southern\", \"chief\", \"regional\", \"military\", \"arm\", \"representative\", \"human\", \"establish\", \"chairperson\", \"shall\", \"agreement\", \"election\", \"office\", \"resource\", \"state\", \"minister\", \"force\", \"institution\", \"article\", \"party\", \"within\", \"social\", \"member\", \"provide\", \"committee\", \"right\", \"government\", \"international\", \"national\", \"commission\", \"parliament\", \"chamber\", \"organisation\", \"sitting\", \"pardon\", \"developing\", \"congolese\", \"phase\", \"composition\", \"assign\", \"coordination\", \"mission\", \"speaker\", \"policy\", \"water\", \"herder\", \"environmental\", \"leader\", \"triangle\", \"planning\", \"breach\", \"propose\", \"terrorism\", \"proposal\", \"comply\", \"transparent\", \"absence\", \"source\", \"contract\", \"importance\", \"discuss\", \"rule\", \"amnesty\", \"assembly\", \"mandate\", \"necessary\", \"verification\", \"measure\", \"system\", \"crime\", \"movement\", \"national\", \"political\", \"president\", \"provision\", \"special\", \"community\", \"family\", \"international\", \"member\", \"government\", \"general\", \"implementation\", \"appropriate\", \"minister\", \"accord\", \"court\", \"party\", \"function\", \"shall\", \"establish\", \"principle\", \"jurisdiction\", \"investigation\", \"nepal\", \"second\", \"oversight\", \"transitional\", \"title\", \"effect\", \"acquisition\", \"rural\", \"location\", \"multi\", \"centre\", \"submit\", \"and/or\", \"somalia\", \"take\", \"barrack\", \"commander\", \"province\", \"program\", \"reintegration\", \"contribute\", \"reconciliation\", \"small\", \"crossing\", \"inconsistent\", \"health\", \"qualification\", \"former\", \"insecurity\", \"employee\", \"service\", \"person\", \"federal\", \"month\", \"subject\", \"commission\", \"weapon\", \"ceasefire\", \"security\", \"shall\", \"property\", \"council\", \"constitution\", \"right\", \"public\", \"people\", \"republic\", \"monitoring\", \"state\", \"relate\", \"conflict\", \"include\", \"force\", \"party\", \"provide\", \"government\", \"committee\", \"national\", \"agreement\", \"accordance\"], \"Freq\": [105.0, 16.0, 26.0, 18.0, 25.0, 9.0, 9.0, 7.0, 9.0, 7.0, 15.0, 8.0, 6.0, 6.0, 11.0, 15.0, 10.0, 17.0, 4.0, 12.0, 9.0, 5.0, 31.0, 5.0, 8.0, 9.0, 6.0, 4.0, 5.0, 8.0, 9.415171910994195, 15.176097408164573, 7.903997776998471, 4.803823491598275, 4.096274547453591, 4.096205308648865, 4.096264942070277, 4.076449036292404, 3.3297041248598704, 3.327551918660959, 3.3275641255022546, 3.323129039868923, 3.3202960521275946, 3.9181659268953317, 5.81670675964798, 3.8600117345147367, 2.5608134018592343, 2.5606148906040676, 2.5606252964359917, 2.5605848737812096, 2.560336934824403, 2.5602889079078306, 2.5601842492521327, 2.560040968951024, 2.559986538445575, 2.5599489173609267, 2.5598326522003907, 2.5598172435646567, 2.55974120094675, 2.5596729627027863, 7.030549855161208, 5.060330050096804, 3.811160756098567, 10.237801751957333, 7.921250646328584, 7.16444729766852, 10.276012767231137, 12.616141887102616, 6.415648034879593, 59.45159150488868, 13.833194381315812, 6.779245011951802, 8.955533507730145, 7.096635692813775, 19.324435134304434, 10.138513305980878, 13.468596443257367, 6.419810767873527, 9.29337324922014, 15.232991694433744, 10.704215152252562, 8.655394095301064, 11.922794902412768, 8.533729908893415, 8.199776345402755, 12.499326017922975, 11.638738103446647, 8.283452841698663, 11.476960235420306, 9.562269551521497, 6.477167313214711, 4.409363502801465, 6.067611151167273, 3.027302446870567, 5.839554940504312, 2.328976265214489, 2.328549251245981, 2.327370714272885, 2.327104201448573, 2.3110764762642173, 2.2944507157240923, 3.9741928391705175, 7.247804927671193, 4.403034092973878, 1.6302616438144748, 1.6302612391897415, 1.6301076166660111, 1.6300867110547923, 1.6300533969517532, 1.6299734161294774, 1.629925805285863, 1.6299129921693096, 1.6298966723050679, 1.62974089178276, 1.6295701401453213, 1.6295358819179047, 1.6294614309669835, 1.6294037045050374, 1.6293721437758426, 1.6293036273210093, 1.6292627602229492, 3.7446527347357548, 6.537152258140865, 6.690100407315845, 6.179454822438755, 4.440528239257345, 3.0259704222486516, 4.617877957346556, 3.7445610197962145, 3.734983552359781, 3.6911688979928594, 13.419759086554464, 7.531233223832296, 7.147821616581237, 3.835304590227104, 4.47998022975018, 3.7406005529069954, 3.709259400067411, 6.816955116691894, 7.8728443986386365, 7.5444525836179555, 5.077278629004828, 4.394715278207728, 3.758543501828816, 5.143737971694135, 3.8697125287950307, 4.389824983681461, 5.523134622591895, 4.043611067659295, 5.934864026675566, 3.975114034813256, 3.8719792365507932, 3.785955478758554, 6.10843566223778, 6.1037428112377645, 5.381453317578255, 4.6591122099311715, 3.924328109409742, 3.922878225576999, 3.89516888767689, 3.1884195613018926, 3.186961298575063, 3.186896278356951, 3.1850257740410615, 3.18476535801285, 3.1676023665216477, 3.1642102550396336, 3.7780631178323976, 3.151963663442677, 2.4527858409200833, 2.4524453226644045, 2.452297016239072, 2.4522975189727174, 2.4522437264726813, 2.451969904213932, 2.451634748450468, 2.4515620196497965, 2.450870928465535, 2.4505545414248253, 2.449958634477387, 2.4496687247419913, 2.447456361547369, 2.441423892960789, 3.046771340366258, 14.783909754225773, 18.524576527126676, 6.864871495390479, 4.707087746536391, 8.310718041806918, 16.326437343105475, 3.944339254578858, 6.127062278948028, 9.229729221765913, 40.58096550221739, 4.678924942888316, 9.515691492579771, 7.594423144132716, 13.90175565357486, 7.342772109447671, 5.410838769451444, 5.903310280325212, 5.3733288067161356, 10.569200010105142, 4.865861086361957, 5.81625290045404, 5.9878640466433115, 7.854359229290579, 8.296080448993413, 6.299372560059885, 7.40132717288238, 5.8834395654209874, 6.519581962262892, 5.445202960190884, 4.865273893464369], \"Total\": [105.0, 16.0, 26.0, 18.0, 25.0, 9.0, 9.0, 7.0, 9.0, 7.0, 15.0, 8.0, 6.0, 6.0, 11.0, 15.0, 10.0, 17.0, 4.0, 12.0, 9.0, 5.0, 31.0, 5.0, 8.0, 9.0, 6.0, 4.0, 5.0, 8.0, 9.953477711111203, 16.082185107969348, 8.416190333933685, 5.3424263943324, 4.5766850404301485, 4.576609501775051, 4.576681678840967, 4.574883061586217, 3.8082953523739125, 3.8081650300421908, 3.80819299354135, 3.8080127682014697, 3.8078550343631012, 4.56055891307884, 6.851772086176906, 4.564825399285581, 3.0397825723611165, 3.0397537790360984, 3.039784685405391, 3.03974860916994, 3.039758211217946, 3.0397463214975264, 3.0397541496166975, 3.039742482605011, 3.039723645285701, 3.039734323135082, 3.0397435902232957, 3.039741008538252, 3.0397475746618206, 3.0397127749476645, 8.378519901146767, 6.062136173741499, 4.550761612453973, 12.820666901787416, 9.889869573906752, 9.113366747266154, 13.59582435009342, 17.24917535775011, 8.354421460017893, 105.96742103378165, 20.396448446850716, 9.09664219340481, 12.779609416083776, 9.81782390069324, 32.333403326338875, 15.610118366856005, 23.279953406974574, 8.9798872024873, 14.938737733712477, 29.052206766019054, 18.68064449411193, 14.20354839493128, 23.635472296401655, 15.067445047487846, 14.317391413062177, 29.785995234127412, 26.58451785994698, 15.442411561571442, 31.41630128423766, 26.148272278550007, 11.908388916804386, 4.928147809713038, 7.063542070653897, 3.529284194201731, 7.090897250795607, 2.8305303810594085, 2.8305634972846874, 2.830636356303493, 2.830677405318386, 2.831520958033401, 2.8333580491154895, 4.971636355151039, 9.255750030167189, 5.697288447658341, 2.1318124897298345, 2.1318125040498055, 2.1318239517621196, 2.13182810639681, 2.1318274577126592, 2.131833964025507, 2.1318447922470543, 2.131836374618035, 2.131839501310054, 2.1318515126453383, 2.1318601042058787, 2.131861982478444, 2.1318711104432166, 2.131876726837293, 2.131875232342222, 2.131865043850161, 2.131876380080806, 4.962941657690778, 9.326680964493123, 10.049888996795506, 9.284694408043572, 6.462097256483927, 4.297704656825594, 7.169610786597065, 5.748672528077497, 5.76406700234926, 5.73624291285097, 31.41630128423766, 15.293062061358475, 14.47531926928755, 6.462868899423788, 7.914814754982567, 6.43527956989033, 6.438061741341985, 15.442411561571442, 23.635472296401655, 26.58451785994698, 12.447121225270163, 9.539345394233095, 7.234632877477728, 15.610118366856005, 7.90058194673947, 11.78197543344921, 29.052206766019054, 10.17836603818104, 105.96742103378165, 17.24917535775011, 11.760085103548224, 8.032113537437256, 6.622378776703933, 6.622834492570662, 5.8853470209803485, 5.149814024415149, 4.413881400316583, 4.413809735270866, 4.415024079510102, 3.6779808239151923, 3.6778952969056777, 3.6779974937203033, 3.678144938209579, 3.6781198524383933, 3.6788368745499653, 3.676801885997464, 4.406582516310346, 3.6794835454938184, 2.942084326739698, 2.9420784248092566, 2.942073811104527, 2.942100447173402, 2.942070897502021, 2.9421013509404186, 2.9420229547749024, 2.942014636547926, 2.942065894357951, 2.9420780776620044, 2.942034845600879, 2.942008203930926, 2.9422843509435834, 2.9415168569290517, 3.683457477971693, 18.459974428157366, 25.077014448656964, 8.78961861674325, 5.916149790272199, 11.135235651627548, 26.148272278550007, 5.113690496495904, 8.856378452421655, 15.37251999222299, 105.96742103378165, 6.685796275276545, 17.72351980503921, 13.212890162549495, 29.785995234127412, 14.017516639891465, 8.681616907753359, 10.406493068660428, 9.37866405574424, 32.333403326338875, 8.002872073671952, 11.17582737148521, 12.630601582016315, 23.279953406974574, 29.052206766019054, 15.067445047487846, 26.58451785994698, 14.317391413062177, 31.41630128423766, 20.396448446850716, 10.960135398650475], \"Category\": [\"Default\", \"Default\", \"Default\", \"Default\", \"Default\", \"Default\", \"Default\", \"Default\", \"Default\", \"Default\", \"Default\", \"Default\", \"Default\", \"Default\", \"Default\", \"Default\", \"Default\", \"Default\", \"Default\", \"Default\", \"Default\", \"Default\", \"Default\", \"Default\", \"Default\", \"Default\", \"Default\", \"Default\", \"Default\", \"Default\", \"Topic1\", \"Topic1\", \"Topic1\", \"Topic1\", \"Topic1\", \"Topic1\", \"Topic1\", \"Topic1\", \"Topic1\", \"Topic1\", \"Topic1\", \"Topic1\", \"Topic1\", \"Topic1\", \"Topic1\", \"Topic1\", \"Topic1\", \"Topic1\", \"Topic1\", \"Topic1\", \"Topic1\", \"Topic1\", \"Topic1\", \"Topic1\", \"Topic1\", \"Topic1\", \"Topic1\", \"Topic1\", \"Topic1\", \"Topic1\", \"Topic1\", \"Topic1\", \"Topic1\", \"Topic1\", \"Topic1\", \"Topic1\", \"Topic1\", \"Topic1\", \"Topic1\", \"Topic1\", \"Topic1\", \"Topic1\", \"Topic1\", \"Topic1\", \"Topic1\", \"Topic1\", \"Topic1\", \"Topic1\", \"Topic1\", \"Topic1\", \"Topic1\", \"Topic1\", \"Topic1\", \"Topic1\", \"Topic1\", \"Topic1\", \"Topic1\", \"Topic1\", \"Topic1\", \"Topic1\", \"Topic1\", \"Topic2\", \"Topic2\", \"Topic2\", \"Topic2\", \"Topic2\", \"Topic2\", \"Topic2\", \"Topic2\", \"Topic2\", \"Topic2\", \"Topic2\", \"Topic2\", \"Topic2\", \"Topic2\", \"Topic2\", \"Topic2\", \"Topic2\", \"Topic2\", \"Topic2\", \"Topic2\", \"Topic2\", \"Topic2\", \"Topic2\", \"Topic2\", \"Topic2\", \"Topic2\", \"Topic2\", \"Topic2\", \"Topic2\", \"Topic2\", \"Topic2\", \"Topic2\", \"Topic2\", \"Topic2\", \"Topic2\", \"Topic2\", \"Topic2\", \"Topic2\", \"Topic2\", \"Topic2\", \"Topic2\", \"Topic2\", \"Topic2\", \"Topic2\", \"Topic2\", \"Topic2\", \"Topic2\", \"Topic2\", \"Topic2\", \"Topic2\", \"Topic2\", \"Topic2\", \"Topic2\", \"Topic2\", \"Topic2\", \"Topic2\", \"Topic2\", \"Topic2\", \"Topic2\", \"Topic2\", \"Topic2\", \"Topic2\", \"Topic3\", \"Topic3\", \"Topic3\", \"Topic3\", \"Topic3\", \"Topic3\", \"Topic3\", \"Topic3\", \"Topic3\", \"Topic3\", \"Topic3\", \"Topic3\", \"Topic3\", \"Topic3\", \"Topic3\", \"Topic3\", \"Topic3\", \"Topic3\", \"Topic3\", \"Topic3\", \"Topic3\", \"Topic3\", \"Topic3\", \"Topic3\", \"Topic3\", \"Topic3\", \"Topic3\", \"Topic3\", \"Topic3\", \"Topic3\", \"Topic3\", \"Topic3\", \"Topic3\", \"Topic3\", \"Topic3\", \"Topic3\", \"Topic3\", \"Topic3\", \"Topic3\", \"Topic3\", \"Topic3\", \"Topic3\", \"Topic3\", \"Topic3\", \"Topic3\", \"Topic3\", \"Topic3\", \"Topic3\", \"Topic3\", \"Topic3\", \"Topic3\", \"Topic3\", \"Topic3\", \"Topic3\", \"Topic3\", \"Topic3\", \"Topic3\", \"Topic3\", \"Topic3\", \"Topic3\", \"Topic3\"], \"logprob\": [30.0, 29.0, 28.0, 27.0, 26.0, 25.0, 24.0, 23.0, 22.0, 21.0, 20.0, 19.0, 18.0, 17.0, 16.0, 15.0, 14.0, 13.0, 12.0, 11.0, 10.0, 9.0, 8.0, 7.0, 6.0, 5.0, 4.0, 3.0, 2.0, 1.0, -5.207099914550781, -4.729700088500977, -5.3821001052856445, -5.880099773406982, -6.039400100708008, -6.039400100708008, -6.039400100708008, -6.0441999435424805, -6.246600151062012, -6.247200012207031, -6.247200012207031, -6.248600006103516, -6.2494001388549805, -6.083799839019775, -5.688700199127197, -6.098800182342529, -6.509099960327148, -6.509200096130371, -6.509200096130371, -6.509200096130371, -6.509300231933594, -6.509300231933594, -6.509399890899658, -6.509399890899658, -6.509500026702881, -6.509500026702881, -6.509500026702881, -6.509500026702881, -6.5096001625061035, -6.5096001625061035, -5.499199867248535, -5.828000068664551, -6.111499786376953, -5.1234002113342285, -5.379899978637695, -5.480299949645996, -5.119699954986572, -4.9145002365112305, -5.590700149536133, -3.364300012588501, -4.822400093078613, -5.535600185394287, -5.257199764251709, -5.489799976348877, -4.488100051879883, -5.1331000328063965, -4.849100112915039, -5.590099811553955, -5.220200061798096, -4.72599983215332, -5.078800201416016, -5.291299819946289, -4.9710001945495605, -5.3053998947143555, -5.345399856567383, -4.923799991607666, -4.995100021362305, -5.33519983291626, -5.009099960327148, -5.1915998458862305, -5.581200122833252, -5.571199893951416, -5.251999855041504, -5.947299957275391, -5.290299892425537, -6.209499835968018, -6.209700107574463, -6.21019983291626, -6.210299968719482, -6.217199802398682, -6.224400043487549, -5.675099849700928, -5.07420015335083, -5.5725998878479, -6.566199779510498, -6.566199779510498, -6.566299915313721, -6.566299915313721, -6.566299915313721, -6.566400051116943, -6.566400051116943, -6.566400051116943, -6.566400051116943, -6.566500186920166, -6.5665998458862305, -6.5665998458862305, -6.566699981689453, -6.566699981689453, -6.566699981689453, -6.566800117492676, -6.566800117492676, -5.734600067138672, -5.1774001121521, -5.154300212860107, -5.233699798583984, -5.564199924468994, -5.947700023651123, -5.525000095367432, -5.734600067138672, -5.737199783325195, -5.749000072479248, -4.458199977874756, -5.035900115966797, -5.088099956512451, -5.710700035095215, -5.555300235748291, -5.7357001304626465, -5.744100093841553, -5.135499954223633, -4.991499900817871, -5.03410005569458, -5.430200099945068, -5.57450008392334, -5.730899810791016, -5.417200088500977, -5.7017998695373535, -5.5756001472473145, -5.3460001945495605, -5.657800197601318, -5.274099826812744, -5.674900054931641, -5.701200008392334, -5.723599910736084, -5.462399959564209, -5.463099956512451, -5.589099884033203, -5.7332000732421875, -5.904799938201904, -5.905200004577637, -5.912300109863281, -6.112500190734863, -6.11299991607666, -6.11299991607666, -6.11359977722168, -6.113699913024902, -6.119100093841553, -6.120100021362305, -5.942800045013428, -6.124000072479248, -6.374800205230713, -6.375, -6.375, -6.375, -6.375, -6.375100135803223, -6.37529993057251, -6.37529993057251, -6.3755998611450195, -6.375699996948242, -6.375999927520752, -6.376100063323975, -6.376999855041504, -6.379499912261963, -6.1579999923706055, -4.578499794006348, -4.35290002822876, -5.345600128173828, -5.7230000495910645, -5.1545000076293945, -4.479300022125244, -5.899799823760986, -5.4593000411987305, -5.049600124359131, -3.568700075149536, -5.729000091552734, -5.019100189208984, -5.24459981918335, -4.639999866485596, -5.278299808502197, -5.583600044250488, -5.496500015258789, -5.59060001373291, -4.914100170135498, -5.689799785614014, -5.51140022277832, -5.4822998046875, -5.210999965667725, -5.156300067901611, -5.431600093841553, -5.270400047302246, -5.499899864196777, -5.397200107574463, -5.577300071716309, -5.689899921417236], \"loglift\": [30.0, 29.0, 28.0, 27.0, 26.0, 25.0, 24.0, 23.0, 22.0, 21.0, 20.0, 19.0, 18.0, 17.0, 16.0, 15.0, 14.0, 13.0, 12.0, 11.0, 10.0, 9.0, 8.0, 7.0, 6.0, 5.0, 4.0, 3.0, 2.0, 1.0, 0.8652, 0.8629, 0.8581, 0.8146, 0.8099, 0.8099, 0.8099, 0.8055, 0.7865, 0.7859, 0.7859, 0.7846, 0.7838, 0.769, 0.7571, 0.7531, 0.7494, 0.7493, 0.7493, 0.7493, 0.7492, 0.7492, 0.7491, 0.7491, 0.7491, 0.7491, 0.749, 0.749, 0.749, 0.749, 0.7454, 0.7402, 0.7435, 0.6959, 0.6989, 0.6802, 0.6409, 0.6081, 0.6568, 0.3429, 0.5326, 0.6268, 0.5653, 0.5963, 0.4061, 0.4893, 0.3736, 0.5852, 0.4462, 0.2752, 0.364, 0.4255, 0.2366, 0.3523, 0.3635, 0.0525, 0.0949, 0.298, -0.0861, -0.0851, 0.3119, 1.2041, 1.1634, 1.162, 1.1212, 1.1203, 1.1201, 1.1196, 1.1195, 1.1123, 1.1044, 1.0914, 1.0708, 1.0577, 1.0471, 1.0471, 1.047, 1.047, 1.047, 1.047, 1.0469, 1.0469, 1.0469, 1.0468, 1.0467, 1.0467, 1.0466, 1.0466, 1.0466, 1.0465, 1.0465, 1.0337, 0.96, 0.9084, 0.9082, 0.9402, 0.9645, 0.8755, 0.8867, 0.8815, 0.8745, 0.4648, 0.607, 0.6097, 0.7936, 0.7463, 0.7728, 0.764, 0.4977, 0.216, 0.0559, 0.4187, 0.5404, 0.6605, 0.2052, 0.6016, 0.3281, -0.3448, 0.3923, -1.5669, -0.1523, 0.2044, 0.5632, 1.0175, 1.0167, 1.0088, 0.9981, 0.9807, 0.9804, 0.973, 0.9554, 0.955, 0.955, 0.9543, 0.9543, 0.9487, 0.9481, 0.9444, 0.9435, 0.9164, 0.9162, 0.9162, 0.9162, 0.9162, 0.916, 0.9159, 0.9159, 0.9156, 0.9155, 0.9152, 0.9151, 0.9141, 0.9119, 0.9085, 0.8762, 0.7954, 0.8511, 0.8697, 0.8057, 0.6273, 0.8386, 0.7299, 0.5881, 0.1384, 0.7414, 0.4763, 0.5445, 0.3363, 0.4517, 0.6255, 0.5314, 0.5413, -0.0199, 0.6007, 0.4452, 0.3519, 0.0118, -0.155, 0.2262, -0.1804, 0.2089, -0.4742, -0.2223, 0.2861]}, \"token.table\": {\"Topic\": [2, 2, 3, 1, 2, 3, 3, 1, 1, 2, 3, 1, 2, 3, 1, 2, 3, 1, 3, 1, 2, 3, 1, 2, 3, 1, 2, 3, 1, 1, 1, 2, 1, 2, 3, 1, 3, 1, 1, 3, 2, 1, 1, 2, 3, 1, 3, 1, 3, 2, 3, 2, 2, 1, 2, 3, 2, 1, 2, 3, 2, 3, 2, 1, 2, 3, 1, 3, 1, 2, 3, 1, 2, 3, 1, 1, 2, 1, 1, 2, 3, 1, 1, 3, 3, 2, 1, 1, 2, 3, 2, 3, 1, 2, 3, 1, 2, 3, 3, 1, 2, 3, 1, 2, 3, 1, 2, 3, 3, 2, 1, 2, 3, 1, 2, 2, 1, 2, 3, 3, 3, 1, 2, 1, 1, 2, 3, 1, 1, 2, 3, 2, 1, 3, 1, 2, 3, 1, 2, 3, 1, 2, 3, 1, 2, 1, 2, 1, 1, 2, 2, 3, 1, 3, 1, 2, 3, 3, 1, 2, 3, 1, 2, 3, 1, 1, 2, 3, 1, 1, 2, 3, 1, 2, 1, 2, 3, 1, 2, 3, 2, 3, 1, 2, 3, 2, 2, 1, 2, 1, 2, 3, 1, 2, 3, 1, 2, 3, 3, 1, 3, 2, 2, 1, 3, 3, 1, 2, 3, 1, 2, 3, 3, 1, 3, 1, 1, 3, 1, 2, 3, 1, 1, 3, 1, 2, 3, 1, 2, 3, 1, 2, 3, 2, 3, 3, 3, 1, 1, 2, 3, 1, 2, 3, 1, 2, 3, 1, 2, 3, 1, 2, 3, 3, 2, 1, 3, 1, 2, 1, 2, 3, 1, 2, 3, 1, 1, 3, 3, 1, 3, 1, 2, 3, 3, 2, 3, 1, 3, 2, 2, 1, 2, 2, 2, 3, 1, 2, 3, 1], \"Freq\": [0.9381430191547553, 0.5062918183705163, 0.5062918183705163, 0.2737192462393659, 0.3649589949858212, 0.4561987437322765, 0.8156649378085976, 0.9869318234414802, 0.6863940080784824, 0.049028143434177315, 0.24514071717088656, 0.32165783427363553, 0.7505349466384829, 0.8159264744247003, 0.27644802906671845, 0.5528960581334369, 0.27644802906671845, 0.8089085442650378, 0.20222713606625944, 0.6024605398680749, 0.20082017995602494, 0.1338801199706833, 0.19900717317750646, 0.6965251061212726, 0.09950358658875323, 0.8739956764948069, 0.7063341679763078, 0.6797901684267226, 0.8770854792663108, 0.986923718280508, 0.986924054157279, 0.9381546007821309, 0.22582594124047708, 0.11291297062023854, 0.6774778237214313, 0.7878124845198207, 0.8156341066512999, 0.9869126914790436, 0.7181825849598866, 0.23939419498662887, 0.811663966757709, 0.8762657166747321, 0.8247917659220186, 0.16495835318440372, 0.6797915321137864, 0.38243444513170444, 0.611895112210727, 0.5587610039564446, 0.41907075296733337, 0.6215736172077708, 0.3107868086038854, 0.9381478625423234, 0.7065446582653052, 0.35791533521767527, 0.08947883380441882, 0.536873002826513, 0.7065730911596108, 0.22705100572947884, 0.22705100572947884, 0.6054693486119436, 0.9381412052912051, 0.6797862348830085, 0.7058761954297851, 0.28211100588374005, 0.16926660353024403, 0.5642220117674801, 0.8756858699524883, 0.1459476449920814, 0.50925246227945, 0.3395016415196333, 0.16975082075981665, 0.346977229651366, 0.693954459302732, 0.6797944273904379, 0.9869206007664616, 0.950548844854943, 0.7065813578200993, 0.9869253477987017, 0.7877752007547842, 0.9381407002239935, 0.9059973236757173, 0.787845118295523, 0.7695147122610908, 0.21986134636031165, 0.8144521873649968, 0.9381637720820443, 0.9869257074135594, 0.7536592173468198, 0.23189514379902149, 0.05797378594975537, 0.6213050077345511, 0.31065250386727555, 0.11377057908918947, 0.11377057908918947, 0.7963940536243262, 0.5584203616191626, 0.08591082486448656, 0.34364329945794625, 0.6797439545088853, 0.19649519308871477, 0.39299038617742954, 0.39299038617742954, 0.4016993093832004, 0.4016993093832004, 0.16067972375328018, 0.45139054479823965, 0.3009270298654931, 0.26331115113230646, 0.6798016015991549, 0.9381688099683245, 0.7355199466026705, 0.14710398932053412, 0.14710398932053412, 0.5241449799084426, 0.41931598392675407, 0.9381456888040098, 0.3958639632113084, 0.15834558528452336, 0.4750367558535701, 0.6797916123250373, 0.6799213117846971, 0.6681598403973367, 0.22271994679911222, 0.8740094601579157, 0.5180538006063807, 0.4532970755305831, 0.9060188494663997, 0.9869353528152514, 0.37350069642531303, 0.49800092856708406, 0.12450023214177101, 0.9381619437321218, 0.9359043309055847, 0.8156612409666144, 0.10770413715864185, 0.6462248229518511, 0.2154082743172837, 0.13947758529227403, 0.69738792646137, 0.13947758529227403, 0.5077114537637956, 0.338474302509197, 0.1692371512545985, 0.7799906258079159, 0.15599812516158318, 0.640610132799017, 0.3203050663995085, 0.9869120054468313, 0.2011410184825595, 0.804564073930238, 0.4264999765665006, 0.5331249707081258, 0.16902885076444127, 0.8451442538222064, 0.17433013475766318, 0.6973205390306527, 0.17433013475766318, 0.815628543844256, 0.35013669815800286, 0.4137979160049125, 0.22281426246418365, 0.30949704416677476, 0.6189940883335495, 0.9059565064974305, 0.9869244610260947, 0.704246875391438, 0.1564993056425418, 0.1564993056425418, 0.9869219194513772, 0.14157203142522326, 0.8494321885513395, 0.9709088476389858, 0.1410258765049513, 0.8461552590297078, 0.5038464935868167, 0.25192324679340833, 0.25192324679340833, 0.5163118974337181, 0.20652475897348724, 0.275366345297983, 0.3455577494234705, 0.5759295823724508, 0.1595086212591079, 0.07975431062955395, 0.7576659509807625, 0.7065549043578968, 0.9381593659496038, 0.1755220942711814, 0.7020883770847256, 0.39233477088675484, 0.5231130278490065, 0.13077825696225162, 0.20724931479508948, 0.4835817345218755, 0.27633241972678596, 0.42516699122282814, 0.3401335929782625, 0.2551001947336969, 0.6797864437026557, 0.2991416306530031, 0.7478540766325077, 0.9381516433657574, 0.9381583051177385, 0.5973142740282, 0.3982095160188, 0.6797925981500617, 0.15473004567509596, 0.6189201827003838, 0.3094600913501919, 0.2853572499865405, 0.21401793748990539, 0.4993751874764459, 0.6798077576152664, 0.7877809854177362, 0.6798043491652573, 0.8743392882731101, 0.8789737500319252, 0.6797932713647755, 0.12495513995404536, 0.24991027990809073, 0.6247756997702268, 0.904206575954169, 0.7681025239217849, 0.21945786397765282, 0.38437540616311566, 0.09609385154077892, 0.5765631092446735, 0.7129889546608926, 0.10185556495155608, 0.20371112990311216, 0.40287389780587074, 0.10071847445146768, 0.47001954744018254, 0.8059736091802401, 0.20149340229506002, 0.8156839055543503, 0.8495675755695928, 0.9869220397683972, 0.19515342972510102, 0.2602045729668014, 0.5854602891753031, 0.16251376791855357, 0.05417125597285119, 0.8125688395927679, 0.5567748976469968, 0.056621176031897986, 0.3869113695513029, 0.9869261860051154, 0.8500307243402804, 0.6798062712382498, 0.6336444774047988, 0.21121482580159961, 0.21121482580159961, 0.9077329166524313, 0.9381405476324438, 0.8354697586911396, 0.1193528226701628, 0.21608189433394556, 0.7562866301688095, 0.12634534489521387, 0.5053813795808555, 0.25269068979042775, 0.5876275939230483, 0.06185553620242614, 0.34020544911334377, 0.8739950345423054, 0.2694150437275671, 0.7184401166068456, 0.8154751358381424, 0.9327090752466788, 0.062180605016445255, 0.1739532031292145, 0.695812812516858, 0.1739532031292145, 0.8153318157038733, 0.9381569291548278, 0.9062465851293721, 0.7877540270425561, 0.9062318710496168, 0.9381470359891004, 0.9381622292011834, 0.23268234554270842, 0.6980470366281252, 0.9381688162702625, 0.19555348542999193, 0.7822139417199677, 0.5888447801395267, 0.16059403094714364, 0.2676567182452394, 0.9869283565893675], \"Term\": [\"absence\", \"accord\", \"accord\", \"accordance\", \"accordance\", \"accordance\", \"acquisition\", \"administration\", \"agreement\", \"agreement\", \"agreement\", \"amnesty\", \"amnesty\", \"and/or\", \"appropriate\", \"appropriate\", \"appropriate\", \"arm\", \"arm\", \"article\", \"article\", \"article\", \"assembly\", \"assembly\", \"assembly\", \"assets\", \"assign\", \"barrack\", \"base\", \"bench\", \"borrowing\", \"breach\", \"ceasefire\", \"ceasefire\", \"ceasefire\", \"central\", \"centre\", \"chairman\", \"chairperson\", \"chairperson\", \"chamber\", \"chapter\", \"chief\", \"chief\", \"commander\", \"commission\", \"commission\", \"committee\", \"committee\", \"community\", \"community\", \"comply\", \"composition\", \"conflict\", \"conflict\", \"conflict\", \"congolese\", \"constitution\", \"constitution\", \"constitution\", \"contract\", \"contribute\", \"coordination\", \"council\", \"council\", \"council\", \"country\", \"country\", \"court\", \"court\", \"court\", \"crime\", \"crime\", \"crossing\", \"culture\", \"darfur\", \"developing\", \"difference\", \"discrimination\", \"discuss\", \"effect\", \"effective\", \"election\", \"election\", \"employee\", \"environmental\", \"equality\", \"establish\", \"establish\", \"establish\", \"family\", \"family\", \"federal\", \"federal\", \"federal\", \"force\", \"force\", \"force\", \"former\", \"function\", \"function\", \"function\", \"general\", \"general\", \"general\", \"government\", \"government\", \"government\", \"health\", \"herder\", \"human\", \"human\", \"human\", \"implementation\", \"implementation\", \"importance\", \"include\", \"include\", \"include\", \"inconsistent\", \"insecurity\", \"institution\", \"institution\", \"internal\", \"international\", \"international\", \"investigation\", \"judge\", \"jurisdiction\", \"jurisdiction\", \"jurisdiction\", \"leader\", \"local\", \"location\", \"mandate\", \"mandate\", \"mandate\", \"measure\", \"measure\", \"measure\", \"member\", \"member\", \"member\", \"military\", \"military\", \"minister\", \"minister\", \"ministerial\", \"mission\", \"mission\", \"monitoring\", \"monitoring\", \"month\", \"month\", \"movement\", \"movement\", \"movement\", \"multi\", \"national\", \"national\", \"national\", \"necessary\", \"necessary\", \"nepal\", \"nomination\", \"office\", \"office\", \"office\", \"opinion\", \"organisation\", \"organisation\", \"oversight\", \"pardon\", \"pardon\", \"parliament\", \"parliament\", \"parliament\", \"party\", \"party\", \"party\", \"people\", \"people\", \"person\", \"person\", \"person\", \"phase\", \"planning\", \"policy\", \"policy\", \"political\", \"political\", \"political\", \"president\", \"president\", \"president\", \"principle\", \"principle\", \"principle\", \"program\", \"property\", \"property\", \"proposal\", \"propose\", \"provide\", \"provide\", \"province\", \"provision\", \"provision\", \"provision\", \"public\", \"public\", \"public\", \"qualification\", \"reach\", \"reconciliation\", \"redeployment\", \"regional\", \"reintegration\", \"relate\", \"relate\", \"relate\", \"report\", \"representative\", \"representative\", \"republic\", \"republic\", \"republic\", \"resource\", \"resource\", \"resource\", \"right\", \"right\", \"right\", \"rule\", \"rule\", \"rural\", \"second\", \"secretary\", \"security\", \"security\", \"security\", \"service\", \"service\", \"service\", \"shall\", \"shall\", \"shall\", \"share\", \"sitting\", \"small\", \"social\", \"social\", \"social\", \"somalia\", \"source\", \"southern\", \"southern\", \"speaker\", \"speaker\", \"special\", \"special\", \"special\", \"state\", \"state\", \"state\", \"status\", \"subject\", \"subject\", \"submit\", \"sudan\", \"sudan\", \"system\", \"system\", \"system\", \"take\", \"terrorism\", \"title\", \"together\", \"transitional\", \"transparent\", \"triangle\", \"verification\", \"verification\", \"water\", \"weapon\", \"weapon\", \"within\", \"within\", \"within\", \"zone\"]}, \"R\": 30, \"lambda.step\": 0.01, \"plot.opts\": {\"xlab\": \"PC1\", \"ylab\": \"PC2\"}, \"topic.order\": [1, 2, 3]};\n",
              "\n",
              "function LDAvis_load_lib(url, callback){\n",
              "  var s = document.createElement('script');\n",
              "  s.src = url;\n",
              "  s.async = true;\n",
              "  s.onreadystatechange = s.onload = callback;\n",
              "  s.onerror = function(){console.warn(\"failed to load library \" + url);};\n",
              "  document.getElementsByTagName(\"head\")[0].appendChild(s);\n",
              "}\n",
              "\n",
              "if(typeof(LDAvis) !== \"undefined\"){\n",
              "   // already loaded: just create the visualization\n",
              "   !function(LDAvis){\n",
              "       new LDAvis(\"#\" + \"ldavis_el56140008804424224389906255\", ldavis_el56140008804424224389906255_data);\n",
              "   }(LDAvis);\n",
              "}else if(typeof define === \"function\" && define.amd){\n",
              "   // require.js is available: use it to load d3/LDAvis\n",
              "   require.config({paths: {d3: \"https://cdnjs.cloudflare.com/ajax/libs/d3/3.5.5/d3.min\"}});\n",
              "   require([\"d3\"], function(d3){\n",
              "      window.d3 = d3;\n",
              "      LDAvis_load_lib(\"https://cdn.rawgit.com/bmabey/pyLDAvis/files/ldavis.v1.0.0.js\", function(){\n",
              "        new LDAvis(\"#\" + \"ldavis_el56140008804424224389906255\", ldavis_el56140008804424224389906255_data);\n",
              "      });\n",
              "    });\n",
              "}else{\n",
              "    // require.js not available: dynamically load d3 & LDAvis\n",
              "    LDAvis_load_lib(\"https://cdnjs.cloudflare.com/ajax/libs/d3/3.5.5/d3.min.js\", function(){\n",
              "         LDAvis_load_lib(\"https://cdn.rawgit.com/bmabey/pyLDAvis/files/ldavis.v1.0.0.js\", function(){\n",
              "                 new LDAvis(\"#\" + \"ldavis_el56140008804424224389906255\", ldavis_el56140008804424224389906255_data);\n",
              "            })\n",
              "         });\n",
              "}\n",
              "</script>"
            ],
            "text/plain": [
              "<IPython.core.display.HTML object>"
            ]
          },
          "metadata": {
            "tags": []
          },
          "execution_count": 53
        }
      ]
    },
    {
      "cell_type": "markdown",
      "metadata": {
        "id": "WI-gyQWZooW3"
      },
      "source": [
        "老人 10 主题"
      ]
    },
    {
      "cell_type": "code",
      "metadata": {
        "id": "uJOJA3GzK5e4",
        "colab": {
          "base_uri": "https://localhost:8080/",
          "height": 983
        },
        "outputId": "3c68affc-4095-498a-b633-ba8047c19d38"
      },
      "source": [
        "lda10 = gensim.models.ldamodel.LdaModel.load('model10.gensim')\n",
        "lda_display10 = pyLDAvis.gensim.prepare(lda10, corpus, dictionary, sort_topics=False)\n",
        "pyLDAvis.display(lda_display10)"
      ],
      "execution_count": 54,
      "outputs": [
        {
          "output_type": "stream",
          "text": [
            "/usr/local/lib/python3.6/dist-packages/smart_open/smart_open_lib.py:418: DeprecationWarning: This function is deprecated.  See https://github.com/RaRe-Technologies/smart_open/blob/develop/MIGRATING_FROM_OLDER_VERSIONS.rst for more information\n",
            "  warnings.warn(message, category=DeprecationWarning)\n",
            "/usr/local/lib/python3.6/dist-packages/smart_open/smart_open_lib.py:418: DeprecationWarning: This function is deprecated.  See https://github.com/RaRe-Technologies/smart_open/blob/develop/MIGRATING_FROM_OLDER_VERSIONS.rst for more information\n",
            "  warnings.warn(message, category=DeprecationWarning)\n",
            "/usr/local/lib/python3.6/dist-packages/smart_open/smart_open_lib.py:418: DeprecationWarning: This function is deprecated.  See https://github.com/RaRe-Technologies/smart_open/blob/develop/MIGRATING_FROM_OLDER_VERSIONS.rst for more information\n",
            "  warnings.warn(message, category=DeprecationWarning)\n"
          ],
          "name": "stderr"
        },
        {
          "output_type": "execute_result",
          "data": {
            "text/html": [
              "\n",
              "<link rel=\"stylesheet\" type=\"text/css\" href=\"https://cdn.rawgit.com/bmabey/pyLDAvis/files/ldavis.v1.0.0.css\">\n",
              "\n",
              "\n",
              "<div id=\"ldavis_el561400088044248243820116999\"></div>\n",
              "<script type=\"text/javascript\">\n",
              "\n",
              "var ldavis_el561400088044248243820116999_data = {\"mdsDat\": {\"x\": [-0.14898799143447294, 0.005931053959081267, -0.01632337220788115, -0.027654551925563473, 0.07400988878048166, 0.08418106174202275, 0.020260184266535263, -0.12192571897703333, 0.07716392691918345, 0.05334551887764658], \"y\": [-0.08958689630606426, -0.07974658843031615, 0.07668325019133841, -0.0034360738545499213, -0.04303176653869484, 0.02722647540096737, -0.008987995799622, 0.11087641120530367, 0.09833981907514092, -0.08833663494350331], \"topics\": [1, 2, 3, 4, 5, 6, 7, 8, 9, 10], \"cluster\": [1, 1, 1, 1, 1, 1, 1, 1, 1, 1], \"Freq\": [7.2359042664615885, 4.343220505147539, 10.84112554371866, 9.866472956996281, 7.3804831444806265, 10.333578395622, 11.401471181589606, 13.944134384429447, 19.020427166720786, 5.633182454833467]}, \"tinfo\": {\"Term\": [\"service\", \"shall\", \"right\", \"force\", \"office\", \"national\", \"person\", \"article\", \"amnesty\", \"minister\", \"council\", \"party\", \"human\", \"function\", \"southern\", \"pardon\", \"republic\", \"government\", \"sudan\", \"constitution\", \"assembly\", \"meeting\", \"political\", \"security\", \"public\", \"executive\", \"speaker\", \"joint\", \"commission\", \"federal\", \"illicit\", \"judge\", \"assign\", \"discharge\", \"proposal\", \"vest\", \"stocks\", \"inventory\", \"improvement\", \"years\", \"southern\", \"office\", \"executive\", \"journey\", \"entire\", \"schedule\", \"patient\", \"incapacity\", \"loyalty\", \"cease\", \"misbehavior\", \"unable\", \"referral\", \"waiting\", \"oath\", \"seguridad\", \"target\", \"confer\", \"selling\", \"crop\", \"drug\", \"mining\", \"composition\", \"supreme\", \"function\", \"attain\", \"power\", \"perform\", \"sudan\", \"speaker\", \"acquisition\", \"remove\", \"commence\", \"minister\", \"base\", \"effect\", \"status\", \"court\", \"president\", \"shall\", \"constitution\", \"party\", \"council\", \"establish\", \"state\", \"social\", \"duty\", \"deputy\", \"tamil\", \"statute\", \"panel\", \"exceed\", \"december\", \"subsequently\", \"vaddukoddai\", \"parameter\", \"supplement\", \"secular\", \"tribunal\", \"note\", \"confirm\", \"subsequent\", \"bracket\", \"adhere\", \"mines.\\u200e\", \"observe\", \"evasion\", \"unreasonably\", \"category\", \"factory\", \"workshop\", \"procedural\", \"technicality\", \"\\u200eclosure\", \"enable\", \"explosion\", \"allowance\", \"worker\", \"prisoner\", \"notwithstanding\", \"detainee\", \"meeting\", \"and/or\", \"jurisdiction\", \"mandate\", \"person\", \"system\", \"establish\", \"special\", \"people\", \"government\", \"state\", \"group\", \"peace\", \"produce\", \"financial\", \"issue\", \"representative\", \"external\", \"independent\", \"submit\", \"case\", \"weapon\", \"chamber\", \"prison\", \"pardon\", \"service\", \"barrack\", \"correctional\", \"inspection\", \"construe\", \"reference\", \"indigenous\", \"acknowledgment\", \"leader\", \"january\", \"amnesty\", \"african\", \"eligible\", \"thereafter\", \"whether\", \"disposition\", \"mental\", \"favour\", \"suffer\", \"notify\", \"disadvantage\", \"visiting\", \"bound\", \"letter\", \"instance\", \"minimise\", \"mediation\", \"mechanism\", \"drafting\", \"appointment\", \"subsection\", \"taking\", \"relate\", \"acting\", \"establishment\", \"minister\", \"union\", \"consultation\", \"monitoring\", \"party\", \"representative\", \"commission\", \"state\", \"authorities\", \"within\", \"house\", \"nepal\", \"general\", \"president\", \"appropriate\", \"jurisdiction\", \"person\", \"public\", \"special\", \"shall\", \"government\", \"national\", \"provide\", \"force\", \"social\", \"agreement\", \"rural\", \"small\", \"dissolution\", \"holding\", \"lodge\", \"climate\", \"price\", \"recovery\", \"abuse\", \"reception\", \"delegation\", \"size\", \"medium\", \"safeguard\", \"title\", \"property\", \"humanitarian\", \"supply\", \"centre\", \"select\", \"weight\", \"marketplace\", \"soundness\", \"regularise\", \"\\u200e\\u200ethe\", \"advertise\", \"strategic\", \"immediate\", \"universal\", \"vacate\", \"provision\", \"vacant\", \"range\", \"vet\", \"route\", \"earlier\", \"corrupt\", \"crossing\", \"large\", \"demilitarise\", \"services\", \"zone\", \"staff\", \"authority\", \"public\", \"charge\", \"office\", \"shall\", \"process\", \"commit\", \"party\", \"provide\", \"right\", \"principle\", \"within\", \"control\", \"person\", \"commission\", \"general\", \"government\", \"power\", \"state\", \"religion\", \"unscr\", \"personnel\", \"affirmation\", \"planning\", \"provisional\", \"section--\", \"language\", \"publication\", \"color\", \"conscience\", \"derogate\", \"discriminate\", \"generality\", \"unfairly\", \"announce\", \"belief\", \"colour\", \"retirement\", \"ground\", \"birth\", \"dismissal\", \"clerk\", \"ndfss\", \"resign\", \"notice\", \"organize\", \"communique\\u0301\", \"recruit\", \"provisionally\", \"reason\", \"citizen\", \"origin\", \"promotion\", \"nominate\", \"protection\", \"national\", \"crime\", \"political\", \"federal\", \"constitution\", \"discrimination\", \"organisation\", \"person\", \"social\", \"provisions\", \"specify\", \"particularly\", \"speaker\", \"force\", \"republic\", \"parliament\", \"within\", \"right\", \"shall\", \"government\", \"state\", \"appropriate\", \"guarantee\", \"assembly\", \"movement\", \"council\", \"police\", \"breach\", \"fifth\", \"accredit\", \"spending\", \"stop\", \"internal\", \"indirect\", \"parallel\", \"agenda\", \"incorporation\", \"hebron\", \"locating\", \"dignify\", \"remains\", \"summon\", \"politics\", \"consult\", \"search\", \"anywhere\", \"domestic\", \"probity\", \"moral\", \"concurrent\", \"plenary\", \"elucidate\", \"attend\", \"insert\", \"criminalization\", \"maintenance\", \"brigade\", \"family\", \"operate\", \"wealth\", \"expense\", \"sharing\", \"israeli\", \"reparation\", \"force\", \"necessary\", \"sector\", \"serious\", \"victim\", \"process\", \"member\", \"information\", \"agreement\", \"civilian\", \"report\", \"amendment\", \"arm\", \"national\", \"point\", \"society\", \"security\", \"military\", \"human\", \"federal\", \"shall\", \"establish\", \"implementation\", \"government\", \"amnesty\", \"right\", \"parliament\", \"subject\", \"public\", \"committee\", \"community\", \"person\", \"southern\", \"october\", \"maximum\", \"arrest\", \"congo\", \"contract\", \"procurement\", \"south\", \"democratic\", \"republic\", \"delegate\", \"rassemblement\", \"twenty\", \"willing\", \"finally\", \"clarification\", \"illegal\", \"direction\", \"civility\", \"opposition\", \"cabinet\", \"investiture\", \"conviviality\", \"petroleum\", \"satisfaction\", \"signatory\", \"permit\", \"enhancement\", \"tax\", \"vaccination\", \"waive\", \"roads\", \"itinerary\", \"2.9.1.2\", \"cultural\", \"monday\", \"human\", \"culture\", \"article\", \"right\", \"working\", \"economic\", \"commissioner\", \"reconciliation\", \"equality\", \"freedom\", \"contribute\", \"election\", \"principle\", \"ensure\", \"international\", \"accord\", \"government\", \"violation\", \"cooperation\", \"discrimination\", \"relevant\", \"promote\", \"committee\", \"sudan\", \"access\", \"charge\", \"conflict\", \"party\", \"minister\", \"commission\", \"shall\", \"agreement\", \"darfur\", \"social\", \"political\", \"national\", \"president\", \"military\", \"constitution\", \"implementation\", \"respective\", \"separate\", \"joint\", \"inconsistent\", \"bench\", \"electoral\", \"rule\", \"chairperson\", \"constitutional\", \"demobilize\", \"parliamentary\", \"designate\", \"elements\", \"syllabus\", \"number\", \"hearing\", \"unofficial\", \"english\", \"translation\", \"development\", \"formation\", \"sixty\", \"circumstances\", \"judicial\", \"assembly\", \"legislature\", \"official\", \"technical\", \"training\", \"determine\", \"council\", \"justice\", \"shall\", \"committee\", \"state\", \"appoint\", \"commission\", \"institution\", \"court\", \"member\", \"accordance\", \"investigation\", \"function\", \"zimbabwe\", \"organisation\", \"national\", \"president\", \"protect\", \"subject\", \"constitution\", \"party\", \"within\", \"regulate\", \"difference\", \"developing\", \"agricultural\", \"reintegration\", \"militia\", \"borrowing\", \"still\", \"consensus\", \"water\", \"settle\", \"herder\", \"punishment\", \"disciplinary\", \"maintain\", \"individual\", \"triangle\", \"constituency\", \"accountability\", \"funds\", \"ireland\", \"loan\", \"arrangement\", \"means\", \"ceasefire\", \"relation\", \"prescribe\", \"child\", \"location\", \"capacity\", \"shall\", \"resource\", \"area\", \"arm\", \"natural\", \"policy\", \"refer\", \"concern\", \"local\", \"military\", \"report\", \"activity\", \"equal\", \"force\", \"group\", \"article\", \"person\", \"security\", \"political\", \"state\", \"party\", \"right\", \"provide\", \"member\", \"include\", \"agree\", \"government\", \"agreement\", \"international\", \"federal\", \"responsibility\", \"conflict\", \"special\", \"darfur\", \"subject\", \"multi\", \"prosecutor\", \"remuneration\", \"verification\", \"endeavour\", \"marginalise\", \"multilingual\", \"racial\", \"religious\", \"miss\", \"decentralize\", \"affirmative\", \"suspm\", \"reduce\", \"delineate\", \"tenure\", \"attach\", \"passage\", \"since\", \"great\", \"2.3.a\", \"appointee\", \"eight\", \"governorates\", \"reinforce\", \"escort\", \"municipality\", \"convoy\", \"batch\", \"absolute\", \"resolution\", \"administration\", \"inauguration\", \"reincorporation\", \"mission\", \"conclusion\", \"grant\", \"consider\", \"cultural\", \"carry\", \"security\", \"government\", \"implementation\", \"council\", \"chapter\", \"general\", \"define\", \"person\", \"month\", \"second\", \"information\", \"level\", \"necessary\", \"sudan\", \"measure\", \"ensure\", \"national\", \"state\", \"include\", \"article\", \"provide\", \"mandate\"], \"Freq\": [18.0, 110.0, 30.0, 23.0, 11.0, 31.0, 24.0, 15.0, 9.0, 15.0, 17.0, 29.0, 13.0, 10.0, 7.0, 7.0, 10.0, 26.0, 15.0, 13.0, 10.0, 6.0, 15.0, 15.0, 14.0, 6.0, 9.0, 7.0, 26.0, 8.0, 2.095281749673295, 2.094138284893483, 2.0931255890790763, 1.4194603179746492, 1.4194603179746492, 1.4190013901817085, 1.4182932885981792, 1.4181020080759235, 1.4160988718995093, 2.7461389640407, 4.528591238146602, 6.816052601260519, 3.427625353868054, 0.7435268817116407, 0.7435268817116407, 0.7435268817116407, 0.7435268817116407, 0.7435268817116407, 0.7435268817116407, 0.7435268817116407, 0.7435268817116407, 0.7435268817116407, 0.7435268817116407, 0.7435268817116407, 0.7435268817116407, 0.7435268817116407, 0.7435268817116407, 0.7435268817116407, 0.7435268817116407, 0.7435268817116407, 1.4193829330029077, 1.4189551337512314, 1.4181910298855207, 1.990197030941583, 4.044444090204687, 1.3409798834094893, 3.25713026046947, 2.088588095078128, 4.066058352838171, 2.771337954575683, 1.418684140889663, 1.4194652636307379, 1.4013376885398177, 3.4454989549727704, 1.4188501112895824, 1.405780633233187, 1.4194152252279577, 2.5755542669906255, 2.301399967497673, 4.555068535320051, 2.0953921541724525, 2.6712451483631905, 2.083380028295736, 1.99037972929592, 2.0975567514741167, 1.740160077904911, 1.4194801005990043, 1.4194703547473, 1.206535088849204, 1.206535088849204, 1.206535088849204, 1.2061639339755328, 1.7810816982617745, 0.6319946347926892, 0.6319946347926892, 0.6319946347926892, 0.6319946347926892, 0.6319946347926892, 0.6319946347926892, 0.6319946347926892, 0.6319946347926892, 0.6319946347926892, 0.6319946347926892, 0.6319946347926892, 0.6319946347926892, 0.6319946347926892, 0.6319946347926892, 0.6319946347926892, 0.6319946347926892, 0.6319946347926892, 0.6319946347926892, 0.6319946347926892, 0.6319946347926892, 0.6319946347926892, 0.6319945474826744, 0.6319945474826744, 0.6319945474826744, 0.6319945474826744, 1.2015058573664472, 1.2065377081496533, 1.2014901415637511, 2.3542878370143896, 1.1841439116480326, 1.7811122567670168, 1.7800060388772467, 2.354577880884146, 1.2065528127822445, 1.7811407198318996, 1.2065398909000278, 1.2066265897449007, 1.206344840326567, 0.6330609520056143, 0.6320154582312615, 0.6320107434904527, 0.6320092155651906, 0.6320040206192994, 0.6320033221391796, 0.6320023180740073, 0.6320023617290148, 0.6320016632488951, 0.6320005718737078, 0.6320001789786404, 0.6319998297385805, 4.624815026483916, 3.8678194172452707, 6.135400360117469, 15.226890829812247, 2.351100091110321, 2.351099655240748, 2.3488937193315906, 1.592680495976553, 1.592680495976553, 1.5924287812981224, 1.5921581062932642, 1.5921383831950842, 1.591273944864352, 6.895362497670226, 1.5420765833835373, 2.8931283138820603, 0.8342612822286616, 0.8342612822286616, 0.8342612822286616, 0.8342612822286616, 0.8342612822286616, 0.8342612822286616, 0.8342612822286616, 0.8342612822286616, 0.8342612822286616, 0.8342612822286616, 0.8342612822286616, 0.8342612822286616, 0.8342612822286616, 0.8342612822286616, 1.5921435046625674, 1.5924660481466173, 2.3324154521880147, 1.5924898030383479, 1.5920733296613079, 3.866306949826821, 1.5926933541289578, 1.5891026605862515, 6.142295816762967, 1.5420754937096046, 2.3507428959952144, 3.868448812908741, 9.178532751691785, 3.2655531477402118, 6.050826843382162, 5.643674973031168, 2.351049748174635, 3.868079195510803, 2.333290896225466, 2.351135614480524, 2.949292287716172, 3.1089099047114055, 2.348300500842683, 2.350619109036471, 3.345181070365017, 2.7627636474118553, 2.3506838356680673, 4.722604980412952, 2.847457246214535, 2.565164573756674, 2.432837840403428, 2.3537987775718, 2.352279554174968, 2.3520136737354136, 3.037787970407197, 2.296821915472687, 1.5561862978729735, 1.5561862978729735, 1.5561862978729735, 1.5561862978729735, 1.5561862978729735, 1.5561862978729735, 1.5561862978729735, 1.5561862978729735, 1.5561862978729735, 1.5556421473159414, 1.5555751078086417, 1.5494420837702731, 3.0377645660821635, 4.51985475431603, 4.340850939472775, 2.2960979681305447, 2.2972453750824053, 3.037386130046874, 0.8151453193470949, 0.8151453193470949, 0.8151453193470949, 0.8151452697616605, 0.8151452697616605, 0.8151452697616605, 0.8151452697616605, 0.8151452697616605, 0.8151452697616605, 0.8151452697616605, 3.6521040988647897, 0.8151452697616605, 0.8151452697616605, 0.8151452697616605, 2.295982533239277, 0.8151452697616605, 0.8151452697616605, 1.554818929934144, 1.5559855760345493, 1.5551898289834059, 2.295849445933366, 1.5550871871342118, 1.5562035536041423, 2.482258151207177, 5.261465618239391, 2.2958516276924787, 3.0382798579163786, 7.250679729593334, 2.2971035607400405, 2.2972380364381153, 3.985246418278702, 3.037969651438814, 3.908109333119123, 2.771573690236498, 3.037905190374103, 2.2964303888827176, 3.037993254105585, 3.04008020586833, 2.2958238598492184, 2.2970553636978104, 1.6957238754321826, 1.7891370819187529, 1.4208271583186374, 1.4208271583186374, 1.4208271583186374, 1.4208271583186374, 1.4208271583186374, 1.420826861584869, 1.4195716777442517, 3.441877294545057, 0.7442427866168897, 0.7442427866168897, 0.7442427866168897, 0.7442427866168897, 0.7442427866168897, 0.7442427866168897, 0.7442427866168897, 0.7442427866168897, 0.7442427866168897, 0.7442427866168897, 0.7442427866168897, 0.7442427866168897, 0.7442427866168897, 0.7442427866168897, 0.7442427866168897, 0.7442427866168897, 0.7442427866168897, 0.7442427866168897, 0.7442427866168897, 0.7442427866168897, 0.7442427866168897, 0.7442427866168897, 1.4208333897277752, 2.0974108623694057, 1.4208284936205955, 1.420828196886827, 1.4208322027927012, 2.0976173890722594, 7.510571440795483, 2.0960780826483343, 4.127050402624768, 2.740464540784661, 3.450310171511133, 1.4208431819421345, 2.0974148682752802, 4.127534672134907, 2.774046198095888, 2.0974249572234083, 1.4195737548806309, 1.4203982296563176, 2.0974148682752802, 3.450587024117113, 2.0925408677613184, 2.0974409808469052, 2.0974461736878536, 2.097364720268409, 2.150021462784912, 1.7136094715582673, 1.661109997939052, 1.4211225567851467, 1.421084723229667, 1.4210095012193606, 1.4208462976467036, 1.4208379891011864, 1.4208322027927012, 1.5649831255620292, 1.5649831255620292, 1.5646013145681503, 1.5645368138534608, 1.5643836116728373, 3.0524347302130566, 0.8197530855545648, 0.8197530855545648, 0.8197530855545648, 0.8197530855545648, 0.8197530855545648, 0.8197530855545648, 0.8197530855545648, 0.8197530855545648, 0.8197530855545648, 0.8197530855545648, 0.8197530855545648, 0.8197530855545648, 0.8197530855545648, 0.8197530855545648, 0.8197530855545648, 0.8197530855545648, 0.8197530855545648, 0.8197530855545648, 0.8197530336216222, 0.8197530336216222, 0.8197530336216222, 0.8197530336216222, 0.8197530336216222, 0.8197530336216222, 3.799473075281302, 1.5647446494896826, 1.5649771013406895, 1.5643891165647514, 1.5649909155034167, 1.5648191213293483, 1.5649854106115029, 9.756331987488343, 3.0538678716966094, 1.5653282718984436, 1.5649871763315508, 2.3102346658077235, 3.054760910577287, 6.9533880990121695, 2.3102641637191113, 5.2678055671199635, 1.564987903392747, 3.055346298706096, 1.5649766858771488, 3.0550112273605428, 6.617570580939997, 1.564982398500833, 2.310228849318154, 3.7989608087356515, 3.054833824428675, 3.0552900033963346, 2.3114862497240023, 5.6132813661221705, 2.888313960009061, 2.3098640723294426, 3.1860419884040625, 2.310783493144953, 3.0554140192632255, 2.310244221469159, 2.3089533762482866, 2.310305294609638, 2.3092928099610166, 1.963474045805984, 2.309554551991641, 1.7661168155434248, 2.3397911568534058, 1.5845677944668701, 1.5845677944668701, 1.5821785075158432, 1.5814004908670583, 1.579594172054545, 3.8509144776339053, 2.338769845264958, 6.110909707460888, 0.8307455267257973, 0.8307455267257973, 0.8307455267257973, 0.8307455267257973, 0.8307455267257973, 0.8307455267257973, 0.8307455267257973, 0.8307455267257973, 0.8307455267257973, 0.8307455267257973, 0.8307455267257973, 0.8307455267257973, 0.8307455267257973, 0.8307455267257973, 0.8307455267257973, 0.8307455267257973, 0.8307455267257973, 0.8307455267257973, 0.8307455267257973, 0.8307455267257973, 0.8307455267257973, 0.8307455267257973, 0.8307455267257973, 0.8307455267257973, 2.3403435269001203, 0.8307455267257973, 6.750620230922794, 1.5858107416715723, 7.624377506750865, 14.148430213259521, 1.5859737022953126, 3.074160028785387, 1.5859700351082806, 1.5859700351082806, 1.5854970825807306, 1.5859690037119278, 1.5856276115191554, 3.851654791016016, 4.852609824248622, 3.0958777979872236, 5.108712414621148, 3.0592964613457885, 6.73408671818844, 2.340749438664739, 1.5855512881890492, 1.585484820424092, 2.288655671678208, 2.052106751760184, 3.849599791082887, 3.640307467980352, 2.3387295062076046, 2.1829091248181127, 2.8871518260819635, 4.124758002071114, 3.097393492227441, 3.8506027667361744, 5.690458921454843, 3.095990793187651, 2.3396515745469957, 2.6714311533112953, 2.747843641902201, 3.2531888909052764, 2.51827750449173, 2.341209670637271, 2.341131972112028, 2.340329316550371, 3.1999159231003613, 3.199833510982747, 6.325892479154341, 2.419705829351365, 2.419228455758516, 4.756661483218056, 3.9744625664266287, 6.211623312755364, 5.536930442765349, 1.6401428389136365, 1.6401428389136365, 1.6401428389136365, 1.6401428389136365, 1.6401428389136365, 1.6401428389136365, 1.6401428389136365, 1.6401428389136365, 1.6401428389136365, 1.6401428389136365, 1.6400636503992623, 1.6394459799871415, 1.6386369957305589, 1.6336837191172722, 5.534913868703722, 7.08485650473167, 3.9831831139741993, 2.420975929027933, 2.421165140522456, 2.421169064909009, 4.6328078436031825, 8.514758883621028, 5.126525385191798, 28.87149434779184, 6.279686751878501, 10.954103184223928, 2.9773151871572026, 8.477885347568387, 3.9832332900594136, 4.722569215978241, 7.194432665439826, 4.491344360271386, 3.2007392033365303, 3.9678743623440007, 2.4133413153022616, 3.202169081608474, 6.723185600627437, 4.342121804097521, 3.0020413452614676, 3.2034742204506945, 3.2021559068821883, 3.4819792444089543, 3.2034431056715955, 3.381084424793366, 2.5565952535806633, 2.556594871220666, 2.556411911961937, 2.555092387611103, 2.550426066203517, 2.5493068984912917, 1.7318867989094835, 1.7318867989094835, 1.7318867989094835, 1.7318867989094835, 1.7318867989094835, 1.7318867989094835, 1.7318867989094835, 1.7318867989094835, 1.7318867989094835, 1.7318867989094835, 1.7318864165494863, 1.731674397930959, 1.731294523273598, 1.730933575436105, 1.7305236855189525, 3.3812010445925558, 5.020574121524684, 6.64412514176672, 3.360351336297388, 3.2454276860557028, 2.556305424702676, 2.5431138136143114, 2.555673765987064, 50.99835972478093, 5.839854976033566, 3.3804680604776474, 4.935193134117782, 3.37516855091446, 3.3807471832757083, 3.374805691276981, 3.3802627331590736, 3.094427987704619, 5.02787910927394, 4.205744319744882, 2.555980418704934, 2.554813073633043, 6.598804011281542, 3.380787713435427, 5.031037402852001, 6.423055297382377, 5.031263759970429, 5.031017520132139, 6.284959101861659, 5.976688618843054, 5.979188488505689, 4.504655012388506, 5.25586087533027, 4.147270005351073, 3.3595770573027663, 4.673816810613427, 4.2064578034999265, 3.8500191374559205, 3.418480761973593, 3.3821577093059103, 3.381365841751411, 3.381340223631589, 3.381305811231828, 3.3811960739125904, 2.6031956642795007, 1.3333440958706122, 1.3333440958706122, 2.6006445574869557, 0.6984183682869687, 0.6984183682869687, 0.6984183682869687, 0.6984183682869687, 0.6984183682869687, 0.6984183682869687, 0.6984183682869687, 0.6984183682869687, 0.6984183682869687, 0.6984183682869687, 0.6984183682869687, 0.6984183682869687, 0.6984183682869687, 0.6984183682869687, 0.6984183682869687, 0.6984183682869687, 0.6984183682869687, 0.6984183682869687, 0.6984183116661681, 0.6984183116661681, 0.6984183116661681, 0.6984183116661681, 0.6984183116661681, 0.6984183116661681, 0.6984183116661681, 0.6984183116661681, 2.5999902475150396, 1.3321530207088585, 1.3333687825396807, 1.332585490383962, 1.967394579118337, 1.3319312936536472, 1.2980922118904243, 1.3329008682433918, 1.3323907148298437, 1.3333602894195884, 2.602351334900718, 3.32742032134633, 1.9382643096175258, 2.603202232292372, 1.240400825176592, 1.9679279470601378, 1.3307362550358504, 2.6031981555947277, 1.3333393397233606, 1.3321754425459025, 1.333375237310951, 1.1411344831946038, 1.3314797993895369, 1.7801525357635541, 1.332989423175555, 1.3323259406339392, 1.9676650000620781, 1.5514787877661735, 1.374063397599862, 1.3339298946737832, 1.3333580245875638, 1.3325861698335693], \"Total\": [18.0, 110.0, 30.0, 23.0, 11.0, 31.0, 24.0, 15.0, 9.0, 15.0, 17.0, 29.0, 13.0, 10.0, 7.0, 7.0, 10.0, 26.0, 15.0, 13.0, 10.0, 6.0, 15.0, 15.0, 14.0, 6.0, 9.0, 7.0, 26.0, 8.0, 2.744574726550556, 2.744839541751313, 2.744990353381146, 2.068629740029709, 2.0686297879826063, 2.0687010111465227, 2.068761049100456, 2.0687847091355627, 2.069152145515793, 4.058167814036226, 7.752177833066354, 11.835659721117876, 6.322225141900234, 1.3926962582075006, 1.3926962582075006, 1.3926962646991186, 1.3926962652851007, 1.3926962653699755, 1.392696268300842, 1.3926962688183409, 1.3926962706734936, 1.3926962708268515, 1.3926962764131836, 1.3926962770606333, 1.392696278766232, 1.3926962852578497, 1.3926962879293097, 1.3926962890325347, 1.3926962890325347, 1.39269629114735, 2.8238608748071834, 2.8497288842359714, 2.849772972459759, 4.3230858782032735, 10.199162896078722, 2.861932720085434, 8.662977384083451, 5.0887486615225175, 15.192755053314224, 9.275391649014418, 3.5508329617475147, 3.582270736053406, 3.574930457382683, 15.32145016669453, 4.125381772378261, 4.0780475800377864, 4.231563810596919, 11.83380254528458, 14.923573690578877, 110.54776702165394, 13.034107650784225, 29.68236612375327, 17.6450549010386, 16.67079854317995, 32.42089741593461, 13.948120494535425, 5.877095071027536, 6.525153367915347, 1.8658438083896, 1.8658438083896, 1.8658438145877794, 1.8660056573778514, 3.0753098383773487, 1.2913033096851214, 1.2913033096851214, 1.2913033096851214, 1.2913033096851214, 1.2913033096851214, 1.2913033143215864, 1.291303316176739, 1.2913033294821703, 1.2913033338651794, 1.2913033361333528, 1.2913033409368286, 1.2913033432958276, 1.2913033471706103, 1.2913033472554851, 1.2913033478414673, 1.2913033543330852, 1.2913033543330852, 1.2913033543330852, 1.2913033543330852, 1.2913033543330852, 1.2913033543330852, 1.2913032670230702, 1.2913032670230702, 1.291303280996007, 1.2913032942717864, 2.502229750714267, 2.6068843505135333, 2.6225395776960805, 6.078715770181799, 3.4595790694115407, 7.823038463261852, 8.930940967776015, 24.425005087469664, 5.484862675876593, 16.67079854317995, 8.185173332362057, 8.856260837251174, 26.275968229283816, 32.42089741593461, 7.402050015571226, 5.809251973724827, 2.8570471328658504, 4.428686246523051, 3.6022808650565024, 9.006680728531524, 2.116008090476189, 2.681449051851491, 3.5736127898676706, 4.330866608558307, 4.860067037919653, 5.2673231088569725, 4.508846911613004, 7.52868894776201, 18.828626195077568, 2.992020923822444, 2.9920205105015807, 2.992213558625249, 2.233601350006351, 2.233601386090817, 2.2336236277140182, 2.233616500958349, 2.233599094513219, 2.2335692489080956, 9.777990645396793, 2.2324419549306804, 4.593920393981481, 1.475182071913545, 1.475182071913545, 1.475182071913545, 1.475182071913545, 1.475182071913545, 1.475182071913545, 1.475182071913545, 1.475182071913545, 1.475182071913545, 1.475182071913545, 1.475182071913545, 1.475182071913545, 1.4751820764591848, 1.4751820921045873, 2.868564896703596, 2.909583545633887, 4.447603260277581, 3.0146210640664743, 3.0146095654414715, 8.232047316361518, 3.058308282656801, 3.0582407432059533, 15.32145016669453, 3.0571500531039515, 5.295841882083389, 9.800269892588249, 29.68236612375327, 9.006680728531524, 26.774429962627163, 32.42089741593461, 6.44471738749146, 18.75587927400887, 6.658418562849092, 6.809925072073702, 12.424800318959006, 14.923573690578877, 7.225896142656848, 7.823038463261852, 24.425005087469664, 14.182492984070384, 8.185173332362057, 110.54776702165394, 26.275968229283816, 31.492325410389306, 15.241451730870992, 23.437121842012502, 13.948120494535425, 20.427540995358086, 3.680953443242068, 2.9399080200517163, 2.1988449354961013, 2.1988449525926086, 2.1988449531785905, 2.1988449596702084, 2.1988449596702084, 2.198844966832683, 2.198844966832683, 2.1988450059705666, 2.1988450201872336, 2.1988743829210584, 2.1988780184191756, 2.199208798180527, 4.4361789155879565, 6.620641879621409, 6.667025378032573, 3.5749437337999352, 3.6983053264828825, 5.286756396430475, 1.457803938201965, 1.4578039410420058, 1.4578039411328312, 1.4578038814540557, 1.4578038814540557, 1.4578038814540557, 1.4578038814540557, 1.4578038814540557, 1.4578038814540557, 1.4578038814540557, 6.562306918215153, 1.4578038814540557, 1.4578038814540557, 1.4578038814540557, 4.149501218871686, 1.4578038814540557, 1.4578038814540557, 2.9442302412346613, 2.9540938129193366, 2.954181192751881, 4.588993728265134, 2.9799897047581223, 3.0235455832869187, 5.187690409865483, 14.182492984070384, 5.948384199317173, 11.835659721117876, 110.54776702165394, 7.377765617355741, 7.471225481630179, 29.68236612375327, 15.241451730870992, 30.344888533475785, 12.208226132134595, 18.75587927400887, 8.343697642670518, 24.425005087469664, 26.774429962627163, 12.424800318959006, 26.275968229283816, 8.662977384083451, 32.42089741593461, 2.0699314807081493, 2.0699314966304154, 2.0699314966304154, 2.0699315082536556, 2.069931535310382, 2.069931379312758, 2.0700772623284025, 5.684124715136086, 1.393347079460293, 1.393347079460293, 1.393347079460293, 1.393347079460293, 1.393347079460293, 1.393347079460293, 1.393347079460293, 1.393347079460293, 1.393347079460293, 1.393347079460293, 1.393347079460293, 1.393347079460293, 1.393347079460293, 1.393347079460293, 1.3933470840059328, 1.393347085434668, 1.3933470859519108, 1.3933470894628086, 1.3933470910835328, 1.3933470990038859, 1.3933471067289351, 1.393347111791818, 2.7458648585818892, 4.256972810476968, 2.8151656162748644, 2.828331088685033, 2.8946384239632046, 4.961420647478723, 31.492325410389306, 5.833247001614699, 15.699217942580168, 8.964650727646054, 13.034107650784225, 3.5803861915660598, 7.371064274314029, 24.425005087469664, 13.948120494535425, 8.642337983208023, 4.431002537350167, 4.474504190058851, 9.275391649014418, 23.437121842012502, 10.169717309973477, 11.591569573505, 18.75587927400887, 30.344888533475785, 110.54776702165394, 26.275968229283816, 32.42089741593461, 7.225896142656848, 9.011974460665279, 10.557897140591662, 5.927144079938016, 17.6450549010386, 5.223005048274116, 2.2072228415587363, 2.2072229615867665, 2.207239243691258, 2.2071813902009634, 2.207167144876271, 4.332930857546596, 1.4619928015512718, 1.4619928015512718, 1.4619928015512718, 1.4619928015512718, 1.4619928380868938, 1.461992845164494, 1.461992845164494, 1.461992845164494, 1.461992845164494, 1.461992845164494, 1.461992845164494, 1.461992845164494, 1.461992845164494, 1.461992845164494, 1.461992845164494, 1.461992845164494, 1.461992845164494, 1.461992880850053, 1.461992793231551, 1.461992793231551, 1.4619928060163883, 1.4619928177245027, 1.4619928457300881, 1.4619928479949105, 6.785995709707175, 2.8421924293144167, 2.843242855799862, 2.8837520865534754, 2.948264010721625, 2.9482503655898262, 2.9624724347087255, 23.437121842012502, 6.425024766527374, 3.031894167159824, 3.031930443830194, 5.203970043861591, 7.377765617355741, 24.520542193291615, 5.758560535545341, 20.427540995358086, 3.639021801543549, 9.785886161192204, 3.7240192758950905, 10.097730987611358, 31.492325410389306, 3.812951725992846, 6.922159152967673, 15.541230819549018, 12.96397732444055, 13.244964263967567, 8.964650727646054, 110.54776702165394, 16.67079854317995, 9.455830213501288, 26.275968229283816, 9.777990645396793, 30.344888533475785, 11.591569573505, 11.63009746683466, 14.182492984070384, 14.544987391232153, 6.555976609807034, 24.425005087469664, 7.752177833066354, 2.9825610878091555, 2.2272150300646376, 2.2272150857997737, 2.2275577823612416, 2.2272160029921424, 2.227227251361709, 5.908771864477345, 3.6175805040006717, 10.169717309973477, 1.4719859332269545, 1.4719859332269545, 1.4719859332269545, 1.4719859332269545, 1.4719859332269545, 1.4719859332269545, 1.4719859377725941, 1.4719859392013295, 1.4719859424090596, 1.4719859465323855, 1.4719859479611208, 1.471985952597586, 1.4719859539352396, 1.4719859590668616, 1.471985959157687, 1.4719859701949447, 1.4719859715328545, 1.4719859761693197, 1.4719859761693197, 1.4719859761693197, 1.4719859761693197, 1.4719859761693197, 1.4719859761693197, 1.4719859761693197, 4.25259003815492, 1.4719859761693197, 13.244964263967567, 2.903798873017754, 15.245219899238858, 30.344888533475785, 2.9724393839091348, 6.12869329739037, 2.985628295344506, 2.985628366908319, 3.008238120540915, 3.051917123511263, 3.0518766021155845, 8.811570205492654, 12.208226132134595, 7.9080446815713685, 15.77166103326771, 8.474047734181205, 26.275968229283816, 6.122286032938449, 3.5796957059527696, 3.5803861915660598, 5.989875842621454, 5.263426687660155, 14.544987391232153, 15.192755053314224, 6.876527757615964, 5.948384199317173, 11.315538853636731, 29.68236612375327, 15.32145016669453, 26.774429962627163, 110.54776702165394, 20.427540995358086, 8.443456041259887, 13.948120494535425, 15.699217942580168, 31.492325410389306, 14.923573690578877, 12.96397732444055, 13.034107650784225, 9.455830213501288, 3.8407287363366835, 3.8407249419253, 7.710084721276257, 3.059788521905354, 3.0599324031910036, 6.158052127676742, 5.195959422788368, 8.4633699684838, 7.618621856377456, 2.278803519525919, 2.278803545197244, 2.278803560870967, 2.278803560870967, 2.278803560870967, 2.278803560870967, 2.278803560870967, 2.2788036188263807, 2.2788036648392214, 2.278803688139859, 2.278795699482036, 2.2788426194774853, 2.278877045325657, 2.2784731349664984, 7.753421195377926, 10.557897140591662, 5.954899500826856, 3.6947033442608452, 3.80083032470458, 3.8844117579390045, 7.817924282090159, 17.6450549010386, 10.448252425411527, 110.54776702165394, 14.544987391232153, 32.42089741593461, 5.351115844999013, 26.774429962627163, 8.921411804995705, 11.83380254528458, 24.520542193291615, 11.634380636653738, 6.9026625439800355, 10.199162896078722, 4.435986350002815, 7.371064274314029, 31.492325410389306, 14.923573690578877, 7.643994101060799, 11.63009746683466, 13.034107650784225, 29.68236612375327, 18.75587927400887, 4.015572996569327, 3.1908872131475814, 3.190886835333224, 3.1908692585118708, 3.1907662118607605, 3.1905602281421483, 3.1894262819610386, 2.3661787188915766, 2.3661787188915766, 2.3661787188915766, 2.3661787188915766, 2.3661787188915766, 2.3661787518939583, 2.366178763022041, 2.366178763022041, 2.366178763022041, 2.3661787746770964, 2.3661787382500936, 2.3661574907529253, 2.3661188671509277, 2.3660834923308895, 2.36605861042986, 4.69161219066204, 7.09560153798011, 9.442439775103372, 4.795159595931572, 4.760988472044486, 3.8674445008798255, 3.86510976440742, 3.9492122289607337, 110.54776702165394, 10.293047644141971, 5.4976050212424035, 10.097730987611358, 6.045975173864407, 6.231565462271697, 6.227796727903852, 6.277531224044704, 5.539515323144237, 12.96397732444055, 9.785886161192204, 4.501692985470983, 4.543347156869259, 23.437121842012502, 7.402050015571226, 15.245219899238858, 24.425005087469664, 15.541230819549018, 15.699217942580168, 32.42089741593461, 29.68236612375327, 30.344888533475785, 15.241451730870992, 24.520542193291615, 12.665385050328531, 7.686671632479092, 26.275968229283816, 20.427540995358086, 15.77166103326771, 8.964650727646054, 8.334437677209383, 11.315538853636731, 8.185173332362057, 8.443456041259887, 11.63009746683466, 3.2564658649997313, 1.9866142903926636, 1.9866142903926636, 4.0021441386289975, 1.3516885197817803, 1.3516885197817803, 1.3516885197817803, 1.3516885197817803, 1.3516885197817803, 1.3516885252386563, 1.3516885269442551, 1.3516885303017951, 1.351688545706562, 1.3516885536269152, 1.35168856280902, 1.35168856280902, 1.35168856280902, 1.35168856280902, 1.35168856280902, 1.35168856280902, 1.3516885873019715, 1.351688587600925, 1.3516885061882196, 1.3516885107338594, 1.3516885361380468, 1.3516885408653372, 1.3516885423362262, 1.3516885447986944, 1.3516885516091564, 1.351688570979788, 5.39320040799232, 2.767988449490984, 2.8113149755147475, 2.81131568297194, 4.942078032465476, 3.483092129359868, 3.4972347501591794, 4.242546513012535, 4.25259003815492, 4.310778517209717, 15.541230819549018, 26.275968229283816, 9.455830213501288, 17.6450549010386, 4.403335632537395, 12.424800318959006, 5.479176358458513, 24.425005087469664, 5.633718614408604, 5.745190498298699, 5.758560535545341, 4.327388483617073, 6.425024766527374, 15.192755053314224, 7.29869015162387, 7.9080446815713685, 31.492325410389306, 32.42089741593461, 12.665385050328531, 15.245219899238858, 15.241451730870992, 8.930940967776015], \"Category\": [\"Default\", \"Default\", \"Default\", \"Default\", \"Default\", \"Default\", \"Default\", \"Default\", \"Default\", \"Default\", \"Default\", \"Default\", \"Default\", \"Default\", \"Default\", \"Default\", \"Default\", \"Default\", \"Default\", \"Default\", \"Default\", \"Default\", \"Default\", \"Default\", \"Default\", \"Default\", \"Default\", \"Default\", \"Default\", \"Default\", \"Topic1\", \"Topic1\", \"Topic1\", \"Topic1\", \"Topic1\", \"Topic1\", \"Topic1\", \"Topic1\", \"Topic1\", \"Topic1\", \"Topic1\", \"Topic1\", \"Topic1\", \"Topic1\", \"Topic1\", \"Topic1\", \"Topic1\", \"Topic1\", \"Topic1\", \"Topic1\", \"Topic1\", \"Topic1\", \"Topic1\", \"Topic1\", \"Topic1\", \"Topic1\", \"Topic1\", \"Topic1\", \"Topic1\", \"Topic1\", \"Topic1\", \"Topic1\", \"Topic1\", \"Topic1\", \"Topic1\", \"Topic1\", \"Topic1\", \"Topic1\", \"Topic1\", \"Topic1\", \"Topic1\", \"Topic1\", \"Topic1\", \"Topic1\", \"Topic1\", \"Topic1\", \"Topic1\", \"Topic1\", \"Topic1\", \"Topic1\", \"Topic1\", \"Topic1\", \"Topic1\", \"Topic1\", \"Topic1\", \"Topic1\", \"Topic1\", \"Topic1\", \"Topic2\", \"Topic2\", \"Topic2\", \"Topic2\", \"Topic2\", \"Topic2\", \"Topic2\", \"Topic2\", \"Topic2\", \"Topic2\", \"Topic2\", \"Topic2\", \"Topic2\", \"Topic2\", \"Topic2\", \"Topic2\", \"Topic2\", \"Topic2\", \"Topic2\", \"Topic2\", \"Topic2\", \"Topic2\", \"Topic2\", \"Topic2\", \"Topic2\", \"Topic2\", \"Topic2\", \"Topic2\", \"Topic2\", \"Topic2\", \"Topic2\", \"Topic2\", \"Topic2\", \"Topic2\", \"Topic2\", \"Topic2\", \"Topic2\", \"Topic2\", \"Topic2\", \"Topic2\", \"Topic2\", \"Topic2\", \"Topic2\", \"Topic2\", \"Topic2\", \"Topic2\", \"Topic2\", \"Topic2\", \"Topic2\", \"Topic2\", \"Topic2\", \"Topic2\", \"Topic2\", \"Topic2\", \"Topic2\", \"Topic3\", \"Topic3\", \"Topic3\", \"Topic3\", \"Topic3\", \"Topic3\", \"Topic3\", \"Topic3\", \"Topic3\", \"Topic3\", \"Topic3\", \"Topic3\", \"Topic3\", \"Topic3\", \"Topic3\", \"Topic3\", \"Topic3\", \"Topic3\", \"Topic3\", \"Topic3\", \"Topic3\", \"Topic3\", \"Topic3\", \"Topic3\", \"Topic3\", \"Topic3\", \"Topic3\", \"Topic3\", \"Topic3\", \"Topic3\", \"Topic3\", \"Topic3\", \"Topic3\", \"Topic3\", \"Topic3\", \"Topic3\", \"Topic3\", \"Topic3\", \"Topic3\", \"Topic3\", \"Topic3\", \"Topic3\", \"Topic3\", \"Topic3\", \"Topic3\", \"Topic3\", \"Topic3\", \"Topic3\", \"Topic3\", \"Topic3\", \"Topic3\", \"Topic3\", \"Topic3\", \"Topic3\", \"Topic3\", \"Topic3\", \"Topic3\", \"Topic3\", \"Topic3\", \"Topic3\", \"Topic3\", \"Topic3\", \"Topic3\", \"Topic3\", \"Topic4\", \"Topic4\", \"Topic4\", \"Topic4\", \"Topic4\", \"Topic4\", \"Topic4\", \"Topic4\", \"Topic4\", \"Topic4\", \"Topic4\", \"Topic4\", \"Topic4\", \"Topic4\", \"Topic4\", \"Topic4\", \"Topic4\", \"Topic4\", \"Topic4\", \"Topic4\", \"Topic4\", \"Topic4\", \"Topic4\", \"Topic4\", \"Topic4\", \"Topic4\", \"Topic4\", \"Topic4\", \"Topic4\", \"Topic4\", \"Topic4\", \"Topic4\", \"Topic4\", \"Topic4\", \"Topic4\", \"Topic4\", \"Topic4\", \"Topic4\", \"Topic4\", \"Topic4\", \"Topic4\", \"Topic4\", \"Topic4\", \"Topic4\", \"Topic4\", \"Topic4\", \"Topic4\", \"Topic4\", \"Topic4\", \"Topic4\", \"Topic4\", \"Topic4\", \"Topic4\", \"Topic4\", \"Topic4\", \"Topic4\", \"Topic4\", \"Topic4\", \"Topic4\", \"Topic4\", \"Topic4\", \"Topic4\", \"Topic5\", \"Topic5\", \"Topic5\", \"Topic5\", \"Topic5\", \"Topic5\", \"Topic5\", \"Topic5\", \"Topic5\", \"Topic5\", \"Topic5\", \"Topic5\", \"Topic5\", \"Topic5\", \"Topic5\", \"Topic5\", \"Topic5\", \"Topic5\", \"Topic5\", \"Topic5\", \"Topic5\", \"Topic5\", \"Topic5\", \"Topic5\", \"Topic5\", \"Topic5\", \"Topic5\", \"Topic5\", \"Topic5\", \"Topic5\", \"Topic5\", \"Topic5\", \"Topic5\", \"Topic5\", \"Topic5\", \"Topic5\", \"Topic5\", \"Topic5\", \"Topic5\", \"Topic5\", \"Topic5\", \"Topic5\", \"Topic5\", \"Topic5\", \"Topic5\", \"Topic5\", \"Topic5\", \"Topic5\", \"Topic5\", \"Topic5\", \"Topic5\", \"Topic5\", \"Topic5\", \"Topic5\", \"Topic5\", \"Topic5\", \"Topic5\", \"Topic5\", \"Topic5\", \"Topic5\", \"Topic5\", \"Topic5\", \"Topic5\", \"Topic6\", \"Topic6\", \"Topic6\", \"Topic6\", \"Topic6\", \"Topic6\", \"Topic6\", \"Topic6\", \"Topic6\", \"Topic6\", \"Topic6\", \"Topic6\", \"Topic6\", \"Topic6\", \"Topic6\", \"Topic6\", \"Topic6\", \"Topic6\", \"Topic6\", \"Topic6\", \"Topic6\", \"Topic6\", \"Topic6\", \"Topic6\", \"Topic6\", \"Topic6\", \"Topic6\", \"Topic6\", \"Topic6\", \"Topic6\", \"Topic6\", \"Topic6\", \"Topic6\", \"Topic6\", \"Topic6\", \"Topic6\", \"Topic6\", \"Topic6\", \"Topic6\", \"Topic6\", \"Topic6\", \"Topic6\", \"Topic6\", \"Topic6\", \"Topic6\", \"Topic6\", \"Topic6\", \"Topic6\", \"Topic6\", \"Topic6\", \"Topic6\", \"Topic6\", \"Topic6\", \"Topic6\", \"Topic6\", \"Topic6\", \"Topic6\", \"Topic6\", \"Topic6\", \"Topic6\", \"Topic6\", \"Topic6\", \"Topic6\", \"Topic6\", \"Topic6\", \"Topic6\", \"Topic6\", \"Topic6\", \"Topic6\", \"Topic6\", \"Topic7\", \"Topic7\", \"Topic7\", \"Topic7\", \"Topic7\", \"Topic7\", \"Topic7\", \"Topic7\", \"Topic7\", \"Topic7\", \"Topic7\", \"Topic7\", \"Topic7\", \"Topic7\", \"Topic7\", \"Topic7\", \"Topic7\", \"Topic7\", \"Topic7\", \"Topic7\", \"Topic7\", \"Topic7\", \"Topic7\", \"Topic7\", \"Topic7\", \"Topic7\", \"Topic7\", \"Topic7\", \"Topic7\", \"Topic7\", \"Topic7\", \"Topic7\", \"Topic7\", \"Topic7\", \"Topic7\", \"Topic7\", \"Topic7\", \"Topic7\", \"Topic7\", \"Topic7\", \"Topic7\", \"Topic7\", \"Topic7\", \"Topic7\", \"Topic7\", \"Topic7\", \"Topic7\", \"Topic7\", \"Topic7\", \"Topic7\", \"Topic7\", \"Topic7\", \"Topic7\", \"Topic7\", \"Topic7\", \"Topic7\", \"Topic7\", \"Topic7\", \"Topic7\", \"Topic7\", \"Topic7\", \"Topic7\", \"Topic7\", \"Topic7\", \"Topic7\", \"Topic7\", \"Topic7\", \"Topic7\", \"Topic7\", \"Topic7\", \"Topic7\", \"Topic7\", \"Topic7\", \"Topic7\", \"Topic7\", \"Topic8\", \"Topic8\", \"Topic8\", \"Topic8\", \"Topic8\", \"Topic8\", \"Topic8\", \"Topic8\", \"Topic8\", \"Topic8\", \"Topic8\", \"Topic8\", \"Topic8\", \"Topic8\", \"Topic8\", \"Topic8\", \"Topic8\", \"Topic8\", \"Topic8\", \"Topic8\", \"Topic8\", \"Topic8\", \"Topic8\", \"Topic8\", \"Topic8\", \"Topic8\", \"Topic8\", \"Topic8\", \"Topic8\", \"Topic8\", \"Topic8\", \"Topic8\", \"Topic8\", \"Topic8\", \"Topic8\", \"Topic8\", \"Topic8\", \"Topic8\", \"Topic8\", \"Topic8\", \"Topic8\", \"Topic8\", \"Topic8\", \"Topic8\", \"Topic8\", \"Topic8\", \"Topic8\", \"Topic8\", \"Topic8\", \"Topic8\", \"Topic8\", \"Topic8\", \"Topic9\", \"Topic9\", \"Topic9\", \"Topic9\", \"Topic9\", \"Topic9\", \"Topic9\", \"Topic9\", \"Topic9\", \"Topic9\", \"Topic9\", \"Topic9\", \"Topic9\", \"Topic9\", \"Topic9\", \"Topic9\", \"Topic9\", \"Topic9\", \"Topic9\", \"Topic9\", \"Topic9\", \"Topic9\", \"Topic9\", \"Topic9\", \"Topic9\", \"Topic9\", \"Topic9\", \"Topic9\", \"Topic9\", \"Topic9\", \"Topic9\", \"Topic9\", \"Topic9\", \"Topic9\", \"Topic9\", \"Topic9\", \"Topic9\", \"Topic9\", \"Topic9\", \"Topic9\", \"Topic9\", \"Topic9\", \"Topic9\", \"Topic9\", \"Topic9\", \"Topic9\", \"Topic9\", \"Topic9\", \"Topic9\", \"Topic9\", \"Topic9\", \"Topic9\", \"Topic9\", \"Topic9\", \"Topic9\", \"Topic9\", \"Topic9\", \"Topic9\", \"Topic9\", \"Topic9\", \"Topic9\", \"Topic9\", \"Topic9\", \"Topic9\", \"Topic9\", \"Topic10\", \"Topic10\", \"Topic10\", \"Topic10\", \"Topic10\", \"Topic10\", \"Topic10\", \"Topic10\", \"Topic10\", \"Topic10\", \"Topic10\", \"Topic10\", \"Topic10\", \"Topic10\", \"Topic10\", \"Topic10\", \"Topic10\", \"Topic10\", \"Topic10\", \"Topic10\", \"Topic10\", \"Topic10\", \"Topic10\", \"Topic10\", \"Topic10\", \"Topic10\", \"Topic10\", \"Topic10\", \"Topic10\", \"Topic10\", \"Topic10\", \"Topic10\", \"Topic10\", \"Topic10\", \"Topic10\", \"Topic10\", \"Topic10\", \"Topic10\", \"Topic10\", \"Topic10\", \"Topic10\", \"Topic10\", \"Topic10\", \"Topic10\", \"Topic10\", \"Topic10\", \"Topic10\", \"Topic10\", \"Topic10\", \"Topic10\", \"Topic10\", \"Topic10\", \"Topic10\", \"Topic10\", \"Topic10\", \"Topic10\", \"Topic10\", \"Topic10\", \"Topic10\", \"Topic10\", \"Topic10\", \"Topic10\"], \"logprob\": [30.0, 29.0, 28.0, 27.0, 26.0, 25.0, 24.0, 23.0, 22.0, 21.0, 20.0, 19.0, 18.0, 17.0, 16.0, 15.0, 14.0, 13.0, 12.0, 11.0, 10.0, 9.0, 8.0, 7.0, 6.0, 5.0, 4.0, 3.0, 2.0, 1.0, -5.004499912261963, -5.005099773406982, -5.005499839782715, -5.393899917602539, -5.393899917602539, -5.394199848175049, -5.394700050354004, -5.394899845123291, -5.396299839019775, -4.734000205993652, -4.233799934387207, -3.824899911880493, -4.51230001449585, -6.040599822998047, -6.040599822998047, -6.040599822998047, -6.040599822998047, -6.040599822998047, -6.040599822998047, -6.040599822998047, -6.040599822998047, -6.040599822998047, -6.040599822998047, -6.040599822998047, -6.040599822998047, -6.040599822998047, -6.040599822998047, -6.040599822998047, -6.040599822998047, -6.040599822998047, -5.394000053405762, -5.3942999839782715, -5.394800186157227, -5.056000232696533, -4.34689998626709, -5.450799942016602, -4.563399791717529, -5.007699966430664, -4.3414998054504395, -4.724899768829346, -5.394499778747559, -5.393899917602539, -5.406799793243408, -4.5071001052856445, -5.394400119781494, -5.403600215911865, -5.394000053405762, -4.798099994659424, -4.910699844360352, -4.228000164031982, -5.004499912261963, -4.76170015335083, -5.010200023651123, -5.0559000968933105, -5.003399848937988, -5.190199851989746, -5.393899917602539, -5.393899917602539, -5.046000003814697, -5.046000003814697, -5.046000003814697, -5.046299934387207, -4.656499862670898, -5.692599773406982, -5.692599773406982, -5.692599773406982, -5.692599773406982, -5.692599773406982, -5.692599773406982, -5.692599773406982, -5.692599773406982, -5.692599773406982, -5.692599773406982, -5.692599773406982, -5.692599773406982, -5.692599773406982, -5.692599773406982, -5.692599773406982, -5.692599773406982, -5.692599773406982, -5.692599773406982, -5.692599773406982, -5.692599773406982, -5.692599773406982, -5.692599773406982, -5.692599773406982, -5.692599773406982, -5.692599773406982, -5.05019998550415, -5.046000003814697, -5.05019998550415, -4.377500057220459, -5.064700126647949, -4.656499862670898, -4.657100200653076, -4.377399921417236, -5.046000003814697, -4.656499862670898, -5.046000003814697, -5.045899868011475, -5.046199798583984, -5.690999984741211, -5.692599773406982, -5.692599773406982, -5.692599773406982, -5.692599773406982, -5.692599773406982, -5.692599773406982, -5.692599773406982, -5.692599773406982, -5.692599773406982, -5.692599773406982, -5.692599773406982, -4.617099761962891, -4.79580020904541, -4.334400177001953, -3.4254000186920166, -5.293600082397461, -5.293600082397461, -5.29449987411499, -5.68310022354126, -5.68310022354126, -5.683199882507324, -5.6834001541137695, -5.6834001541137695, -5.684000015258789, -4.217599868774414, -5.715400218963623, -5.08620023727417, -6.329699993133545, -6.329699993133545, -6.329699993133545, -6.329699993133545, -6.329699993133545, -6.329699993133545, -6.329699993133545, -6.329699993133545, -6.329699993133545, -6.329699993133545, -6.329699993133545, -6.329699993133545, -6.329699993133545, -6.329699993133545, -5.6834001541137695, -5.683199882507324, -5.301599979400635, -5.683199882507324, -5.683499813079834, -4.796199798583984, -5.68310022354126, -5.685299873352051, -4.3333001136779785, -5.715400218963623, -5.293799877166748, -4.795599937438965, -3.9316000938415527, -4.965099811553955, -4.348299980163574, -4.418000221252441, -5.293600082397461, -4.7957000732421875, -5.301199913024902, -5.293600082397461, -5.06689977645874, -5.014200210571289, -5.2947998046875, -5.293799877166748, -4.940999984741211, -5.132299900054932, -5.293799877166748, -4.596099853515625, -5.102099895477295, -5.206500053405762, -5.259399890899658, -5.292500019073486, -5.293099880218506, -5.2932000160217285, -4.94320011138916, -5.222799777984619, -5.611999988555908, -5.611999988555908, -5.611999988555908, -5.611999988555908, -5.611999988555908, -5.611999988555908, -5.611999988555908, -5.611999988555908, -5.611999988555908, -5.612400054931641, -5.612400054931641, -5.616399765014648, -4.94320011138916, -4.54580020904541, -4.58620023727417, -5.223100185394287, -5.222599983215332, -4.943299770355225, -6.258699893951416, -6.258699893951416, -6.258699893951416, -6.258699893951416, -6.258699893951416, -6.258699893951416, -6.258699893951416, -6.258699893951416, -6.258699893951416, -6.258699893951416, -4.758999824523926, -6.258699893951416, -6.258699893951416, -6.258699893951416, -5.223100185394287, -6.258699893951416, -6.258699893951416, -5.6128997802734375, -5.612199783325195, -5.61269998550415, -5.223199844360352, -5.612800121307373, -5.611999988555908, -5.145100116729736, -4.393899917602539, -5.223199844360352, -4.942999839782715, -4.073200225830078, -5.222599983215332, -5.222599983215332, -4.6717000007629395, -4.9430999755859375, -4.691199779510498, -5.034900188446045, -4.9430999755859375, -5.222899913787842, -4.9430999755859375, -4.942399978637695, -5.223199844360352, -5.222700119018555, -5.526199817657471, -5.472599983215332, -5.412700176239014, -5.412700176239014, -5.412700176239014, -5.412700176239014, -5.412700176239014, -5.412700176239014, -5.413599967956543, -4.5279998779296875, -6.0594000816345215, -6.0594000816345215, -6.0594000816345215, -6.0594000816345215, -6.0594000816345215, -6.0594000816345215, -6.0594000816345215, -6.0594000816345215, -6.0594000816345215, -6.0594000816345215, -6.0594000816345215, -6.0594000816345215, -6.0594000816345215, -6.0594000816345215, -6.0594000816345215, -6.0594000816345215, -6.0594000816345215, -6.0594000816345215, -6.0594000816345215, -6.0594000816345215, -6.0594000816345215, -6.0594000816345215, -5.412700176239014, -5.0233001708984375, -5.412700176239014, -5.412700176239014, -5.412700176239014, -5.023200035095215, -3.7476999759674072, -5.023900032043457, -4.346399784088135, -4.755899906158447, -4.5254998207092285, -5.412700176239014, -5.0233001708984375, -4.34630012512207, -4.74370002746582, -5.0233001708984375, -5.413599967956543, -5.413000106811523, -5.0233001708984375, -4.525400161743164, -5.025599956512451, -5.0233001708984375, -5.0233001708984375, -5.0233001708984375, -4.998499870300293, -5.225399971008301, -5.256499767303467, -5.412499904632568, -5.412600040435791, -5.412600040435791, -5.412700176239014, -5.412700176239014, -5.412700176239014, -5.652699947357178, -5.652699947357178, -5.652900218963623, -5.6529998779296875, -5.65310001373291, -4.984600067138672, -6.299300193786621, -6.299300193786621, -6.299300193786621, -6.299300193786621, -6.299300193786621, -6.299300193786621, -6.299300193786621, -6.299300193786621, -6.299300193786621, -6.299300193786621, -6.299300193786621, -6.299300193786621, -6.299300193786621, -6.299300193786621, -6.299300193786621, -6.299300193786621, -6.299300193786621, -6.299300193786621, -6.299300193786621, -6.299300193786621, -6.299300193786621, -6.299300193786621, -6.299300193786621, -6.299300193786621, -4.765699863433838, -5.6528000831604, -5.652699947357178, -5.6529998779296875, -5.652699947357178, -5.6528000831604, -5.652699947357178, -3.8225998878479004, -4.984099864959717, -5.652400016784668, -5.652699947357178, -5.263199806213379, -4.983799934387207, -4.161300182342529, -5.263199806213379, -4.438899993896484, -5.652699947357178, -4.983699798583984, -5.652699947357178, -4.983799934387207, -4.2108001708984375, -5.652699947357178, -5.263199806213379, -4.7657999992370605, -4.983799934387207, -4.983699798583984, -5.262700080871582, -4.375400066375732, -5.039899826049805, -5.263400077819824, -4.941800117492676, -5.263000011444092, -4.98360013961792, -5.263199806213379, -5.263800144195557, -5.263199806213379, -5.263599872589111, -5.42579984664917, -5.263500213623047, -5.531799793243408, -5.348800182342529, -5.73859977722168, -5.73859977722168, -5.740099906921387, -5.740600109100342, -5.741700172424316, -4.850599765777588, -5.349299907684326, -4.388800144195557, -6.384300231933594, -6.384300231933594, -6.384300231933594, -6.384300231933594, -6.384300231933594, -6.384300231933594, -6.384300231933594, -6.384300231933594, -6.384300231933594, -6.384300231933594, -6.384300231933594, -6.384300231933594, -6.384300231933594, -6.384300231933594, -6.384300231933594, -6.384300231933594, -6.384300231933594, -6.384300231933594, -6.384300231933594, -6.384300231933594, -6.384300231933594, -6.384300231933594, -6.384300231933594, -6.384300231933594, -5.348599910736084, -6.384300231933594, -4.289299964904785, -5.737800121307373, -4.167500019073486, -3.549299955368042, -5.73769998550415, -5.075900077819824, -5.73769998550415, -5.73769998550415, -5.73799991607666, -5.73769998550415, -5.7378997802734375, -4.850399971008301, -4.6194000244140625, -5.06879997253418, -4.56790018081665, -5.080699920654297, -4.2916998863220215, -5.348400115966797, -5.73799991607666, -5.73799991607666, -5.3709001541137695, -5.480000019073486, -4.850900173187256, -4.906799793243408, -5.349299907684326, -5.4182000160217285, -5.138599872589111, -4.781899929046631, -5.068299770355225, -4.8506999015808105, -4.460100173950195, -5.06879997253418, -5.348899841308594, -5.216300010681152, -5.1880998611450195, -5.0192999839782715, -5.275300025939941, -5.348199844360352, -5.348299980163574, -5.348599910736084, -5.237100124359131, -5.237100124359131, -4.555600166320801, -5.516600131988525, -5.5167999267578125, -4.840700149536133, -5.020299911499023, -4.573800086975098, -4.688799858093262, -5.905399799346924, -5.905399799346924, -5.905399799346924, -5.905399799346924, -5.905399799346924, -5.905399799346924, -5.905399799346924, -5.905399799346924, -5.905399799346924, -5.905399799346924, -5.9054999351501465, -5.905799865722656, -5.906300067901611, -5.90939998626709, -4.6890997886657715, -4.442200183868408, -5.018099784851074, -5.515999794006348, -5.515999794006348, -5.515999794006348, -4.867000102996826, -4.258399963378906, -4.7657999992370605, -3.037400007247925, -4.562900066375732, -4.006499767303467, -5.309199810028076, -4.262700080871582, -5.018099784851074, -4.847899913787842, -4.4268999099731445, -4.898099899291992, -5.236800193786621, -5.021999835968018, -5.519199848175049, -5.236400127410889, -4.49459981918335, -4.93179988861084, -5.300899982452393, -5.236000061035156, -5.236400127410889, -5.152599811553955, -5.236000061035156, -5.492499828338623, -5.771999835968018, -5.771999835968018, -5.77209997177124, -5.772600173950195, -5.774400234222412, -5.774799823760986, -6.161399841308594, -6.161399841308594, -6.161399841308594, -6.161399841308594, -6.161399841308594, -6.161399841308594, -6.161399841308594, -6.161399841308594, -6.161399841308594, -6.161399841308594, -6.161399841308594, -6.161600112915039, -6.161799907684326, -6.1620001792907715, -6.162199974060059, -5.492400169372559, -5.097099781036377, -4.81689977645874, -5.498600006103516, -5.533400058746338, -5.77209997177124, -5.777299880981445, -5.772299766540527, -2.778899908065796, -4.946000099182129, -5.492599964141846, -5.114299774169922, -5.494200229644775, -5.492599964141846, -5.49429988861084, -5.492700099945068, -5.581099987030029, -5.095699787139893, -5.274199962615967, -5.772200107574463, -5.77269983291626, -4.823800086975098, -5.492599964141846, -5.09499979019165, -4.850800037384033, -5.09499979019165, -5.09499979019165, -4.872499942779541, -4.922800064086914, -4.922399997711182, -5.20550012588501, -5.051300048828125, -5.2881999015808105, -5.498799800872803, -5.168700218200684, -5.27400016784668, -5.362599849700928, -5.481500148773193, -5.492099761962891, -5.492400169372559, -5.492400169372559, -5.492400169372559, -5.492400169372559, -4.537099838256836, -5.206099987030029, -5.206099987030029, -4.538099765777588, -5.852799892425537, -5.852799892425537, -5.852799892425537, -5.852799892425537, -5.852799892425537, -5.852799892425537, -5.852799892425537, -5.852799892425537, -5.852799892425537, -5.852799892425537, -5.852799892425537, -5.852799892425537, -5.852799892425537, -5.852799892425537, -5.852799892425537, -5.852799892425537, -5.852799892425537, -5.852799892425537, -5.852799892425537, -5.852799892425537, -5.852799892425537, -5.852799892425537, -5.852799892425537, -5.852799892425537, -5.852799892425537, -5.852799892425537, -4.538300037384033, -5.206999778747559, -5.206099987030029, -5.206699848175049, -4.8171000480651855, -5.207200050354004, -5.232900142669678, -5.206500053405762, -5.2067999839782715, -5.206099987030029, -4.537399768829346, -4.291600227355957, -4.831999778747559, -4.537099838256836, -5.27839994430542, -4.816800117492676, -5.208099842071533, -4.537099838256836, -5.206099987030029, -5.206999778747559, -5.206099987030029, -5.361800193786621, -5.207499980926514, -4.917099952697754, -5.206399917602539, -5.206900119781494, -4.816999912261963, -5.054599761962891, -5.176000118255615, -5.205699920654297, -5.206099987030029, -5.206699848175049], \"loglift\": [30.0, 29.0, 28.0, 27.0, 26.0, 25.0, 24.0, 23.0, 22.0, 21.0, 20.0, 19.0, 18.0, 17.0, 16.0, 15.0, 14.0, 13.0, 12.0, 11.0, 10.0, 9.0, 8.0, 7.0, 6.0, 5.0, 4.0, 3.0, 2.0, 1.0, 2.3562, 2.3555, 2.355, 2.2495, 2.2495, 2.2491, 2.2486, 2.2485, 2.2469, 2.2356, 2.0886, 2.0743, 2.0139, 1.9985, 1.9985, 1.9985, 1.9985, 1.9985, 1.9985, 1.9985, 1.9985, 1.9985, 1.9985, 1.9985, 1.9985, 1.9985, 1.9985, 1.9985, 1.9985, 1.9985, 1.9382, 1.9288, 1.9283, 1.8504, 1.7012, 1.868, 1.6479, 1.7356, 1.308, 1.4181, 1.7087, 1.7004, 1.6896, 1.1339, 1.5588, 1.5611, 1.5338, 1.1012, 0.7567, -0.5631, 0.7983, 0.2181, 0.4897, 0.5008, -0.1119, 0.5447, 1.2053, 1.1007, 2.7006, 2.7006, 2.7006, 2.7002, 2.5904, 2.422, 2.422, 2.422, 2.422, 2.422, 2.422, 2.422, 2.422, 2.422, 2.422, 2.422, 2.422, 2.422, 2.422, 2.422, 2.422, 2.422, 2.422, 2.422, 2.422, 2.422, 2.422, 2.422, 2.422, 2.422, 2.4029, 2.3662, 2.356, 2.188, 2.0644, 1.6567, 1.5236, 0.7973, 1.6223, 0.9001, 1.222, 1.1433, 0.0555, -0.7994, 0.676, 0.9183, 1.6279, 1.1896, 1.3961, 0.4797, 1.9282, 1.6913, 1.4041, 1.2119, 1.0966, 2.0917, 2.0685, 2.0172, 2.0095, 1.9808, 1.9808, 1.9798, 1.8836, 1.8836, 1.8835, 1.8833, 1.8833, 1.8828, 1.8725, 1.8519, 1.7594, 1.6518, 1.6518, 1.6518, 1.6518, 1.6518, 1.6518, 1.6518, 1.6518, 1.6518, 1.6518, 1.6518, 1.6518, 1.6518, 1.6518, 1.6331, 1.6191, 1.5764, 1.5836, 1.5834, 1.4661, 1.5694, 1.5672, 1.3078, 1.5375, 1.4096, 1.2923, 1.0481, 1.2073, 0.7346, 0.4736, 1.2134, 0.6431, 1.1732, 1.1583, 0.7837, 0.6532, 1.0978, 1.0194, 0.2337, 0.586, 0.9742, -0.9313, -0.0004, -0.2859, 0.3869, -0.0765, 0.4419, 0.0602, 2.124, 2.0692, 1.9703, 1.9703, 1.9703, 1.9703, 1.9703, 1.9703, 1.9703, 1.9703, 1.9703, 1.97, 1.9699, 1.9658, 1.9374, 1.9343, 1.8869, 1.8733, 1.8399, 1.7618, 1.7347, 1.7347, 1.7347, 1.7347, 1.7347, 1.7347, 1.7347, 1.7347, 1.7347, 1.7347, 1.73, 1.7347, 1.7347, 1.7347, 1.7242, 1.7347, 1.7347, 1.6775, 1.6749, 1.6744, 1.6235, 1.6656, 1.6518, 1.5789, 1.3244, 1.364, 0.9562, -0.4083, 1.1492, 1.1367, 0.3081, 0.7032, 0.2665, 0.8333, 0.4957, 1.0259, 0.2316, 0.1405, 0.6274, -0.121, 0.6851, -0.581, 2.2301, 2.2301, 2.2301, 2.2301, 2.2301, 2.2301, 2.2291, 2.1047, 1.9792, 1.9792, 1.9792, 1.9792, 1.9792, 1.9792, 1.9792, 1.9792, 1.9792, 1.9792, 1.9792, 1.9792, 1.9792, 1.9792, 1.9792, 1.9792, 1.9792, 1.9792, 1.9792, 1.9792, 1.9792, 1.9792, 1.9475, 1.8985, 1.9226, 1.9179, 1.8947, 1.7454, 1.1729, 1.5828, 1.2703, 1.4212, 1.2772, 1.6821, 1.3495, 0.8284, 0.9913, 1.1904, 1.4681, 1.4589, 1.1197, 0.6906, 1.0253, 0.8968, 0.4155, -0.0656, -1.3336, -0.1237, -0.365, 0.9801, 0.7592, 0.6008, 1.178, 0.0871, 1.3045, 1.9259, 1.9259, 1.9257, 1.9256, 1.9256, 1.9195, 1.6912, 1.6912, 1.6912, 1.6912, 1.6912, 1.6912, 1.6912, 1.6912, 1.6912, 1.6912, 1.6912, 1.6912, 1.6912, 1.6912, 1.6912, 1.6912, 1.6912, 1.6912, 1.6912, 1.6912, 1.6912, 1.6912, 1.6912, 1.6912, 1.6898, 1.6729, 1.6727, 1.6582, 1.6364, 1.6363, 1.6316, 1.3934, 1.526, 1.6087, 1.6084, 1.4577, 1.388, 1.0095, 1.3564, 0.9145, 1.4259, 1.1057, 1.4028, 1.0742, 0.7098, 1.3792, 1.1724, 0.861, 0.8243, 0.803, 0.9144, -0.7105, 0.5168, 0.8603, 0.1599, 0.8272, -0.0259, 0.6568, 0.653, 0.4551, 0.4295, 1.0641, -0.0888, 0.7906, 1.9287, 1.831, 1.831, 1.8293, 1.829, 1.8278, 1.7433, 1.7352, 1.6621, 1.5994, 1.5994, 1.5994, 1.5994, 1.5994, 1.5994, 1.5994, 1.5994, 1.5994, 1.5994, 1.5994, 1.5994, 1.5994, 1.5994, 1.5994, 1.5994, 1.5994, 1.5994, 1.5994, 1.5994, 1.5994, 1.5994, 1.5994, 1.5994, 1.5742, 1.5994, 1.4974, 1.5665, 1.4785, 1.4084, 1.5432, 1.4815, 1.5388, 1.5388, 1.531, 1.5169, 1.5167, 1.3439, 1.2488, 1.2336, 1.0442, 1.1526, 0.81, 1.21, 1.3571, 1.3568, 1.2093, 1.2295, 0.8422, 0.7427, 1.0929, 1.169, 0.8055, 0.1979, 0.5727, 0.2322, -0.7952, 0.2847, 0.888, 0.5187, 0.4286, -0.0987, 0.3921, 0.4599, 0.4545, 0.7751, 1.7876, 1.7875, 1.7722, 1.7354, 1.7352, 1.7119, 1.7021, 1.6608, 1.651, 1.6412, 1.6412, 1.6412, 1.6412, 1.6412, 1.6412, 1.6412, 1.6412, 1.6412, 1.6412, 1.6412, 1.6408, 1.6403, 1.6374, 1.6331, 1.5712, 1.568, 1.5474, 1.5191, 1.4974, 1.4469, 1.2415, 1.2581, 0.6275, 1.1302, 0.885, 1.3838, 0.8201, 1.1638, 1.0515, 0.7439, 1.0183, 1.2016, 1.026, 1.3614, 1.1364, 0.4259, 0.7355, 1.0355, 0.6808, 0.5664, -0.1728, 0.2028, 1.4877, 1.438, 1.438, 1.438, 1.4375, 1.4357, 1.4356, 1.3476, 1.3476, 1.3476, 1.3476, 1.3476, 1.3476, 1.3476, 1.3476, 1.3476, 1.3476, 1.3476, 1.3475, 1.3473, 1.3471, 1.3469, 1.3321, 1.3137, 1.3082, 1.3041, 1.2764, 1.2456, 1.2411, 1.2245, 0.886, 1.0929, 1.1734, 0.9437, 1.0767, 1.0481, 1.047, 1.0406, 1.0774, 0.7125, 0.8152, 1.0936, 1.084, 0.3922, 0.876, 0.551, 0.3239, 0.5318, 0.5217, 0.019, 0.057, 0.0353, 0.4407, 0.1195, 0.5432, 0.832, -0.067, 0.0794, 0.2495, 0.6956, 0.7578, 0.4518, 0.7756, 0.7445, 0.4243, 2.6526, 2.4778, 2.4778, 2.4454, 2.2162, 2.2162, 2.2162, 2.2162, 2.2162, 2.2162, 2.2162, 2.2162, 2.2162, 2.2162, 2.2162, 2.2162, 2.2162, 2.2162, 2.2162, 2.2162, 2.2162, 2.2162, 2.2162, 2.2162, 2.2162, 2.2162, 2.2162, 2.2162, 2.2162, 2.2162, 2.1469, 2.1452, 2.1306, 2.13, 1.9554, 1.9152, 1.8854, 1.7187, 1.7159, 1.7031, 1.0894, 0.81, 1.2917, 0.9628, 1.6096, 1.0338, 1.4613, 0.6376, 1.4354, 1.4149, 1.4135, 1.5436, 1.3026, 0.7324, 1.1762, 1.0955, 0.1036, -0.1631, 0.6554, 0.4404, 0.4402, 0.9741]}, \"token.table\": {\"Topic\": [10, 7, 10, 4, 3, 4, 6, 7, 9, 3, 6, 7, 9, 3, 4, 7, 8, 9, 9, 6, 3, 1, 4, 3, 9, 1, 9, 10, 2, 8, 10, 4, 5, 10, 3, 6, 3, 6, 7, 8, 9, 10, 2, 3, 4, 5, 6, 7, 8, 9, 9, 2, 3, 6, 3, 6, 2, 9, 5, 6, 3, 7, 8, 10, 3, 5, 8, 1, 3, 5, 6, 9, 10, 4, 9, 5, 6, 8, 9, 1, 9, 7, 3, 7, 9, 10, 5, 8, 9, 10, 1, 10, 1, 8, 6, 1, 2, 3, 6, 8, 3, 4, 6, 3, 1, 2, 4, 10, 5, 8, 5, 9, 3, 2, 6, 6, 7, 3, 9, 3, 4, 9, 10, 2, 7, 9, 10, 2, 1, 3, 4, 9, 10, 3, 4, 3, 4, 8, 3, 3, 9, 10, 4, 6, 7, 5, 9, 8, 5, 7, 5, 6, 7, 7, 7, 5, 4, 5, 5, 1, 3, 6, 1, 3, 4, 6, 7, 8, 9, 3, 7, 2, 4, 6, 8, 9, 4, 6, 7, 8, 9, 5, 3, 4, 5, 6, 9, 10, 1, 8, 3, 6, 9, 4, 7, 10, 6, 1, 2, 1, 3, 5, 6, 7, 8, 9, 10, 7, 5, 9, 1, 7, 9, 10, 9, 1, 3, 5, 7, 8, 3, 5, 8, 3, 6, 3, 4, 8, 7, 7, 9, 3, 4, 7, 8, 9, 10, 7, 10, 1, 5, 7, 3, 4, 1, 3, 5, 8, 9, 10, 1, 2, 4, 6, 8, 9, 3, 5, 6, 9, 6, 1, 4, 6, 7, 10, 5, 7, 1, 4, 6, 7, 9, 2, 10, 10, 1, 2, 4, 6, 7, 10, 7, 4, 10, 4, 7, 8, 7, 10, 1, 3, 4, 5, 8, 5, 8, 2, 7, 3, 8, 9, 9, 8, 9, 6, 7, 3, 1, 9, 5, 5, 7, 5, 3, 4, 6, 1, 3, 1, 7, 1, 5, 7, 8, 9, 4, 4, 7, 9, 1, 2, 5, 7, 10, 2, 3, 4, 6, 7, 7, 8, 8, 3, 9, 6, 2, 10, 8, 7, 2, 5, 7, 9, 10, 1, 1, 5, 9, 7, 8, 10, 1, 2, 3, 4, 6, 7, 8, 9, 10, 3, 9, 2, 2, 1, 2, 9, 5, 6, 2, 2, 9, 2, 6, 8, 3, 5, 6, 9, 6, 7, 2, 3, 4, 9, 3, 5, 6, 8, 9, 8, 7, 9, 1, 7, 8, 9, 1, 3, 4, 5, 8, 9, 10, 5, 2, 3, 4, 5, 6, 7, 9, 10, 10, 3, 6, 10, 10, 5, 2, 5, 6, 7, 9, 10, 4, 5, 6, 8, 9, 10, 8, 6, 9, 4, 3, 5, 6, 9, 4, 6, 7, 10, 4, 6, 7, 7, 1, 4, 3, 4, 6, 7, 9, 10, 1, 9, 10, 1, 2, 3, 4, 5, 6, 7, 8, 9, 10, 8, 6, 2, 7, 10, 3, 6, 9, 6, 7, 8, 10, 6, 3, 3, 3, 6, 7, 8, 10, 6, 10, 1, 4, 5, 6, 7, 8, 9, 10, 1, 4, 7, 8, 9, 7, 9, 4, 6, 2, 4, 6, 9, 7, 3, 6, 8, 1, 1, 6, 8, 9, 2, 3, 4, 8, 9, 1, 2, 3, 4, 7, 8, 9, 3, 5, 9, 4, 7, 3, 2, 3, 8, 3, 3, 6, 9, 10, 9, 3, 8, 9, 6, 5, 9, 4, 1, 9, 6, 2, 3, 5, 6, 7, 8, 10, 10, 4, 7, 5, 7, 9, 1, 4, 6, 7, 9, 10, 3, 10, 3, 4, 2, 5, 8, 9, 1, 3, 4, 5, 6, 7, 8, 9, 3, 4, 5, 6, 7, 9, 10, 9, 2, 3, 1, 8, 1, 2, 3, 7, 8, 1, 10, 3, 8, 10, 7, 3, 4, 7, 8, 9, 10, 2, 7, 8, 10, 6, 4, 5, 7, 8, 9, 10, 10, 10, 3, 4, 5, 6, 7, 8, 9, 10, 1, 2, 8, 9, 5, 1, 6, 8, 10, 1, 3, 7, 8, 9, 5, 9, 2, 5, 3, 2, 4, 8, 1, 2, 7, 1, 3, 4, 10, 8, 10, 6, 10, 7, 5, 6, 7, 8, 5, 5, 6, 2, 6, 2, 3, 6, 2, 3, 4, 5, 6, 7, 8, 9, 10, 8, 5, 7, 9, 1, 3, 4, 7, 8, 9, 10, 1, 1, 2, 3, 6, 7, 9, 2, 4, 6, 7, 8, 9, 1, 8, 7, 2, 3, 4, 5, 6, 9, 10, 5, 7, 5, 6, 6, 8, 9, 3, 5, 6, 9, 3, 5, 8, 9, 5, 6, 7, 8, 9, 10, 6, 1, 4, 6, 7, 8, 3, 9, 1, 3, 4, 6, 7, 8, 4, 3, 4, 7, 9, 3, 2, 10, 6, 2, 1, 4, 6, 8, 7, 2, 4, 9, 6, 7, 8, 3, 5, 4, 5, 8, 1, 10, 4, 6, 7, 8, 9, 5, 7, 9, 10, 3, 4, 7, 8, 9, 10, 1, 4, 5, 8, 5, 5, 2, 3, 5, 6, 7, 8, 2, 3, 4, 6, 7, 9, 5, 9, 10, 4, 7, 1, 5, 4, 3, 7, 4, 5, 10, 5, 7, 8, 9, 3, 1, 4, 9, 9, 10, 10, 9, 3, 6, 8, 10, 8, 9, 3, 6, 7, 5, 10, 6, 1, 3, 7, 10, 6, 7, 2, 6, 7, 9, 10, 2, 3, 6, 8, 9, 5, 6, 7, 10, 5, 2, 8, 10, 3, 4, 6, 8, 9, 8, 2, 3, 4, 6, 9, 5, 4, 5, 6, 7, 8, 9, 7, 2, 4, 10, 2, 8, 4, 4, 7, 1, 6, 5, 7, 9, 10, 5, 6, 9, 2, 1, 3, 4, 5, 6, 9, 10, 1, 4, 8, 9, 1, 8, 6, 9, 3, 4, 7, 9, 10, 4, 9, 9, 1, 2, 3, 4, 5, 6, 7, 8, 9, 4, 6, 7, 10, 8, 4, 4, 1, 3, 4, 5, 7, 8, 9, 3, 6, 8, 9, 4, 7, 8, 10, 1, 6, 8, 1, 4, 5, 8, 2, 3, 6, 9, 5, 7, 8, 9, 6, 4, 9, 1, 2, 3, 4, 5, 7, 8, 9, 10, 1, 4, 5, 6, 2, 9, 1, 6, 4, 3, 4, 6, 7, 8, 9, 2, 5, 8, 9, 3, 8, 2, 2, 1, 5, 6, 7, 8, 9, 10, 3, 6, 2, 4, 10, 1, 8, 10, 8, 1, 2, 6, 8, 10, 3, 8, 2, 1, 7, 4, 8, 2, 10, 3, 4, 7, 8, 9, 8, 9, 2, 7, 1, 5, 3, 9, 4, 8, 2, 5, 4, 4, 7, 2, 6, 10, 1, 4, 4, 6, 7, 6, 7, 9, 3, 1, 7, 9, 6, 10, 1, 2, 3, 4, 10, 4, 3, 7, 2, 3, 4, 5, 6, 7, 8, 9, 2, 6, 7, 2, 1, 10, 4, 8, 10, 4, 8, 2, 4], \"Freq\": [0.7398153756672925, 0.6793542983353613, 0.739815384600861, 0.9095684462378862, 0.14542222982994135, 0.14542222982994135, 0.14542222982994135, 0.2908444596598827, 0.2908444596598827, 0.23601471961654552, 0.11800735980827276, 0.3540220794248183, 0.3540220794248183, 0.17190429490497028, 0.08595214745248514, 0.17190429490497028, 0.34380858980994056, 0.2578564423574554, 0.8452522741263466, 0.9061092972664426, 0.8954088578508825, 0.28162406138864327, 0.5632481227772865, 0.6539563102064283, 0.32697815510321415, 0.22213864944309977, 0.6664159483292993, 0.22213864944309977, 0.774411378254864, 0.36127318384724255, 0.36127318384724255, 0.6859633265639072, 0.483107772413046, 0.7398154068650175, 0.8958799558405997, 0.6839978958439011, 0.13009531925035306, 0.13009531925035306, 0.13009531925035306, 0.13009531925035306, 0.3902859577510592, 0.13009531925035306, 0.04895351820501734, 0.09790703641003468, 0.09790703641003468, 0.04895351820501734, 0.24476759102508666, 0.146860554615052, 0.09790703641003468, 0.19581407282006935, 0.9401826765535086, 0.7744114142021546, 0.5370541481741626, 0.5370541481741626, 0.7158935055123422, 0.20454100157495494, 0.28905250608135274, 0.28905250608135274, 0.7176962687483048, 0.6839978754393197, 0.18687691109034185, 0.18687691109034185, 0.5606307332710255, 0.7398153755036673, 0.4496803970494386, 0.2248401985247193, 0.2248401985247193, 0.13839113934902417, 0.27678227869804833, 0.13839113934902417, 0.13839113934902417, 0.13839113934902417, 0.13839113934902417, 0.36379477832112794, 0.5456921674816919, 0.09903214902703131, 0.2970964470810939, 0.09903214902703131, 0.4951607451351565, 0.21314634700420296, 0.6394390410126088, 0.8979824233193973, 0.06559433098435835, 0.5247546478748668, 0.32797165492179176, 0.06559433098435835, 0.09471583087841678, 0.6630108161489175, 0.09471583087841678, 0.09471583087841678, 0.728600010392203, 0.7398153890729413, 0.3494142238152084, 0.3494142238152084, 0.6839978997363084, 0.15516584201828587, 0.15516584201828587, 0.31033168403657174, 0.15516584201828587, 0.15516584201828587, 0.19276400883489309, 0.38552801766978617, 0.19276400883489309, 0.6684445232571797, 0.2424018079237077, 0.2424018079237077, 0.4848036158474154, 0.739815395202927, 0.7176962687483048, 0.6536092097702324, 0.7176962687483048, 0.9406080388086071, 0.6778824248472879, 0.7744113811355708, 0.9061160306711958, 0.6839978741151005, 0.6793543113540733, 0.2532150570857413, 0.7596451712572241, 0.231976659438138, 0.231976659438138, 0.231976659438138, 0.231976659438138, 0.23090066963131148, 0.23090066963131148, 0.46180133926262296, 0.23090066963131148, 0.7744113702209551, 0.7180316501087984, 0.10590483220625597, 0.10590483220625597, 0.7413338254437918, 0.10590483220625597, 0.2703941161480596, 0.5407882322961192, 0.11815624316600075, 0.11815624316600075, 0.7089374589960045, 0.9492487733650761, 0.22710056272130139, 0.45420112544260277, 0.22710056272130139, 0.33622576030472007, 0.16811288015236003, 0.33622576030472007, 0.25856867494090857, 0.7757060248227258, 0.8777808126446955, 0.46981742403374943, 0.46981742403374943, 0.2747991230983651, 0.5495982461967301, 0.2747991230983651, 0.6793543139164733, 0.6793543181542194, 0.7176962664069005, 0.9095684492006967, 0.7176962687483048, 0.7176962687483048, 0.27972572107937754, 0.27972572107937754, 0.27972572107937754, 0.03734906780072781, 0.22409440680436685, 0.11204720340218342, 0.07469813560145562, 0.14939627120291124, 0.2987925424058225, 0.11204720340218342, 0.33493787607764214, 0.6698757521552843, 0.13384685048774697, 0.26769370097549394, 0.13384685048774697, 0.26769370097549394, 0.26769370097549394, 0.06875220810454664, 0.1375044162090933, 0.2750088324181866, 0.4125132486272799, 0.06875220810454664, 0.717696258681636, 0.15253257592531796, 0.15253257592531796, 0.15253257592531796, 0.30506515185063593, 0.15253257592531796, 0.15253257592531796, 0.35090514566037795, 0.35090514566037795, 0.31859658337332347, 0.15929829168666174, 0.47789487505998524, 0.2871012200827954, 0.2871012200827954, 0.2871012200827954, 0.6839978754393197, 0.7180316396869777, 0.7744113851243714, 0.08837405031565132, 0.08837405031565132, 0.08837405031565132, 0.08837405031565132, 0.26512215094695396, 0.08837405031565132, 0.26512215094695396, 0.08837405031565132, 0.8978442740461586, 0.7176962687483048, 0.8452446909576167, 0.23570749240647051, 0.23570749240647051, 0.23570749240647051, 0.23570749240647051, 0.845244684042381, 0.15344356925574923, 0.15344356925574923, 0.23016535388362383, 0.15344356925574923, 0.23016535388362383, 0.13125733483712834, 0.13125733483712834, 0.78754400902277, 0.8954149315831641, 0.6839978754393197, 0.3776547798313794, 0.1888273899156897, 0.3776547798313794, 0.8979820535202288, 0.6553344911172307, 0.32766724555861537, 0.11985093933484578, 0.23970187866969156, 0.11985093933484578, 0.11985093933484578, 0.3595528180045373, 0.11985093933484578, 0.6793543085968844, 0.7398153989304755, 0.27935335350909124, 0.27935335350909124, 0.5587067070181825, 0.6684446155968099, 0.6859633265639072, 0.1133462044304707, 0.05667310221523535, 0.05667310221523535, 0.5100579199371181, 0.1133462044304707, 0.17001930664570605, 0.2535110746118889, 0.0845036915372963, 0.0845036915372963, 0.0845036915372963, 0.4225184576864815, 0.1690073830745926, 0.34286221712305015, 0.34286221712305015, 0.17143110856152508, 0.17143110856152508, 0.6839978882772046, 0.7180316385966437, 0.6792947005263084, 0.3396473502631542, 0.47030162372946355, 0.23515081186473177, 0.34437646811287465, 0.6887529362257493, 0.11843491517139294, 0.11843491517139294, 0.11843491517139294, 0.2368698303427859, 0.35530474551417884, 0.650340975417058, 0.325170487708529, 0.7398154087026891, 0.18250918287312357, 0.18250918287312357, 0.18250918287312357, 0.18250918287312357, 0.18250918287312357, 0.18250918287312357, 0.6793543181542194, 0.9095684241673833, 0.7398153890729413, 0.6770065441168687, 0.33850327205843433, 0.8776535505860895, 0.5528556994898126, 0.2764278497449063, 0.15325310281855944, 0.3065062056371189, 0.3065062056371189, 0.15325310281855944, 0.15325310281855944, 0.7176962687483048, 0.8776535346625458, 0.38130978403708476, 0.38130978403708476, 0.12791119022358263, 0.6395559511179132, 0.25582238044716527, 0.9401774976099114, 0.8776565623915275, 0.9401773862889736, 0.6839978754393197, 0.6793543153969122, 0.6778824248472879, 0.48341178735332224, 0.8452446751933635, 0.7176962687483048, 0.27929947958005064, 0.5585989591601013, 0.7176962687483048, 0.6778824248472879, 0.9095684592004947, 0.6839978754393197, 0.3436917979209077, 0.6873835958418154, 0.35412509480244175, 0.35412509480244175, 0.1701520883896749, 0.1701520883896749, 0.1701520883896749, 0.1701520883896749, 0.1701520883896749, 0.6859633265639072, 0.163166918538052, 0.48950075561415607, 0.326333837076104, 0.2452153831885243, 0.2452153831885243, 0.2452153831885243, 0.2452153831885243, 0.7398154200630247, 0.11348715117501469, 0.22697430235002938, 0.22697430235002938, 0.11348715117501469, 0.45394860470005877, 0.16238901186068258, 0.8119450593034129, 0.8776535346625458, 0.6530370016707986, 0.21767900055693284, 0.6839978997363084, 0.7744114225819071, 0.739815412622904, 0.8776534946204363, 0.6793542983353613, 0.12645350908681197, 0.12645350908681197, 0.37936052726043584, 0.25290701817362393, 0.12645350908681197, 0.7180316555794235, 0.22010204491815294, 0.22010204491815294, 0.6603061347544588, 0.6648409866039386, 0.3324204933019693, 0.7398154010833075, 0.11997025786255472, 0.11997025786255472, 0.11997025786255472, 0.11997025786255472, 0.17995538679383208, 0.11997025786255472, 0.11997025786255472, 0.17995538679383208, 0.05998512893127736, 0.6539707524475004, 0.3269853762237502, 0.7744113744654837, 0.5359040558350826, 0.4745164768204233, 0.1581721589401411, 0.3163443178802822, 0.346770446968329, 0.693540893936658, 0.7744114225819071, 0.4725879851314551, 0.4725879851314551, 0.7744113702209551, 0.5894492379766927, 0.29472461898834634, 0.6778824248472879, 0.3346477281873694, 0.22309848545824626, 0.3346477281873694, 0.9061159813969158, 0.6793543181542194, 0.22580059736340483, 0.22580059736340483, 0.22580059736340483, 0.45160119472680965, 0.08533471018676343, 0.12800206528014516, 0.42667355093381715, 0.042667355093381716, 0.298671485653672, 0.877638491972113, 0.655325790006702, 0.327662895003351, 0.39218904931284926, 0.19609452465642463, 0.39218904931284926, 0.8452660716949627, 0.08048419083839116, 0.2414525725151735, 0.16096838167678232, 0.08048419083839116, 0.16096838167678232, 0.16096838167678232, 0.16096838167678232, 0.7176962687483048, 0.03805758902104047, 0.11417276706312142, 0.07611517804208094, 0.07611517804208094, 0.11417276706312142, 0.2664031231472833, 0.19028794510520236, 0.11417276706312142, 0.739815417575074, 0.28594019888269845, 0.28594019888269845, 0.28594019888269845, 0.7398153890729413, 0.7176962687483048, 0.13509770913414026, 0.13509770913414026, 0.13509770913414026, 0.13509770913414026, 0.40529312740242085, 0.13509770913414026, 0.22192694938600133, 0.11096347469300066, 0.11096347469300066, 0.11096347469300066, 0.332890424079002, 0.11096347469300066, 0.8776535346625458, 0.6839978787505967, 0.8452446909576167, 0.9095684521283981, 0.30037162445134924, 0.15018581222567462, 0.30037162445134924, 0.15018581222567462, 0.1510007849127178, 0.22650117736907668, 0.5285027471945122, 0.0755003924563589, 0.5999677177140719, 0.14999192942851797, 0.14999192942851797, 0.6793543160563054, 0.7287103465073607, 0.6859633265639072, 0.10575485995636566, 0.10575485995636566, 0.21150971991273132, 0.21150971991273132, 0.10575485995636566, 0.21150971991273132, 0.4832897388271671, 0.3557054292064522, 0.3557054292064522, 0.7180316518866703, 0.07895535714281823, 0.07895535714281823, 0.07895535714281823, 0.07895535714281823, 0.07895535714281823, 0.15791071428563647, 0.15791071428563647, 0.31582142857127293, 0.07895535714281823, 0.6536399446176706, 0.6839978958439011, 0.37293268701470145, 0.37293268701470145, 0.37293268701470145, 0.8954060008967947, 0.6839978958439011, 0.8452446751933635, 0.34730901718489937, 0.17365450859244969, 0.17365450859244969, 0.17365450859244969, 0.6839978937548824, 0.6684014896713741, 0.6778824248472879, 0.2241797647856659, 0.11208988239283295, 0.11208988239283295, 0.4483595295713318, 0.11208988239283295, 0.6923719991457857, 0.23079066638192855, 0.06340486255002979, 0.06340486255002979, 0.06340486255002979, 0.06340486255002979, 0.317024312750149, 0.12680972510005958, 0.25361945020011917, 0.06340486255002979, 0.4833755758074256, 0.28974326750831014, 0.14487163375415507, 0.4346149012624652, 0.14487163375415507, 0.6793543092142413, 0.8452787090914314, 0.3391842197906216, 0.6783684395812432, 0.2776018965373803, 0.2776018965373803, 0.2776018965373803, 0.2776018965373803, 0.6793542983353613, 0.8954278005831794, 0.12970026091159076, 0.7782015654695446, 0.7180316555794235, 0.7286400423698076, 0.12897532260934483, 0.773851935656069, 0.12897532260934483, 0.25565514082441193, 0.25565514082441193, 0.12782757041220597, 0.12782757041220597, 0.12782757041220597, 0.09570978564490538, 0.09570978564490538, 0.09570978564490538, 0.09570978564490538, 0.09570978564490538, 0.47854892822452694, 0.09570978564490538, 0.17592858181614662, 0.5277857454484398, 0.17592858181614662, 0.677026569451947, 0.3385132847259735, 0.8954158357750729, 0.1679289465525232, 0.1679289465525232, 0.6717157862100928, 0.6778824248472879, 0.23108625532139518, 0.23108625532139518, 0.23108625532139518, 0.23108625532139518, 0.8452875981954836, 0.1805212083847795, 0.1805212083847795, 0.5415636251543385, 0.6839978754393197, 0.25872486448087073, 0.7761745934426123, 0.9095684518860024, 0.7180316503756051, 0.8452446751933635, 0.6839978751747046, 0.22394056877279309, 0.22394056877279309, 0.11197028438639654, 0.22394056877279309, 0.11197028438639654, 0.11197028438639654, 0.11197028438639654, 0.739815412622904, 0.6859632985250556, 0.8979824457910365, 0.14093237826946353, 0.14093237826946353, 0.7046618913473176, 0.13701088540900894, 0.13701088540900894, 0.2740217708180179, 0.13701088540900894, 0.2740217708180179, 0.13701088540900894, 0.6972127429636662, 0.3486063714818331, 0.6778824155690076, 0.9095547744107453, 0.32901686402425506, 0.16450843201212753, 0.32901686402425506, 0.16450843201212753, 0.040782132471507186, 0.08156426494301437, 0.040782132471507186, 0.040782132471507186, 0.2854749273005503, 0.040782132471507186, 0.2854749273005503, 0.20391066235753594, 0.6778824248472879, 0.07713682112932531, 0.07713682112932531, 0.2314104633879759, 0.15427364225865062, 0.38568410564662653, 0.07713682112932531, 0.9402737404981975, 0.7744113768401417, 0.6778824227584546, 0.3509105745222868, 0.3509105745222868, 0.19580391982224643, 0.06526797327408214, 0.39160783964449286, 0.19580391982224643, 0.13053594654816428, 0.7180316491523384, 0.7398154096362092, 0.20234403290089809, 0.40468806580179617, 0.40468806580179617, 0.6793542983353613, 0.4081520247748607, 0.10203800619371517, 0.10203800619371517, 0.20407601238743034, 0.10203800619371517, 0.10203800619371517, 0.17750265294443968, 0.35500530588887935, 0.35500530588887935, 0.17750265294443968, 0.6839978754393197, 0.16871531829043332, 0.16871531829043332, 0.33743063658086664, 0.16871531829043332, 0.16871531829043332, 0.9212441107532529, 0.739815412622904, 0.7398154002782504, 0.09526130448945193, 0.03175376816315065, 0.2540301453052052, 0.2222763771420545, 0.09526130448945193, 0.2222763771420545, 0.0635075363263013, 0.0635075363263013, 0.16539928981561297, 0.16539928981561297, 0.16539928981561297, 0.4961978694468389, 0.7176962656709763, 0.15564142339337386, 0.46692427018012156, 0.15564142339337386, 0.15564142339337386, 0.1468444937963889, 0.2936889875927778, 0.1468444937963889, 0.2936889875927778, 0.1468444937963889, 0.3454662909610819, 0.3454662909610819, 0.7744113931038115, 0.7176962635961297, 0.6778824248472879, 0.38359967898192676, 0.38359967898192676, 0.8776535346625458, 0.7180316449799696, 0.7744113745163842, 0.6705646392876073, 0.5914330223190002, 0.08449043175985717, 0.2534712952795715, 0.08449043175985717, 0.5413154490756864, 0.2706577245378432, 0.703682122073076, 0.351841061036538, 0.6793543120134665, 0.27133123868820497, 0.13566561934410248, 0.13566561934410248, 0.40699685803230745, 0.7176962627613143, 0.3552188880891628, 0.3552188880891628, 0.5359505400085858, 0.6839978958439011, 0.774411396996919, 0.796951506647591, 0.13282525110793184, 0.086269593919853, 0.172539187839706, 0.086269593919853, 0.172539187839706, 0.172539187839706, 0.086269593919853, 0.172539187839706, 0.086269593919853, 0.086269593919853, 0.87765354069909, 0.22348844866918038, 0.22348844866918038, 0.44697689733836077, 0.10107010969045539, 0.30321032907136614, 0.1347601462539405, 0.1347601462539405, 0.10107010969045539, 0.20214021938091079, 0.7398153890729413, 0.7180316519304291, 0.17213920217662917, 0.17213920217662917, 0.34427840435325835, 0.17213920217662917, 0.17213920217662917, 0.17213920217662917, 0.11291447015582506, 0.22582894031165013, 0.11291447015582506, 0.11291447015582506, 0.22582894031165013, 0.22582894031165013, 0.39302393044533157, 0.39302393044533157, 0.6793543004751932, 0.08188329921888227, 0.12282494882832339, 0.12282494882832339, 0.16376659843776453, 0.08188329921888227, 0.24564989765664677, 0.12282494882832339, 0.48310777512583025, 0.6793543062285265, 0.4831077660981922, 0.6839978587437208, 0.5245280149669937, 0.2622640074834969, 0.2622640074834969, 0.19146066120124447, 0.19146066120124447, 0.19146066120124447, 0.38292132240248894, 0.16047332023620486, 0.16047332023620486, 0.16047332023620486, 0.4814199607086146, 0.2547897617976886, 0.06369744044942215, 0.19109232134826645, 0.1273948808988443, 0.31848720224711075, 0.06369744044942215, 0.6839978754393197, 0.3463012619093201, 0.23086750793954675, 0.11543375396977337, 0.11543375396977337, 0.23086750793954675, 0.2100404161597508, 0.6301212484792524, 0.13401615735395755, 0.20102423603093636, 0.06700807867697878, 0.13401615735395755, 0.20102423603093636, 0.2680323147079151, 0.9095684492006967, 0.1638239641331334, 0.24573594619970013, 0.40955991033283357, 0.24573594619970013, 0.8871447796769467, 0.3996435577966203, 0.3996435577966203, 0.6839978754393197, 0.7744113702209551, 0.13554239208244315, 0.2710847841648863, 0.4066271762473294, 0.13554239208244315, 0.8979775183593035, 0.350011726616816, 0.350011726616816, 0.350011726616816, 0.3799805941420067, 0.3799805941420067, 0.18999029707100334, 0.3535653955085318, 0.3535653955085318, 0.7552137830306443, 0.15104275660612887, 0.15104275660612887, 0.4834117761473559, 0.5033689754654616, 0.13082166034916543, 0.26164332069833085, 0.13082166034916543, 0.3924649810474963, 0.13082166034916543, 0.40311034723821554, 0.20155517361910777, 0.20155517361910777, 0.20155517361910777, 0.13122109595039919, 0.19683164392559876, 0.06561054797519959, 0.19683164392559876, 0.3280527398759979, 0.06561054797519959, 0.15238543586315292, 0.6095417434526117, 0.15238543586315292, 0.15238543586315292, 0.48310780250696617, 0.7176962520947268, 0.11570942977964876, 0.11570942977964876, 0.23141885955929753, 0.23141885955929753, 0.23141885955929753, 0.23141885955929753, 0.07050946551661888, 0.21152839654985664, 0.3525473275830944, 0.14101893103323776, 0.07050946551661888, 0.14101893103323776, 0.7176962687483048, 0.8452446791685293, 0.739815412622904, 0.6859633265639072, 0.6793543181542194, 0.3641839826437974, 0.3641839826437974, 0.9095684300482122, 0.3349378680493718, 0.6698757360987436, 0.9095684462378862, 0.7176962547025565, 0.7398153940985535, 0.16057043023248757, 0.16057043023248757, 0.16057043023248757, 0.48171129069746277, 0.8954149171174812, 0.7180316461931295, 0.6859633265639072, 0.7470913870979374, 0.35570533969449675, 0.35570533969449675, 0.7398154036706802, 0.9402130400053624, 0.4859058562564191, 0.12147646406410477, 0.24295292812820954, 0.12147646406410477, 0.20854363238471663, 0.6256308971541499, 0.33389673718590884, 0.33389673718590884, 0.33389673718590884, 0.4831077788419777, 0.739815412622904, 0.6839978754393197, 0.27915254699640646, 0.27915254699640646, 0.27915254699640646, 0.5033689754654616, 0.6751117669713078, 0.3375558834856539, 0.10218798620054365, 0.30656395860163094, 0.10218798620054365, 0.4087519448021746, 0.10218798620054365, 0.11102869415945678, 0.33308608247837035, 0.11102869415945678, 0.33308608247837035, 0.11102869415945678, 0.19666230034128807, 0.09833115017064403, 0.5899869010238642, 0.09833115017064403, 0.7176962654045508, 0.1854186613421735, 0.370837322684347, 0.5562559840265205, 0.09715295552616282, 0.09715295552616282, 0.09715295552616282, 0.19430591105232564, 0.5829177331569769, 0.7811017663438067, 0.11998409955533193, 0.23996819911066386, 0.23996819911066386, 0.11998409955533193, 0.35995229866599576, 0.7176962687483048, 0.13181791706327384, 0.06590895853163692, 0.09886343779745536, 0.4613627097214584, 0.03295447926581846, 0.19772687559491073, 0.6793542983353613, 0.2409928199206351, 0.4819856398412702, 0.2409928199206351, 0.1924572381405085, 0.769828952562034, 0.8150062331018494, 0.9094179696146457, 0.6793543061866086, 0.7180316522325436, 0.6839978754393197, 0.17405863222396648, 0.17405863222396648, 0.34811726444793295, 0.17405863222396648, 0.48307375681002834, 0.6596536322616868, 0.3298268161308434, 0.774411396996919, 0.06434496801515355, 0.1286899360303071, 0.06434496801515355, 0.06434496801515355, 0.2573798720606142, 0.3217248400757677, 0.19303490404546061, 0.71803164163309, 0.5674556902272909, 0.1891518967424303, 0.1891518967424303, 0.7180316396869777, 0.7811025380266214, 0.6596457395880853, 0.32982286979404263, 0.7966592912615951, 0.05311061941743968, 0.05311061941743968, 0.05311061941743968, 0.05311061941743968, 0.435825394068712, 0.435825394068712, 0.8452446909576167, 0.04522931701569881, 0.00904586340313976, 0.04522931701569881, 0.06332104382197833, 0.01809172680627952, 0.05427518041883857, 0.05427518041883857, 0.2623300386910531, 0.46133903356012784, 0.3391826499809416, 0.6783652999618832, 0.6793543010926684, 0.7398153890729413, 0.8776252339292817, 0.9095562782186462, 0.6802933922962725, 0.14338849458488384, 0.14338849458488384, 0.14338849458488384, 0.21508274187732573, 0.21508274187732573, 0.07169424729244192, 0.14338849458488384, 0.14446359552008844, 0.2889271910401769, 0.2889271910401769, 0.2889271910401769, 0.6859632984823181, 0.6769596274392321, 0.16923990685980803, 0.16923990685980803, 0.6449800440171614, 0.2579920176068646, 0.1289960088034323, 0.3234364772423139, 0.2156243181615426, 0.2156243181615426, 0.2156243181615426, 0.12217212261666577, 0.24434424523333154, 0.12217212261666577, 0.3665163678499973, 0.2256825609037049, 0.2256825609037049, 0.2256825609037049, 0.2256825609037049, 0.9061330477319313, 0.6614750612841052, 0.3307375306420526, 0.06168860702224165, 0.030844303511120826, 0.18506582106672495, 0.06168860702224165, 0.06168860702224165, 0.06168860702224165, 0.33928733862232907, 0.18506582106672495, 0.06168860702224165, 0.2363192532972666, 0.2363192532972666, 0.2363192532972666, 0.2363192532972666, 0.5359505417889693, 0.8452446909576167, 0.48338110408392626, 0.9061388960246215, 0.6859633265639072, 0.08598380218666972, 0.08598380218666972, 0.17196760437333944, 0.08598380218666972, 0.25795140656000914, 0.25795140656000914, 0.2798288619391889, 0.2798288619391889, 0.2798288619391889, 0.2798288619391889, 0.6634332997402219, 0.33171664987011096, 0.7744113824958239, 0.774411396996919, 0.26328338645382293, 0.06582084661345573, 0.06582084661345573, 0.26328338645382293, 0.06582084661345573, 0.19746253984036718, 0.13164169322691147, 0.6778824248472879, 0.6839978754393197, 0.774411396996919, 0.5594493645006627, 0.27972468225033137, 0.46263249362772874, 0.46263249362772874, 0.7398153984335752, 0.8776535346625458, 0.18231997026984448, 0.18231997026984448, 0.18231997026984448, 0.36463994053968896, 0.18231997026984448, 0.6634358302737993, 0.33171791513689963, 0.5359505417889693, 0.7180316402557668, 0.6793542983353613, 0.26310040558775144, 0.5262008111755029, 0.7744113702209551, 0.7398153890729413, 0.6778824248472879, 0.6762576661321131, 0.22541922204403772, 0.5148784744337099, 0.25743923721685497, 0.8776534856464795, 0.8452446710299532, 0.7744113942163706, 0.6793543181542194, 0.7180316490732717, 0.7176962687483048, 0.6542040675986389, 0.32710203379931946, 0.6859633265639072, 0.8776535123417222, 0.7744113741140626, 0.48310777512583025, 0.6859633265639072, 0.6859633265639072, 0.6793542983353613, 0.774411396996919, 0.2498660631304916, 0.7495981893914748, 0.4833951327967769, 0.6859633265639072, 0.1921609831669886, 0.3843219663339772, 0.3843219663339772, 0.3266753610072807, 0.3266753610072807, 0.3266753610072807, 0.6778824248472879, 0.7180316458593243, 0.6793542983353613, 0.8452446909576167, 0.7034221490859455, 0.35171107454297273, 0.20575847867893793, 0.20575847867893793, 0.41151695735787586, 0.20575847867893793, 0.20575847867893793, 0.6859632998614245, 0.6778824248472879, 0.6793543181542194, 0.05331661530716713, 0.21326646122866852, 0.15994984592150138, 0.10663323061433426, 0.05331661530716713, 0.10663323061433426, 0.15994984592150138, 0.15994984592150138, 0.7744114062404966, 0.33642401773215413, 0.6728480354643083, 0.7744113702209551, 0.7392498628626746, 0.24641662095422487, 0.22542900746287586, 0.4508580149257517, 0.22542900746287586, 0.6711432582490531, 0.33557162912452654, 0.7744113702209551, 0.6859633265639072], \"Term\": [\"2.3.a\", \"2.9.1.2\", \"absolute\", \"abuse\", \"access\", \"access\", \"access\", \"access\", \"access\", \"accord\", \"accord\", \"accord\", \"accord\", \"accordance\", \"accordance\", \"accordance\", \"accordance\", \"accordance\", \"accountability\", \"accredit\", \"acknowledgment\", \"acquisition\", \"acquisition\", \"acting\", \"acting\", \"activity\", \"activity\", \"activity\", \"adhere\", \"administration\", \"administration\", \"advertise\", \"affirmation\", \"affirmative\", \"african\", \"agenda\", \"agree\", \"agree\", \"agree\", \"agree\", \"agree\", \"agree\", \"agreement\", \"agreement\", \"agreement\", \"agreement\", \"agreement\", \"agreement\", \"agreement\", \"agreement\", \"agricultural\", \"allowance\", \"amendment\", \"amendment\", \"amnesty\", \"amnesty\", \"and/or\", \"and/or\", \"announce\", \"anywhere\", \"appoint\", \"appoint\", \"appoint\", \"appointee\", \"appointment\", \"appointment\", \"appointment\", \"appropriate\", \"appropriate\", \"appropriate\", \"appropriate\", \"appropriate\", \"appropriate\", \"area\", \"area\", \"arm\", \"arm\", \"arm\", \"arm\", \"arrangement\", \"arrangement\", \"arrest\", \"article\", \"article\", \"article\", \"article\", \"assembly\", \"assembly\", \"assembly\", \"assembly\", \"assign\", \"attach\", \"attain\", \"attain\", \"attend\", \"authorities\", \"authorities\", \"authorities\", \"authorities\", \"authorities\", \"authority\", \"authority\", \"authority\", \"barrack\", \"base\", \"base\", \"base\", \"batch\", \"belief\", \"bench\", \"birth\", \"borrowing\", \"bound\", \"bracket\", \"breach\", \"brigade\", \"cabinet\", \"capacity\", \"capacity\", \"carry\", \"carry\", \"carry\", \"carry\", \"case\", \"case\", \"case\", \"case\", \"category\", \"cease\", \"ceasefire\", \"ceasefire\", \"ceasefire\", \"ceasefire\", \"centre\", \"centre\", \"chairperson\", \"chairperson\", \"chairperson\", \"chamber\", \"chapter\", \"chapter\", \"chapter\", \"charge\", \"charge\", \"charge\", \"child\", \"child\", \"circumstances\", \"citizen\", \"citizen\", \"civilian\", \"civilian\", \"civilian\", \"civility\", \"clarification\", \"clerk\", \"climate\", \"color\", \"colour\", \"commence\", \"commence\", \"commence\", \"commission\", \"commission\", \"commission\", \"commission\", \"commission\", \"commission\", \"commission\", \"commissioner\", \"commissioner\", \"commit\", \"commit\", \"commit\", \"commit\", \"commit\", \"committee\", \"committee\", \"committee\", \"committee\", \"committee\", \"communique\\u0301\", \"community\", \"community\", \"community\", \"community\", \"community\", \"community\", \"composition\", \"composition\", \"concern\", \"concern\", \"concern\", \"conclusion\", \"conclusion\", \"conclusion\", \"concurrent\", \"confer\", \"confirm\", \"conflict\", \"conflict\", \"conflict\", \"conflict\", \"conflict\", \"conflict\", \"conflict\", \"conflict\", \"congo\", \"conscience\", \"consensus\", \"consider\", \"consider\", \"consider\", \"consider\", \"constituency\", \"constitution\", \"constitution\", \"constitution\", \"constitution\", \"constitution\", \"constitutional\", \"constitutional\", \"constitutional\", \"construe\", \"consult\", \"consultation\", \"consultation\", \"consultation\", \"contract\", \"contribute\", \"contribute\", \"control\", \"control\", \"control\", \"control\", \"control\", \"control\", \"conviviality\", \"convoy\", \"cooperation\", \"cooperation\", \"cooperation\", \"correctional\", \"corrupt\", \"council\", \"council\", \"council\", \"council\", \"council\", \"council\", \"court\", \"court\", \"court\", \"court\", \"court\", \"court\", \"crime\", \"crime\", \"crime\", \"crime\", \"criminalization\", \"crop\", \"crossing\", \"crossing\", \"cultural\", \"cultural\", \"culture\", \"culture\", \"darfur\", \"darfur\", \"darfur\", \"darfur\", \"darfur\", \"december\", \"december\", \"decentralize\", \"define\", \"define\", \"define\", \"define\", \"define\", \"define\", \"delegate\", \"delegation\", \"delineate\", \"demilitarise\", \"demilitarise\", \"demobilize\", \"democratic\", \"democratic\", \"deputy\", \"deputy\", \"deputy\", \"deputy\", \"deputy\", \"derogate\", \"designate\", \"detainee\", \"detainee\", \"determine\", \"determine\", \"determine\", \"developing\", \"development\", \"difference\", \"dignify\", \"direction\", \"disadvantage\", \"discharge\", \"disciplinary\", \"discriminate\", \"discrimination\", \"discrimination\", \"dismissal\", \"disposition\", \"dissolution\", \"domestic\", \"drafting\", \"drafting\", \"drug\", \"drug\", \"duty\", \"duty\", \"duty\", \"duty\", \"duty\", \"earlier\", \"economic\", \"economic\", \"economic\", \"effect\", \"effect\", \"effect\", \"effect\", \"eight\", \"election\", \"election\", \"election\", \"election\", \"election\", \"electoral\", \"electoral\", \"elements\", \"eligible\", \"eligible\", \"elucidate\", \"enable\", \"endeavour\", \"english\", \"enhancement\", \"ensure\", \"ensure\", \"ensure\", \"ensure\", \"ensure\", \"entire\", \"equal\", \"equal\", \"equal\", \"equality\", \"equality\", \"escort\", \"establish\", \"establish\", \"establish\", \"establish\", \"establish\", \"establish\", \"establish\", \"establish\", \"establish\", \"establishment\", \"establishment\", \"evasion\", \"exceed\", \"executive\", \"executive\", \"executive\", \"expense\", \"expense\", \"explosion\", \"external\", \"external\", \"factory\", \"family\", \"family\", \"favour\", \"federal\", \"federal\", \"federal\", \"fifth\", \"finally\", \"financial\", \"financial\", \"financial\", \"financial\", \"force\", \"force\", \"force\", \"force\", \"force\", \"formation\", \"freedom\", \"freedom\", \"function\", \"function\", \"function\", \"funds\", \"general\", \"general\", \"general\", \"general\", \"general\", \"general\", \"general\", \"generality\", \"government\", \"government\", \"government\", \"government\", \"government\", \"government\", \"government\", \"government\", \"governorates\", \"grant\", \"grant\", \"grant\", \"great\", \"ground\", \"group\", \"group\", \"group\", \"group\", \"group\", \"group\", \"guarantee\", \"guarantee\", \"guarantee\", \"guarantee\", \"guarantee\", \"guarantee\", \"hearing\", \"hebron\", \"herder\", \"holding\", \"house\", \"house\", \"house\", \"house\", \"human\", \"human\", \"human\", \"human\", \"humanitarian\", \"humanitarian\", \"humanitarian\", \"illegal\", \"illicit\", \"immediate\", \"implementation\", \"implementation\", \"implementation\", \"implementation\", \"implementation\", \"implementation\", \"improvement\", \"inauguration\", \"inauguration\", \"incapacity\", \"include\", \"include\", \"include\", \"include\", \"include\", \"include\", \"include\", \"include\", \"include\", \"inconsistent\", \"incorporation\", \"independent\", \"independent\", \"independent\", \"indigenous\", \"indirect\", \"individual\", \"information\", \"information\", \"information\", \"information\", \"insert\", \"inspection\", \"instance\", \"institution\", \"institution\", \"institution\", \"institution\", \"institution\", \"internal\", \"internal\", \"international\", \"international\", \"international\", \"international\", \"international\", \"international\", \"international\", \"international\", \"inventory\", \"investigation\", \"investigation\", \"investigation\", \"investigation\", \"investiture\", \"ireland\", \"israeli\", \"israeli\", \"issue\", \"issue\", \"issue\", \"issue\", \"itinerary\", \"january\", \"joint\", \"joint\", \"journey\", \"judge\", \"judicial\", \"judicial\", \"judicial\", \"jurisdiction\", \"jurisdiction\", \"jurisdiction\", \"jurisdiction\", \"jurisdiction\", \"justice\", \"justice\", \"justice\", \"justice\", \"justice\", \"justice\", \"justice\", \"language\", \"language\", \"language\", \"large\", \"large\", \"leader\", \"legislature\", \"legislature\", \"legislature\", \"letter\", \"level\", \"level\", \"level\", \"level\", \"loan\", \"local\", \"local\", \"local\", \"locating\", \"location\", \"location\", \"lodge\", \"loyalty\", \"maintain\", \"maintenance\", \"mandate\", \"mandate\", \"mandate\", \"mandate\", \"mandate\", \"mandate\", \"mandate\", \"marginalise\", \"marketplace\", \"maximum\", \"means\", \"means\", \"means\", \"measure\", \"measure\", \"measure\", \"measure\", \"measure\", \"measure\", \"mechanism\", \"mechanism\", \"mediation\", \"medium\", \"meeting\", \"meeting\", \"meeting\", \"meeting\", \"member\", \"member\", \"member\", \"member\", \"member\", \"member\", \"member\", \"member\", \"mental\", \"military\", \"military\", \"military\", \"military\", \"military\", \"military\", \"militia\", \"mines.\\u200e\", \"minimise\", \"mining\", \"mining\", \"minister\", \"minister\", \"minister\", \"minister\", \"minister\", \"misbehavior\", \"miss\", \"mission\", \"mission\", \"mission\", \"monday\", \"monitoring\", \"monitoring\", \"monitoring\", \"monitoring\", \"monitoring\", \"monitoring\", \"month\", \"month\", \"month\", \"month\", \"moral\", \"movement\", \"movement\", \"movement\", \"movement\", \"movement\", \"multi\", \"multilingual\", \"municipality\", \"national\", \"national\", \"national\", \"national\", \"national\", \"national\", \"national\", \"national\", \"natural\", \"natural\", \"natural\", \"natural\", \"ndfss\", \"necessary\", \"necessary\", \"necessary\", \"necessary\", \"nepal\", \"nepal\", \"nepal\", \"nepal\", \"nepal\", \"nominate\", \"nominate\", \"note\", \"notice\", \"notify\", \"notwithstanding\", \"notwithstanding\", \"number\", \"oath\", \"observe\", \"october\", \"office\", \"office\", \"office\", \"office\", \"official\", \"official\", \"operate\", \"operate\", \"opposition\", \"organisation\", \"organisation\", \"organisation\", \"organisation\", \"organize\", \"origin\", \"origin\", \"panel\", \"parallel\", \"parameter\", \"pardon\", \"pardon\", \"parliament\", \"parliament\", \"parliament\", \"parliament\", \"parliament\", \"parliament\", \"parliament\", \"parliament\", \"parliament\", \"parliamentary\", \"particularly\", \"particularly\", \"particularly\", \"party\", \"party\", \"party\", \"party\", \"party\", \"party\", \"passage\", \"patient\", \"peace\", \"peace\", \"peace\", \"peace\", \"peace\", \"peace\", \"people\", \"people\", \"people\", \"people\", \"people\", \"people\", \"perform\", \"perform\", \"permit\", \"person\", \"person\", \"person\", \"person\", \"person\", \"person\", \"person\", \"personnel\", \"petroleum\", \"planning\", \"plenary\", \"point\", \"point\", \"point\", \"police\", \"police\", \"police\", \"police\", \"policy\", \"policy\", \"policy\", \"policy\", \"political\", \"political\", \"political\", \"political\", \"political\", \"political\", \"politics\", \"power\", \"power\", \"power\", \"power\", \"power\", \"prescribe\", \"prescribe\", \"president\", \"president\", \"president\", \"president\", \"president\", \"president\", \"price\", \"principle\", \"principle\", \"principle\", \"principle\", \"prison\", \"prisoner\", \"prisoner\", \"probity\", \"procedural\", \"process\", \"process\", \"process\", \"process\", \"procurement\", \"produce\", \"produce\", \"produce\", \"promote\", \"promote\", \"promote\", \"promotion\", \"promotion\", \"property\", \"property\", \"property\", \"proposal\", \"prosecutor\", \"protect\", \"protect\", \"protect\", \"protect\", \"protect\", \"protection\", \"protection\", \"protection\", \"protection\", \"provide\", \"provide\", \"provide\", \"provide\", \"provide\", \"provide\", \"provision\", \"provision\", \"provision\", \"provision\", \"provisional\", \"provisionally\", \"provisions\", \"provisions\", \"provisions\", \"provisions\", \"provisions\", \"provisions\", \"public\", \"public\", \"public\", \"public\", \"public\", \"public\", \"publication\", \"punishment\", \"racial\", \"range\", \"rassemblement\", \"reason\", \"reason\", \"reception\", \"reconciliation\", \"reconciliation\", \"recovery\", \"recruit\", \"reduce\", \"refer\", \"refer\", \"refer\", \"refer\", \"reference\", \"referral\", \"regularise\", \"regulate\", \"reincorporation\", \"reincorporation\", \"reinforce\", \"reintegration\", \"relate\", \"relate\", \"relate\", \"relate\", \"relation\", \"relation\", \"relevant\", \"relevant\", \"relevant\", \"religion\", \"religious\", \"remains\", \"remove\", \"remove\", \"remove\", \"remuneration\", \"reparation\", \"reparation\", \"report\", \"report\", \"report\", \"report\", \"report\", \"representative\", \"representative\", \"representative\", \"representative\", \"representative\", \"republic\", \"republic\", \"republic\", \"republic\", \"resign\", \"resolution\", \"resolution\", \"resolution\", \"resource\", \"resource\", \"resource\", \"resource\", \"resource\", \"respective\", \"responsibility\", \"responsibility\", \"responsibility\", \"responsibility\", \"responsibility\", \"retirement\", \"right\", \"right\", \"right\", \"right\", \"right\", \"right\", \"roads\", \"route\", \"route\", \"route\", \"rule\", \"rule\", \"rural\", \"safeguard\", \"satisfaction\", \"schedule\", \"search\", \"second\", \"second\", \"second\", \"second\", \"section--\", \"sector\", \"sector\", \"secular\", \"security\", \"security\", \"security\", \"security\", \"security\", \"security\", \"security\", \"seguridad\", \"select\", \"select\", \"select\", \"selling\", \"separate\", \"serious\", \"serious\", \"service\", \"service\", \"service\", \"service\", \"service\", \"services\", \"services\", \"settle\", \"shall\", \"shall\", \"shall\", \"shall\", \"shall\", \"shall\", \"shall\", \"shall\", \"shall\", \"sharing\", \"sharing\", \"signatory\", \"since\", \"sixty\", \"size\", \"small\", \"social\", \"social\", \"social\", \"social\", \"social\", \"social\", \"social\", \"society\", \"society\", \"society\", \"society\", \"soundness\", \"south\", \"south\", \"south\", \"southern\", \"southern\", \"southern\", \"speaker\", \"speaker\", \"speaker\", \"speaker\", \"special\", \"special\", \"special\", \"special\", \"specify\", \"specify\", \"specify\", \"specify\", \"spending\", \"staff\", \"staff\", \"state\", \"state\", \"state\", \"state\", \"state\", \"state\", \"state\", \"state\", \"state\", \"status\", \"status\", \"status\", \"status\", \"statute\", \"still\", \"stocks\", \"stop\", \"strategic\", \"subject\", \"subject\", \"subject\", \"subject\", \"subject\", \"subject\", \"submit\", \"submit\", \"submit\", \"submit\", \"subsection\", \"subsection\", \"subsequent\", \"subsequently\", \"sudan\", \"sudan\", \"sudan\", \"sudan\", \"sudan\", \"sudan\", \"sudan\", \"suffer\", \"summon\", \"supplement\", \"supply\", \"supply\", \"supreme\", \"supreme\", \"suspm\", \"syllabus\", \"system\", \"system\", \"system\", \"system\", \"system\", \"taking\", \"taking\", \"tamil\", \"target\", \"tax\", \"technical\", \"technical\", \"technicality\", \"tenure\", \"thereafter\", \"title\", \"title\", \"training\", \"training\", \"translation\", \"triangle\", \"tribunal\", \"twenty\", \"unable\", \"unfairly\", \"union\", \"union\", \"universal\", \"unofficial\", \"unreasonably\", \"unscr\", \"vacant\", \"vacate\", \"vaccination\", \"vaddukoddai\", \"verification\", \"verification\", \"vest\", \"vet\", \"victim\", \"victim\", \"victim\", \"violation\", \"violation\", \"violation\", \"visiting\", \"waiting\", \"waive\", \"water\", \"wealth\", \"wealth\", \"weapon\", \"weapon\", \"weapon\", \"weapon\", \"weapon\", \"weight\", \"whether\", \"willing\", \"within\", \"within\", \"within\", \"within\", \"within\", \"within\", \"within\", \"within\", \"worker\", \"working\", \"working\", \"workshop\", \"years\", \"years\", \"zimbabwe\", \"zimbabwe\", \"zimbabwe\", \"zone\", \"zone\", \"\\u200eclosure\", \"\\u200e\\u200ethe\"]}, \"R\": 30, \"lambda.step\": 0.01, \"plot.opts\": {\"xlab\": \"PC1\", \"ylab\": \"PC2\"}, \"topic.order\": [1, 2, 3, 4, 5, 6, 7, 8, 9, 10]};\n",
              "\n",
              "function LDAvis_load_lib(url, callback){\n",
              "  var s = document.createElement('script');\n",
              "  s.src = url;\n",
              "  s.async = true;\n",
              "  s.onreadystatechange = s.onload = callback;\n",
              "  s.onerror = function(){console.warn(\"failed to load library \" + url);};\n",
              "  document.getElementsByTagName(\"head\")[0].appendChild(s);\n",
              "}\n",
              "\n",
              "if(typeof(LDAvis) !== \"undefined\"){\n",
              "   // already loaded: just create the visualization\n",
              "   !function(LDAvis){\n",
              "       new LDAvis(\"#\" + \"ldavis_el561400088044248243820116999\", ldavis_el561400088044248243820116999_data);\n",
              "   }(LDAvis);\n",
              "}else if(typeof define === \"function\" && define.amd){\n",
              "   // require.js is available: use it to load d3/LDAvis\n",
              "   require.config({paths: {d3: \"https://cdnjs.cloudflare.com/ajax/libs/d3/3.5.5/d3.min\"}});\n",
              "   require([\"d3\"], function(d3){\n",
              "      window.d3 = d3;\n",
              "      LDAvis_load_lib(\"https://cdn.rawgit.com/bmabey/pyLDAvis/files/ldavis.v1.0.0.js\", function(){\n",
              "        new LDAvis(\"#\" + \"ldavis_el561400088044248243820116999\", ldavis_el561400088044248243820116999_data);\n",
              "      });\n",
              "    });\n",
              "}else{\n",
              "    // require.js not available: dynamically load d3 & LDAvis\n",
              "    LDAvis_load_lib(\"https://cdnjs.cloudflare.com/ajax/libs/d3/3.5.5/d3.min.js\", function(){\n",
              "         LDAvis_load_lib(\"https://cdn.rawgit.com/bmabey/pyLDAvis/files/ldavis.v1.0.0.js\", function(){\n",
              "                 new LDAvis(\"#\" + \"ldavis_el561400088044248243820116999\", ldavis_el561400088044248243820116999_data);\n",
              "            })\n",
              "         });\n",
              "}\n",
              "</script>"
            ],
            "text/plain": [
              "<IPython.core.display.HTML object>"
            ]
          },
          "metadata": {
            "tags": []
          },
          "execution_count": 54
        }
      ]
    }
  ]
}